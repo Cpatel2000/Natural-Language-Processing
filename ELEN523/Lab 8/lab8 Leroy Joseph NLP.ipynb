{
 "cells": [
  {
   "cell_type": "code",
   "execution_count": 1,
   "metadata": {},
   "outputs": [
    {
     "name": "stderr",
     "output_type": "stream",
     "text": [
      "2023-05-25 23:32:25.762081: I tensorflow/tsl/cuda/cudart_stub.cc:28] Could not find cuda drivers on your machine, GPU will not be used.\n",
      "2023-05-25 23:32:25.798244: I tensorflow/tsl/cuda/cudart_stub.cc:28] Could not find cuda drivers on your machine, GPU will not be used.\n",
      "2023-05-25 23:32:25.798764: I tensorflow/core/platform/cpu_feature_guard.cc:182] This TensorFlow binary is optimized to use available CPU instructions in performance-critical operations.\n",
      "To enable the following instructions: AVX2 FMA, in other operations, rebuild TensorFlow with the appropriate compiler flags.\n",
      "2023-05-25 23:32:26.414734: W tensorflow/compiler/tf2tensorrt/utils/py_utils.cc:38] TF-TRT Warning: Could not find TensorRT\n"
     ]
    }
   ],
   "source": [
    "import math\n",
    "import numpy as np\n",
    "import matplotlib.pyplot as plt\n",
    "from tensorflow.keras.preprocessing.text import Tokenizer"
   ]
  },
  {
   "cell_type": "markdown",
   "metadata": {},
   "source": [
    "# 1. Introduction\n",
    "\n",
    "In this lab, you will see the power of word embeddings, and how embeddings can be used in different applications.\n",
    "\n",
    "Summarize the papers that were distributed with the module."
   ]
  },
  {
   "cell_type": "markdown",
   "metadata": {},
   "source": [
    "# Summary of Effective Approaches to Attention-based Neural Machine Translation(1508.04025)\n",
    "This paper, authored by Minh-Thang Luong, Hieu Pham, and Christopher D. Manning, investigates effective approaches to attention-based neural machine translation (NMT). The authors aim to improve the performance and efficiency of NMT systems by proposing novel modifications to the attention mechanism.\n",
    "\n",
    "The paper begins by providing an overview of the attention mechanism, which allows NMT models to focus on different parts of the source sentence during the translation process. The authors discuss the limitations of the standard attention mechanism, such as its computational complexity and difficulties in handling long sentences.\n",
    "\n",
    "To address these limitations, the authors propose several modifications to the attention mechanism. Firstly, they introduce a self-attention mechanism that enables the model to attend to different parts of the source sentence simultaneously. This modification enhances translation quality and helps capture long-range dependencies more effectively.\n",
    "\n",
    "Secondly, the authors propose a coverage mechanism that prevents repeated or neglected translation of certain source words. By keeping track of the attention history, the coverage mechanism encourages the model to attend to less-covered words, leading to improved translation accuracy and reduced translation repetition.\n",
    "\n",
    "Additionally, the authors introduce a combination of local and global attention mechanisms. The local attention mechanism restricts the model's attention to a small window around the current target position, reducing computational burden and enhancing efficiency. The global attention mechanism is employed when attending to the entire source sentence is necessary, ensuring important contextual information is captured.\n",
    "\n",
    "The authors evaluate their proposed approaches using various benchmark datasets and compare them with existing state-of-the-art methods. Experimental results demonstrate that the proposed modifications significantly enhance translation quality while achieving competitive performance with reduced computational costs.\n",
    "\n",
    "In conclusion, this paper presents effective approaches to attention-based NMT, addressing the limitations of the standard attention mechanism and improving translation performance. The proposed modifications, including self-attention, coverage mechanism, and a combination of local and global attention, contribute to improved translation accuracy, reduced repetition, and increased efficiency in NMT systems."
   ]
  },
  {
   "cell_type": "markdown",
   "metadata": {},
   "source": [
    "# Summary of Attention Is All You Need (1706.03762)\n",
    "\n",
    "The paper highlights the limitations of previous sequence-to-sequence models, such as their sequential nature and difficulties in parallelization. The authors propose the Transformer model as an alternative, emphasizing the importance of self-attention, which allows the model to attend to different positions in the input sequence to generate the output.\n",
    "\n",
    "The Transformer architecture consists of an encoder and a decoder, both composed of stacked layers of self-attention and feed-forward neural networks. The self-attention mechanism allows the model to capture relationships between different positions in the input sequence, while the feed-forward networks provide non-linear transformations.\n",
    "\n",
    "To enhance the self-attention mechanism, the authors introduce multi-head attention, where multiple attention functions are executed in parallel. This allows the model to attend to different information at different positions, facilitating better representation learning.\n",
    "\n",
    "The authors conduct extensive experiments on various machine translation tasks and compare the Transformer model's performance against existing state-of-the-art methods. The results demonstrate that the Transformer achieves superior translation quality while also improving training efficiency. The model can handle long-range dependencies more effectively, and its parallelizable nature enables faster training times.\n",
    "\n",
    "Furthermore, the authors analyze the attention patterns learned by the Transformer and find that it exhibits strong linguistic properties. The model can focus on relevant source words during translation and exhibits interpretability in understanding the relationships between different words.\n",
    "\n",
    "In conclusion, this paper presents the Transformer model as a groundbreaking approach for sequence-to-sequence tasks. By relying solely on the attention mechanism, the Transformer achieves superior performance in machine translation while being highly parallelizable and efficient. The authors' proposed architecture represents a significant advancement in the field of neural networks and provides a new perspective on sequence processing tasks."
   ]
  },
  {
   "cell_type": "markdown",
   "metadata": {},
   "source": [
    "# Summary of Deep contextualized word representations(1802.05365)\n",
    "The authors argue that traditional word embeddings, such as Word2Vec or GloVe, fail to capture the nuances of word meanings as they treat each word as a static entity. In contrast, ELMo is a bi-directional language model that takes into account the surrounding context of a word to generate dynamic word representations.\n",
    "\n",
    "The ELMo model is composed of a character-level convolutional neural network (CNN) followed by a bi-directional LSTM (Long Short-Term Memory) network. The character-level CNN captures sub-word information, while the LSTM processes the contextual information by considering both preceding and succeeding words in a sentence.\n",
    "\n",
    "To evaluate the effectiveness of ELMo, the authors conduct experiments on a range of natural language processing (NLP) tasks, including question answering, sentiment analysis, and named entity recognition. The results demonstrate that ELMo consistently outperforms traditional word embeddings, showcasing its ability to capture context-dependent word representations.\n",
    "\n",
    "Furthermore, the authors examine the interpretability of ELMo by analyzing the attention weights of the model. They find that ELMo attends to different parts of the input sentence, aligning with syntactic and semantic cues, thus providing insights into the model's decision-making process.\n",
    "\n",
    "The authors also compare ELMo with other contextual word representation models, such as OpenAI's GPT, and highlight the advantages of ELMo, including its ability to handle out-of-vocabulary words and its compatibility with a wide range of downstream NLP tasks.\n",
    "\n",
    "In conclusion, this paper introduces ELMo as a powerful approach for generating deep contextualized word representations. By considering the surrounding context of a word, ELMo captures the nuances of word meanings and outperforms traditional static word embeddings in various NLP tasks. The authors' work contributes to the advancement of NLP models that can effectively capture the contextual semantics of words."
   ]
  },
  {
   "cell_type": "markdown",
   "metadata": {},
   "source": [
    "# 2. GloVe\n",
    "\n",
    "We will first read imdb movie reviews to train a GloVe embeddings.\n",
    "\n",
    "GloVe is computed from a co-occurrence matrix $X$ as follows:\n",
    "\n",
    "$\n",
    "J = \\sum_{i=1,j=1}^{V,V} f(X_{ij}) (w_i^T w_j + b_i + b_j - log(X_{ij}))^2\n",
    "$\n",
    "\n",
    "$f(X_{ij}) = (X_{ij} / X_{\\max})^\\alpha$ if $X_{ij} < X_{\\max}$; otherwise it is $1$.\n",
    "\n",
    "$\n",
    "\\nabla_{w_i} J = f(X_{ij}) w_j (w_i^T w_j + b_i + b_j - log(X_{ij}))\n",
    "$\n",
    "\n",
    "$\n",
    "\\nabla_{w_j} J = f(X_{ij}) w_i (w_i^T w_j + b_i + b_j - log(X_{ij}))\n",
    "$\n",
    "\n",
    "$\n",
    "\\nabla_{b_i} J = \\nabla_{b_j} J = f(X_{ij}) (w_i^T w_j + b_i + b_j - log(X_{ij}))\n",
    "$"
   ]
  },
  {
   "cell_type": "code",
   "execution_count": 325,
   "metadata": {},
   "outputs": [],
   "source": [
    "from keras import preprocessing\n",
    "from keras.datasets import imdb\n",
    "from random import shuffle"
   ]
  },
  {
   "cell_type": "code",
   "execution_count": 330,
   "metadata": {},
   "outputs": [
    {
     "data": {
      "text/plain": [
       "\"[START] this film was just brilliant casting location scenery story direction everyone's really suited the part they played and you could just imagine being there robert redford's is an amazing actor and now the same being director norman's father came from the same scottish island as myself so i loved the fact there was a real connection with this film the witty remarks throughout the film were great it was just brilliant so much that i bought the film as soon as it was released for retail and would recommend it to everyone to watch and the fly fishing was amazing really cried at the end it was so sad and you know what they say if you cry at a film it must have been good and this definitely was also congratulations to the two little boy's that played the part's of norman and paul they were just brilliant children are often left out of the praising list i think because the stars that play them all grown up are such a big profile for the whole film but these children are amazing and should be praised for what they have done don't you think the whole story was so lovely because it was true and was someone's life after all that was shared with us all\""
      ]
     },
     "execution_count": 330,
     "metadata": {},
     "output_type": "execute_result"
    }
   ],
   "source": [
    "start_char = 1\n",
    "oov_char = 2\n",
    "index_from = 3\n",
    "\n",
    "(x_train, _), _ = imdb.load_data(\n",
    "    start_char=start_char, oov_char=oov_char, index_from=index_from\n",
    ")\n",
    "\n",
    "word_index = imdb.get_word_index()\n",
    "inverted_word_index = dict(\n",
    "    (i + index_from, word) for (word, i) in word_index.items()\n",
    ")\n",
    "# Update `inverted_word_index` to include `start_char` and `oov_char`\n",
    "inverted_word_index[start_char] = \"[START]\"\n",
    "inverted_word_index[oov_char] = \"[OOV]\"\n",
    "vocab_size = max(word_index.values()) + index_from\n",
    "\n",
    "decoded_sequence = \" \".join(inverted_word_index[i] for i in x_train[0])\n",
    "decoded_sequence"
   ]
  },
  {
   "cell_type": "code",
   "execution_count": 331,
   "metadata": {},
   "outputs": [],
   "source": [
    "from tqdm import tqdm\n",
    "import os\n",
    "\n",
    "window = 10\n",
    "left_window = window // 2\n",
    "right_window = window - left_window\n",
    "\n",
    "def gen_X():\n",
    "    if os.path.exists('indexes.npy') and os.path.exists('X.npy'): return\n",
    "    X = np.zeros((vocab_size, vocab_size), dtype=np.float32)\n",
    "    indexes = set()\n",
    "    for s in tqdm(x_train):\n",
    "        for i in range(len(s)):\n",
    "            w = s[i]\n",
    "            j_indexes = np.concatenate([\n",
    "                np.arange(max(0, i - left_window), i),\n",
    "                np.arange(i+1, min(len(s), i + right_window + 1))])\n",
    "            for j in j_indexes:\n",
    "                d = 1.0 / (j - i)\n",
    "                c = s[j]\n",
    "                X[w, c] += d\n",
    "    indexes = []\n",
    "    all_idx = np.arange(vocab_size)\n",
    "    for i in tqdm(range(vocab_size)):\n",
    "        mask = X[i] != 0\n",
    "        if np.sum(mask) == 0: continue\n",
    "        for j in all_idx[mask]:\n",
    "            indexes.append((i, j))\n",
    "\n",
    "    indexes = np.array(indexes, dtype=np.int64)\n",
    "\n",
    "    # generate f function\n",
    "    np.save('X.npy', X.astype(np.float32))\n",
    "    np.save('indexes.npy', indexes)\n",
    "\n",
    "gen_X()"
   ]
  },
  {
   "cell_type": "code",
   "execution_count": 332,
   "metadata": {},
   "outputs": [],
   "source": [
    "embedding_size = 50"
   ]
  },
  {
   "cell_type": "code",
   "execution_count": 333,
   "metadata": {},
   "outputs": [],
   "source": [
    "class Glove(torch.nn.Module):\n",
    "    def __init__(self, vocab_size, embedding_size):\n",
    "        super().__init__()\n",
    "        self.W = torch.nn.Embedding(vocab_size, embedding_size)\n",
    "        self.C = torch.nn.Embedding(vocab_size, embedding_size)\n",
    "        self.b_w = torch.nn.Embedding(vocab_size, 1)\n",
    "        self.b_c = torch.nn.Embedding(vocab_size, 1)\n",
    "\n",
    "    def loss(self, index, Xij, Xmax=1000, alpha=0.75):\n",
    "        i = index[:, 0]\n",
    "        j = index[:, 1]\n",
    "\n",
    "        f = torch.where(Xij < Xmax, torch.pow(Xij / Xmax, alpha), 1)\n",
    "        loss = f * torch.pow(\n",
    "            torch.einsum('ij,ij->i', self.W(i), self.C(j)) +\n",
    "            self.b_w(i) + self.b_c(j) - torch.log10(Xij + 1e-6), 2)\n",
    "        \n",
    "        return loss.mean()"
   ]
  },
  {
   "cell_type": "code",
   "execution_count": 334,
   "metadata": {},
   "outputs": [],
   "source": [
    "glove = Glove(vocab_size, embedding_size)\n",
    "\n",
    "# load but leave vectors in disk\n",
    "X = np.load('X.npy', mmap_mode='r')\n",
    "indexes = np.load('indexes.npy', mmap_mode='r')\n",
    "\n",
    "shuffle_idx = np.arange(len(indexes))\n",
    "np.random.shuffle(shuffle_idx)"
   ]
  },
  {
   "cell_type": "code",
   "execution_count": 337,
   "metadata": {},
   "outputs": [],
   "source": [
    "device = 'cuda'"
   ]
  },
  {
   "cell_type": "code",
   "execution_count": 338,
   "metadata": {},
   "outputs": [
    {
     "name": "stdout",
     "output_type": "stream",
     "text": [
      "... done wth transferring to device\n"
     ]
    }
   ],
   "source": [
    "glove = glove.to(device)\n",
    "\n",
    "print('... done wth transferring to device')"
   ]
  },
  {
   "cell_type": "code",
   "execution_count": 339,
   "metadata": {
    "scrolled": true
   },
   "outputs": [
    {
     "name": "stdout",
     "output_type": "stream",
     "text": [
      "epoch 0\n"
     ]
    },
    {
     "name": "stderr",
     "output_type": "stream",
     "text": [
      "100%|███████████████████████████████████████████████████████████████████████████████| 1405/1405 [02:04<00:00, 11.29it/s]\n"
     ]
    },
    {
     "name": "stdout",
     "output_type": "stream",
     "text": [
      "... 0: 0.06184001161693678 good.bad = -0.16627469658851624\n",
      "epoch 1\n"
     ]
    },
    {
     "name": "stderr",
     "output_type": "stream",
     "text": [
      "100%|███████████████████████████████████████████████████████████████████████████████| 1405/1405 [02:02<00:00, 11.46it/s]\n"
     ]
    },
    {
     "name": "stdout",
     "output_type": "stream",
     "text": [
      "... 1: 0.03283541590982909 good.bad = -0.15351566672325134\n",
      "epoch 2\n"
     ]
    },
    {
     "name": "stderr",
     "output_type": "stream",
     "text": [
      "100%|███████████████████████████████████████████████████████████████████████████████| 1405/1405 [02:07<00:00, 11.05it/s]\n"
     ]
    },
    {
     "name": "stdout",
     "output_type": "stream",
     "text": [
      "... 2: 0.02242573002399711 good.bad = -0.14281664788722992\n",
      "epoch 3\n"
     ]
    },
    {
     "name": "stderr",
     "output_type": "stream",
     "text": [
      "100%|███████████████████████████████████████████████████████████████████████████████| 1405/1405 [02:01<00:00, 11.55it/s]\n"
     ]
    },
    {
     "name": "stdout",
     "output_type": "stream",
     "text": [
      "... 3: 0.016706906055560952 good.bad = -0.13329601287841797\n",
      "epoch 4\n"
     ]
    },
    {
     "name": "stderr",
     "output_type": "stream",
     "text": [
      "100%|███████████████████████████████████████████████████████████████████████████████| 1405/1405 [02:01<00:00, 11.60it/s]\n"
     ]
    },
    {
     "name": "stdout",
     "output_type": "stream",
     "text": [
      "... 4: 0.013116602670547164 good.bad = -0.12452743202447891\n",
      "epoch 5\n"
     ]
    },
    {
     "name": "stderr",
     "output_type": "stream",
     "text": [
      "100%|███████████████████████████████████████████████████████████████████████████████| 1405/1405 [02:01<00:00, 11.57it/s]\n"
     ]
    },
    {
     "name": "stdout",
     "output_type": "stream",
     "text": [
      "... 5: 0.010682313319534275 good.bad = -0.11630827188491821\n",
      "epoch 6\n"
     ]
    },
    {
     "name": "stderr",
     "output_type": "stream",
     "text": [
      "100%|███████████████████████████████████████████████████████████████████████████████| 1405/1405 [02:01<00:00, 11.52it/s]\n"
     ]
    },
    {
     "name": "stdout",
     "output_type": "stream",
     "text": [
      "... 6: 0.008961014386624416 good.bad = -0.1085629016160965\n",
      "epoch 7\n"
     ]
    },
    {
     "name": "stderr",
     "output_type": "stream",
     "text": [
      "100%|███████████████████████████████████████████████████████████████████████████████| 1405/1405 [02:01<00:00, 11.59it/s]\n"
     ]
    },
    {
     "name": "stdout",
     "output_type": "stream",
     "text": [
      "... 7: 0.007684926141477671 good.bad = -0.10127227753400803\n",
      "epoch 8\n"
     ]
    },
    {
     "name": "stderr",
     "output_type": "stream",
     "text": [
      "100%|███████████████████████████████████████████████████████████████████████████████| 1405/1405 [02:01<00:00, 11.54it/s]\n"
     ]
    },
    {
     "name": "stdout",
     "output_type": "stream",
     "text": [
      "... 8: 0.00671821344325657 good.bad = -0.09443525969982147\n",
      "epoch 9\n"
     ]
    },
    {
     "name": "stderr",
     "output_type": "stream",
     "text": [
      "100%|███████████████████████████████████████████████████████████████████████████████| 1405/1405 [02:01<00:00, 11.55it/s]\n"
     ]
    },
    {
     "name": "stdout",
     "output_type": "stream",
     "text": [
      "... 9: 0.005974018669876128 good.bad = -0.08805166184902191\n",
      "epoch 10\n"
     ]
    },
    {
     "name": "stderr",
     "output_type": "stream",
     "text": [
      "100%|███████████████████████████████████████████████████████████████████████████████| 1405/1405 [02:02<00:00, 11.47it/s]\n"
     ]
    },
    {
     "name": "stdout",
     "output_type": "stream",
     "text": [
      "... 10: 0.005387603892576864 good.bad = -0.08211478590965271\n",
      "epoch 11\n"
     ]
    },
    {
     "name": "stderr",
     "output_type": "stream",
     "text": [
      "100%|███████████████████████████████████████████████████████████████████████████████| 1405/1405 [02:01<00:00, 11.53it/s]\n"
     ]
    },
    {
     "name": "stdout",
     "output_type": "stream",
     "text": [
      "... 11: 0.0049193361651457285 good.bad = -0.07661351561546326\n",
      "epoch 12\n"
     ]
    },
    {
     "name": "stderr",
     "output_type": "stream",
     "text": [
      "100%|███████████████████████████████████████████████████████████████████████████████| 1405/1405 [02:01<00:00, 11.52it/s]\n"
     ]
    },
    {
     "name": "stdout",
     "output_type": "stream",
     "text": [
      "... 12: 0.004545493397258514 good.bad = -0.07152610272169113\n",
      "epoch 13\n"
     ]
    },
    {
     "name": "stderr",
     "output_type": "stream",
     "text": [
      "100%|███████████████████████████████████████████████████████████████████████████████| 1405/1405 [02:02<00:00, 11.47it/s]\n"
     ]
    },
    {
     "name": "stdout",
     "output_type": "stream",
     "text": [
      "... 13: 0.004230216894882111 good.bad = -0.06682711839675903\n",
      "epoch 14\n"
     ]
    },
    {
     "name": "stderr",
     "output_type": "stream",
     "text": [
      "100%|███████████████████████████████████████████████████████████████████████████████| 1405/1405 [02:02<00:00, 11.48it/s]\n"
     ]
    },
    {
     "name": "stdout",
     "output_type": "stream",
     "text": [
      "... 14: 0.003974505416962759 good.bad = -0.06249205768108368\n",
      "epoch 15\n"
     ]
    },
    {
     "name": "stderr",
     "output_type": "stream",
     "text": [
      "100%|███████████████████████████████████████████████████████████████████████████████| 1405/1405 [02:01<00:00, 11.52it/s]\n"
     ]
    },
    {
     "name": "stdout",
     "output_type": "stream",
     "text": [
      "... 15: 0.0037618163063313508 good.bad = -0.05849219858646393\n",
      "epoch 16\n"
     ]
    },
    {
     "name": "stderr",
     "output_type": "stream",
     "text": [
      "100%|███████████████████████████████████████████████████████████████████████████████| 1405/1405 [02:02<00:00, 11.48it/s]\n"
     ]
    },
    {
     "name": "stdout",
     "output_type": "stream",
     "text": [
      "... 16: 0.003580990970777712 good.bad = -0.054800961166620255\n",
      "epoch 17\n"
     ]
    },
    {
     "name": "stderr",
     "output_type": "stream",
     "text": [
      "100%|███████████████████████████████████████████████████████████████████████████████| 1405/1405 [02:02<00:00, 11.50it/s]\n"
     ]
    },
    {
     "name": "stdout",
     "output_type": "stream",
     "text": [
      "... 17: 0.0034303016605160574 good.bad = -0.051390692591667175\n",
      "epoch 18\n"
     ]
    },
    {
     "name": "stderr",
     "output_type": "stream",
     "text": [
      "100%|███████████████████████████████████████████████████████████████████████████████| 1405/1405 [02:02<00:00, 11.51it/s]\n"
     ]
    },
    {
     "name": "stdout",
     "output_type": "stream",
     "text": [
      "... 18: 0.003299934323462807 good.bad = -0.04823780059814453\n",
      "epoch 19\n"
     ]
    },
    {
     "name": "stderr",
     "output_type": "stream",
     "text": [
      "100%|███████████████████████████████████████████████████████████████████████████████| 1405/1405 [02:01<00:00, 11.52it/s]\n"
     ]
    },
    {
     "name": "stdout",
     "output_type": "stream",
     "text": [
      "... 19: 0.0031894945496447995 good.bad = -0.04531850665807724\n",
      "epoch 20\n"
     ]
    },
    {
     "name": "stderr",
     "output_type": "stream",
     "text": [
      "100%|███████████████████████████████████████████████████████████████████████████████| 1405/1405 [02:02<00:00, 11.49it/s]\n"
     ]
    },
    {
     "name": "stdout",
     "output_type": "stream",
     "text": [
      "... 20: 0.003098634185660564 good.bad = -0.04261215403676033\n",
      "epoch 21\n"
     ]
    },
    {
     "name": "stderr",
     "output_type": "stream",
     "text": [
      "100%|███████████████████████████████████████████████████████████████████████████████| 1405/1405 [02:02<00:00, 11.49it/s]\n"
     ]
    },
    {
     "name": "stdout",
     "output_type": "stream",
     "text": [
      "... 21: 0.0030123716498662145 good.bad = -0.0400984100997448\n",
      "epoch 22\n"
     ]
    },
    {
     "name": "stderr",
     "output_type": "stream",
     "text": [
      "100%|███████████████████████████████████████████████████████████████████████████████| 1405/1405 [02:02<00:00, 11.50it/s]\n"
     ]
    },
    {
     "name": "stdout",
     "output_type": "stream",
     "text": [
      "... 22: 0.0029404092122290245 good.bad = -0.03776006028056145\n",
      "epoch 23\n"
     ]
    },
    {
     "name": "stderr",
     "output_type": "stream",
     "text": [
      "100%|███████████████████████████████████████████████████████████████████████████████| 1405/1405 [02:01<00:00, 11.53it/s]\n"
     ]
    },
    {
     "name": "stdout",
     "output_type": "stream",
     "text": [
      "... 23: 0.002878035465711098 good.bad = -0.035581473261117935\n",
      "epoch 24\n"
     ]
    },
    {
     "name": "stderr",
     "output_type": "stream",
     "text": [
      "100%|███████████████████████████████████████████████████████████████████████████████| 1405/1405 [02:03<00:00, 11.39it/s]\n"
     ]
    },
    {
     "name": "stdout",
     "output_type": "stream",
     "text": [
      "... 24: 0.0028233407816793303 good.bad = -0.033548273146152496\n",
      "epoch 25\n"
     ]
    },
    {
     "name": "stderr",
     "output_type": "stream",
     "text": [
      "100%|███████████████████████████████████████████████████████████████████████████████| 1405/1405 [02:03<00:00, 11.42it/s]\n"
     ]
    },
    {
     "name": "stdout",
     "output_type": "stream",
     "text": [
      "... 25: 0.0027753432801662817 good.bad = -0.03164846450090408\n",
      "epoch 26\n"
     ]
    },
    {
     "name": "stderr",
     "output_type": "stream",
     "text": [
      "100%|███████████████████████████████████████████████████████████████████████████████| 1405/1405 [02:02<00:00, 11.43it/s]\n"
     ]
    },
    {
     "name": "stdout",
     "output_type": "stream",
     "text": [
      "... 26: 0.002733555209269462 good.bad = -0.02987028658390045\n",
      "epoch 27\n"
     ]
    },
    {
     "name": "stderr",
     "output_type": "stream",
     "text": [
      "100%|███████████████████████████████████████████████████████████████████████████████| 1405/1405 [02:02<00:00, 11.43it/s]\n"
     ]
    },
    {
     "name": "stdout",
     "output_type": "stream",
     "text": [
      "... 27: 0.002696505082552437 good.bad = -0.028203045949339867\n",
      "epoch 28\n"
     ]
    },
    {
     "name": "stderr",
     "output_type": "stream",
     "text": [
      "100%|███████████████████████████████████████████████████████████████████████████████| 1405/1405 [02:02<00:00, 11.50it/s]\n"
     ]
    },
    {
     "name": "stdout",
     "output_type": "stream",
     "text": [
      "... 28: 0.002661756169816539 good.bad = -0.026638351380825043\n",
      "epoch 29\n"
     ]
    },
    {
     "name": "stderr",
     "output_type": "stream",
     "text": [
      "100%|███████████████████████████████████████████████████████████████████████████████| 1405/1405 [02:02<00:00, 11.51it/s]\n"
     ]
    },
    {
     "name": "stdout",
     "output_type": "stream",
     "text": [
      "... 29: 0.0026312852838056766 good.bad = -0.02516823448240757\n",
      "epoch 30\n"
     ]
    },
    {
     "name": "stderr",
     "output_type": "stream",
     "text": [
      "100%|███████████████████████████████████████████████████████████████████████████████| 1405/1405 [02:01<00:00, 11.60it/s]\n"
     ]
    },
    {
     "name": "stdout",
     "output_type": "stream",
     "text": [
      "... 30: 0.0026042340301785922 good.bad = -0.02378476969897747\n",
      "epoch 31\n"
     ]
    },
    {
     "name": "stderr",
     "output_type": "stream",
     "text": [
      "100%|███████████████████████████████████████████████████████████████████████████████| 1405/1405 [02:01<00:00, 11.54it/s]\n"
     ]
    },
    {
     "name": "stdout",
     "output_type": "stream",
     "text": [
      "... 31: 0.0025802644097256172 good.bad = -0.02248217537999153\n",
      "epoch 32\n"
     ]
    },
    {
     "name": "stderr",
     "output_type": "stream",
     "text": [
      "100%|███████████████████████████████████████████████████████████████████████████████| 1405/1405 [02:01<00:00, 11.52it/s]\n"
     ]
    },
    {
     "name": "stdout",
     "output_type": "stream",
     "text": [
      "... 32: 0.0025590359797581924 good.bad = -0.021254345774650574\n",
      "epoch 33\n"
     ]
    },
    {
     "name": "stderr",
     "output_type": "stream",
     "text": [
      "100%|███████████████████████████████████████████████████████████████████████████████| 1405/1405 [02:01<00:00, 11.55it/s]\n"
     ]
    },
    {
     "name": "stdout",
     "output_type": "stream",
     "text": [
      "... 33: 0.002540132436848302 good.bad = -0.02009601704776287\n",
      "epoch 34\n"
     ]
    },
    {
     "name": "stderr",
     "output_type": "stream",
     "text": [
      "100%|███████████████████████████████████████████████████████████████████████████████| 1405/1405 [02:01<00:00, 11.58it/s]\n"
     ]
    },
    {
     "name": "stdout",
     "output_type": "stream",
     "text": [
      "... 34: 0.0025220014918032117 good.bad = -0.019002659246325493\n",
      "epoch 35\n"
     ]
    },
    {
     "name": "stderr",
     "output_type": "stream",
     "text": [
      "100%|███████████████████████████████████████████████████████████████████████████████| 1405/1405 [02:01<00:00, 11.53it/s]\n"
     ]
    },
    {
     "name": "stdout",
     "output_type": "stream",
     "text": [
      "... 35: 0.002507793524276028 good.bad = -0.017969703301787376\n",
      "epoch 36\n"
     ]
    },
    {
     "name": "stderr",
     "output_type": "stream",
     "text": [
      "100%|███████████████████████████████████████████████████████████████████████████████| 1405/1405 [02:01<00:00, 11.55it/s]\n"
     ]
    },
    {
     "name": "stdout",
     "output_type": "stream",
     "text": [
      "... 36: 0.0024911268301444044 good.bad = -0.01699391007423401\n",
      "epoch 37\n"
     ]
    },
    {
     "name": "stderr",
     "output_type": "stream",
     "text": [
      "100%|███████████████████████████████████████████████████████████████████████████████| 1405/1405 [02:01<00:00, 11.53it/s]\n"
     ]
    },
    {
     "name": "stdout",
     "output_type": "stream",
     "text": [
      "... 37: 0.002477684841753113 good.bad = -0.01607082039117813\n",
      "epoch 38\n"
     ]
    },
    {
     "name": "stderr",
     "output_type": "stream",
     "text": [
      "100%|███████████████████████████████████████████████████████████████████████████████| 1405/1405 [02:02<00:00, 11.51it/s]\n"
     ]
    },
    {
     "name": "stdout",
     "output_type": "stream",
     "text": [
      "... 38: 0.002466369124280216 good.bad = -0.015197926200926304\n",
      "epoch 39\n"
     ]
    },
    {
     "name": "stderr",
     "output_type": "stream",
     "text": [
      "100%|███████████████████████████████████████████████████████████████████████████████| 1405/1405 [02:01<00:00, 11.54it/s]\n"
     ]
    },
    {
     "name": "stdout",
     "output_type": "stream",
     "text": [
      "... 39: 0.0024546819195496016 good.bad = -0.01437161210924387\n",
      "epoch 40\n"
     ]
    },
    {
     "name": "stderr",
     "output_type": "stream",
     "text": [
      "100%|███████████████████████████████████████████████████████████████████████████████| 1405/1405 [02:01<00:00, 11.57it/s]\n"
     ]
    },
    {
     "name": "stdout",
     "output_type": "stream",
     "text": [
      "... 40: 0.002444637381658952 good.bad = -0.013590095564723015\n",
      "epoch 41\n"
     ]
    },
    {
     "name": "stderr",
     "output_type": "stream",
     "text": [
      "100%|███████████████████████████████████████████████████████████████████████████████| 1405/1405 [02:01<00:00, 11.54it/s]\n"
     ]
    },
    {
     "name": "stdout",
     "output_type": "stream",
     "text": [
      "... 41: 0.0024352440332954094 good.bad = -0.012850021943449974\n",
      "epoch 42\n"
     ]
    },
    {
     "name": "stderr",
     "output_type": "stream",
     "text": [
      "100%|███████████████████████████████████████████████████████████████████████████████| 1405/1405 [02:01<00:00, 11.52it/s]\n"
     ]
    },
    {
     "name": "stdout",
     "output_type": "stream",
     "text": [
      "... 42: 0.0024271662973010004 good.bad = -0.01214936189353466\n",
      "epoch 43\n"
     ]
    },
    {
     "name": "stderr",
     "output_type": "stream",
     "text": [
      "100%|███████████████████████████████████████████████████████████████████████████████| 1405/1405 [02:01<00:00, 11.53it/s]\n"
     ]
    },
    {
     "name": "stdout",
     "output_type": "stream",
     "text": [
      "... 43: 0.002419657631672826 good.bad = -0.011485908180475235\n",
      "epoch 44\n"
     ]
    },
    {
     "name": "stderr",
     "output_type": "stream",
     "text": [
      "100%|███████████████████████████████████████████████████████████████████████████████| 1405/1405 [02:02<00:00, 11.49it/s]\n"
     ]
    },
    {
     "name": "stdout",
     "output_type": "stream",
     "text": [
      "... 44: 0.0024114780078080293 good.bad = -0.010857590474188328\n",
      "epoch 45\n"
     ]
    },
    {
     "name": "stderr",
     "output_type": "stream",
     "text": [
      "100%|███████████████████████████████████████████████████████████████████████████████| 1405/1405 [02:02<00:00, 11.51it/s]\n"
     ]
    },
    {
     "name": "stdout",
     "output_type": "stream",
     "text": [
      "... 45: 0.0024058986855819953 good.bad = -0.0102623850107193\n",
      "epoch 46\n"
     ]
    },
    {
     "name": "stderr",
     "output_type": "stream",
     "text": [
      "100%|███████████████████████████████████████████████████████████████████████████████| 1405/1405 [02:01<00:00, 11.56it/s]\n"
     ]
    },
    {
     "name": "stdout",
     "output_type": "stream",
     "text": [
      "... 46: 0.0024008205355628928 good.bad = -0.009698954410851002\n",
      "epoch 47\n"
     ]
    },
    {
     "name": "stderr",
     "output_type": "stream",
     "text": [
      "100%|███████████████████████████████████████████████████████████████████████████████| 1405/1405 [02:01<00:00, 11.54it/s]\n"
     ]
    },
    {
     "name": "stdout",
     "output_type": "stream",
     "text": [
      "... 47: 0.0024008469119605035 good.bad = -0.009165276773273945\n",
      "epoch 48\n"
     ]
    },
    {
     "name": "stderr",
     "output_type": "stream",
     "text": [
      "100%|███████████████████████████████████████████████████████████████████████████████| 1405/1405 [02:01<00:00, 11.56it/s]\n"
     ]
    },
    {
     "name": "stdout",
     "output_type": "stream",
     "text": [
      "... 48: 0.0023917705413481066 good.bad = -0.008659976534545422\n",
      "epoch 49\n"
     ]
    },
    {
     "name": "stderr",
     "output_type": "stream",
     "text": [
      "100%|███████████████████████████████████████████████████████████████████████████████| 1405/1405 [02:02<00:00, 11.50it/s]\n"
     ]
    },
    {
     "name": "stdout",
     "output_type": "stream",
     "text": [
      "... 49: 0.002382972323935598 good.bad = -0.008181423880159855\n",
      "epoch 50\n"
     ]
    },
    {
     "name": "stderr",
     "output_type": "stream",
     "text": [
      "100%|███████████████████████████████████████████████████████████████████████████████| 1405/1405 [02:01<00:00, 11.57it/s]\n"
     ]
    },
    {
     "name": "stdout",
     "output_type": "stream",
     "text": [
      "... 50: 0.002378506304818832 good.bad = -0.007728429511189461\n",
      "epoch 51\n"
     ]
    },
    {
     "name": "stderr",
     "output_type": "stream",
     "text": [
      "100%|███████████████████████████████████████████████████████████████████████████████| 1405/1405 [02:01<00:00, 11.52it/s]\n"
     ]
    },
    {
     "name": "stdout",
     "output_type": "stream",
     "text": [
      "... 51: 0.002373945021345628 good.bad = -0.007299182936549187\n",
      "epoch 52\n"
     ]
    },
    {
     "name": "stderr",
     "output_type": "stream",
     "text": [
      "100%|███████████████████████████████████████████████████████████████████████████████| 1405/1405 [02:01<00:00, 11.53it/s]\n"
     ]
    },
    {
     "name": "stdout",
     "output_type": "stream",
     "text": [
      "... 52: 0.0023699274172283894 good.bad = -0.006893124897032976\n",
      "epoch 53\n"
     ]
    },
    {
     "name": "stderr",
     "output_type": "stream",
     "text": [
      "100%|███████████████████████████████████████████████████████████████████████████████| 1405/1405 [02:02<00:00, 11.50it/s]\n"
     ]
    },
    {
     "name": "stdout",
     "output_type": "stream",
     "text": [
      "... 53: 0.0023664947867217834 good.bad = -0.006508811842650175\n",
      "epoch 54\n"
     ]
    },
    {
     "name": "stderr",
     "output_type": "stream",
     "text": [
      "100%|███████████████████████████████████████████████████████████████████████████████| 1405/1405 [02:02<00:00, 11.47it/s]\n"
     ]
    },
    {
     "name": "stdout",
     "output_type": "stream",
     "text": [
      "... 54: 0.0023629183762498016 good.bad = -0.006144938059151173\n",
      "epoch 55\n"
     ]
    },
    {
     "name": "stderr",
     "output_type": "stream",
     "text": [
      "100%|███████████████████████████████████████████████████████████████████████████████| 1405/1405 [02:01<00:00, 11.53it/s]\n"
     ]
    },
    {
     "name": "stdout",
     "output_type": "stream",
     "text": [
      "... 55: 0.002361198613797961 good.bad = -0.005800737999379635\n",
      "epoch 56\n"
     ]
    },
    {
     "name": "stderr",
     "output_type": "stream",
     "text": [
      "100%|███████████████████████████████████████████████████████████████████████████████| 1405/1405 [02:02<00:00, 11.49it/s]\n"
     ]
    },
    {
     "name": "stdout",
     "output_type": "stream",
     "text": [
      "... 56: 0.0023565654447749657 good.bad = -0.005475009325891733\n",
      "epoch 57\n"
     ]
    },
    {
     "name": "stderr",
     "output_type": "stream",
     "text": [
      "100%|███████████████████████████████████████████████████████████████████████████████| 1405/1405 [02:01<00:00, 11.54it/s]\n"
     ]
    },
    {
     "name": "stdout",
     "output_type": "stream",
     "text": [
      "... 57: 0.0023572159112427793 good.bad = -0.005166980437934399\n",
      "epoch 58\n"
     ]
    },
    {
     "name": "stderr",
     "output_type": "stream",
     "text": [
      "100%|███████████████████████████████████████████████████████████████████████████████| 1405/1405 [02:02<00:00, 11.50it/s]\n"
     ]
    },
    {
     "name": "stdout",
     "output_type": "stream",
     "text": [
      "... 58: 0.0023509283289495603 good.bad = -0.004875499289482832\n",
      "epoch 59\n"
     ]
    },
    {
     "name": "stderr",
     "output_type": "stream",
     "text": [
      "100%|███████████████████████████████████████████████████████████████████████████████| 1405/1405 [02:01<00:00, 11.54it/s]\n"
     ]
    },
    {
     "name": "stdout",
     "output_type": "stream",
     "text": [
      "... 59: 0.002348586281900728 good.bad = -0.004599790554493666\n",
      "epoch 60\n"
     ]
    },
    {
     "name": "stderr",
     "output_type": "stream",
     "text": [
      "100%|███████████████████████████████████████████████████████████████████████████████| 1405/1405 [02:02<00:00, 11.50it/s]\n"
     ]
    },
    {
     "name": "stdout",
     "output_type": "stream",
     "text": [
      "... 60: 0.002346588671746004 good.bad = -0.004339195322245359\n",
      "epoch 61\n"
     ]
    },
    {
     "name": "stderr",
     "output_type": "stream",
     "text": [
      "100%|███████████████████████████████████████████████████████████████████████████████| 1405/1405 [02:01<00:00, 11.56it/s]\n"
     ]
    },
    {
     "name": "stdout",
     "output_type": "stream",
     "text": [
      "... 61: 0.0023440480734771814 good.bad = -0.004092821851372719\n",
      "epoch 62\n"
     ]
    },
    {
     "name": "stderr",
     "output_type": "stream",
     "text": [
      "100%|███████████████████████████████████████████████████████████████████████████████| 1405/1405 [02:02<00:00, 11.51it/s]\n"
     ]
    },
    {
     "name": "stdout",
     "output_type": "stream",
     "text": [
      "... 62: 0.002342352884559763 good.bad = -0.0038598619867116213\n",
      "epoch 63\n"
     ]
    },
    {
     "name": "stderr",
     "output_type": "stream",
     "text": [
      "100%|███████████████████████████████████████████████████████████████████████████████| 1405/1405 [02:01<00:00, 11.53it/s]\n"
     ]
    },
    {
     "name": "stdout",
     "output_type": "stream",
     "text": [
      "... 63: 0.0023400176778846683 good.bad = -0.003639683360233903\n",
      "epoch 64\n"
     ]
    },
    {
     "name": "stderr",
     "output_type": "stream",
     "text": [
      "100%|███████████████████████████████████████████████████████████████████████████████| 1405/1405 [02:01<00:00, 11.53it/s]\n"
     ]
    },
    {
     "name": "stdout",
     "output_type": "stream",
     "text": [
      "... 64: 0.0023380426468751873 good.bad = -0.0034317560493946075\n",
      "epoch 65\n"
     ]
    },
    {
     "name": "stderr",
     "output_type": "stream",
     "text": [
      "100%|███████████████████████████████████████████████████████████████████████████████| 1405/1405 [02:02<00:00, 11.50it/s]\n"
     ]
    },
    {
     "name": "stdout",
     "output_type": "stream",
     "text": [
      "... 65: 0.002336854220399454 good.bad = -0.0032351731788367033\n",
      "epoch 66\n"
     ]
    },
    {
     "name": "stderr",
     "output_type": "stream",
     "text": [
      "100%|███████████████████████████████████████████████████████████████████████████████| 1405/1405 [02:01<00:00, 11.54it/s]\n"
     ]
    },
    {
     "name": "stdout",
     "output_type": "stream",
     "text": [
      "... 66: 0.002340975999451007 good.bad = -0.0030495894607156515\n",
      "epoch 67\n"
     ]
    },
    {
     "name": "stderr",
     "output_type": "stream",
     "text": [
      "100%|███████████████████████████████████████████████████████████████████████████████| 1405/1405 [02:02<00:00, 11.51it/s]\n"
     ]
    },
    {
     "name": "stdout",
     "output_type": "stream",
     "text": [
      "... 67: 0.0023338861852549545 good.bad = -0.0028741464484483004\n",
      "epoch 68\n"
     ]
    },
    {
     "name": "stderr",
     "output_type": "stream",
     "text": [
      "100%|███████████████████████████████████████████████████████████████████████████████| 1405/1405 [02:01<00:00, 11.56it/s]\n"
     ]
    },
    {
     "name": "stdout",
     "output_type": "stream",
     "text": [
      "... 68: 0.0023316091136158412 good.bad = -0.00270856823772192\n",
      "epoch 69\n"
     ]
    },
    {
     "name": "stderr",
     "output_type": "stream",
     "text": [
      "100%|███████████████████████████████████████████████████████████████████████████████| 1405/1405 [02:01<00:00, 11.52it/s]\n"
     ]
    },
    {
     "name": "stdout",
     "output_type": "stream",
     "text": [
      "... 69: 0.0023307587698705202 good.bad = -0.002552198013290763\n",
      "epoch 70\n"
     ]
    },
    {
     "name": "stderr",
     "output_type": "stream",
     "text": [
      "100%|███████████████████████████████████████████████████████████████████████████████| 1405/1405 [02:01<00:00, 11.55it/s]\n"
     ]
    },
    {
     "name": "stdout",
     "output_type": "stream",
     "text": [
      "... 70: 0.0023362403530030914 good.bad = -0.0024046574253588915\n",
      "epoch 71\n"
     ]
    },
    {
     "name": "stderr",
     "output_type": "stream",
     "text": [
      "100%|███████████████████████████████████████████████████████████████████████████████| 1405/1405 [02:02<00:00, 11.50it/s]\n"
     ]
    },
    {
     "name": "stdout",
     "output_type": "stream",
     "text": [
      "... 71: 0.002327583792902781 good.bad = -0.002265272894874215\n",
      "epoch 72\n"
     ]
    },
    {
     "name": "stderr",
     "output_type": "stream",
     "text": [
      "100%|███████████████████████████████████████████████████████████████████████████████| 1405/1405 [02:01<00:00, 11.57it/s]\n"
     ]
    },
    {
     "name": "stdout",
     "output_type": "stream",
     "text": [
      "... 72: 0.0023271287703187306 good.bad = -0.002133830450475216\n",
      "epoch 73\n"
     ]
    },
    {
     "name": "stderr",
     "output_type": "stream",
     "text": [
      "100%|███████████████████████████████████████████████████████████████████████████████| 1405/1405 [02:02<00:00, 11.51it/s]\n"
     ]
    },
    {
     "name": "stdout",
     "output_type": "stream",
     "text": [
      "... 73: 0.0023255039315117237 good.bad = -0.0020097745582461357\n",
      "epoch 74\n"
     ]
    },
    {
     "name": "stderr",
     "output_type": "stream",
     "text": [
      "100%|███████████████████████████████████████████████████████████████████████████████| 1405/1405 [02:06<00:00, 11.12it/s]\n"
     ]
    },
    {
     "name": "stdout",
     "output_type": "stream",
     "text": [
      "... 74: 0.0023242161200743077 good.bad = -0.0018926810007542372\n",
      "epoch 75\n"
     ]
    },
    {
     "name": "stderr",
     "output_type": "stream",
     "text": [
      "100%|███████████████████████████████████████████████████████████████████████████████| 1405/1405 [02:04<00:00, 11.32it/s]\n"
     ]
    },
    {
     "name": "stdout",
     "output_type": "stream",
     "text": [
      "... 75: 0.0023250084698906177 good.bad = -0.001782265375368297\n",
      "epoch 76\n"
     ]
    },
    {
     "name": "stderr",
     "output_type": "stream",
     "text": [
      "100%|███████████████████████████████████████████████████████████████████████████████| 1405/1405 [02:02<00:00, 11.43it/s]\n"
     ]
    },
    {
     "name": "stdout",
     "output_type": "stream",
     "text": [
      "... 76: 0.002322684712683139 good.bad = -0.0016781097510829568\n",
      "epoch 77\n"
     ]
    },
    {
     "name": "stderr",
     "output_type": "stream",
     "text": [
      "100%|███████████████████████████████████████████████████████████████████████████████| 1405/1405 [02:03<00:00, 11.37it/s]\n"
     ]
    },
    {
     "name": "stdout",
     "output_type": "stream",
     "text": [
      "... 77: 0.002322253616182034 good.bad = -0.001579804695211351\n",
      "epoch 78\n"
     ]
    },
    {
     "name": "stderr",
     "output_type": "stream",
     "text": [
      "100%|███████████████████████████████████████████████████████████████████████████████| 1405/1405 [02:03<00:00, 11.42it/s]\n"
     ]
    },
    {
     "name": "stdout",
     "output_type": "stream",
     "text": [
      "... 78: 0.0023238329722270953 good.bad = -0.001487170229665935\n",
      "epoch 79\n"
     ]
    },
    {
     "name": "stderr",
     "output_type": "stream",
     "text": [
      "100%|███████████████████████████████████████████████████████████████████████████████| 1405/1405 [02:02<00:00, 11.48it/s]\n"
     ]
    },
    {
     "name": "stdout",
     "output_type": "stream",
     "text": [
      "... 79: 0.0023207886352492133 good.bad = -0.0013998467475175858\n",
      "epoch 80\n"
     ]
    },
    {
     "name": "stderr",
     "output_type": "stream",
     "text": [
      " 38%|██████████████████████████████▋                                                 | 538/1405 [00:46<01:14, 11.70it/s]IOPub message rate exceeded.\n",
      "The Jupyter server will temporarily stop sending output\n",
      "to the client in order to avoid crashing it.\n",
      "To change this limit, set the config variable\n",
      "`--ServerApp.iopub_msg_rate_limit`.\n",
      "\n",
      "Current values:\n",
      "ServerApp.iopub_msg_rate_limit=1000.0 (msgs/sec)\n",
      "ServerApp.rate_limit_window=3.0 (secs)\n",
      "\n",
      "100%|███████████████████████████████████████████████████████████████████████████████| 1405/1405 [02:02<00:00, 11.50it/s]\n"
     ]
    },
    {
     "name": "stdout",
     "output_type": "stream",
     "text": [
      "... 97: 0.0023089442110464666 good.bad = -0.00046382189611904323\n",
      "epoch 98\n"
     ]
    },
    {
     "name": "stderr",
     "output_type": "stream",
     "text": [
      "100%|███████████████████████████████████████████████████████████████████████████████| 1405/1405 [02:02<00:00, 11.47it/s]\n"
     ]
    },
    {
     "name": "stdout",
     "output_type": "stream",
     "text": [
      "... 98: 0.002315790613108974 good.bad = -0.00043589455890469253\n",
      "epoch 99\n"
     ]
    },
    {
     "name": "stderr",
     "output_type": "stream",
     "text": [
      "100%|███████████████████████████████████████████████████████████████████████████████| 1405/1405 [02:03<00:00, 11.39it/s]\n"
     ]
    },
    {
     "name": "stdout",
     "output_type": "stream",
     "text": [
      "... 99: 0.0023082005143831765 good.bad = -0.0004095829790458083\n",
      "epoch 100\n"
     ]
    },
    {
     "name": "stderr",
     "output_type": "stream",
     "text": [
      "100%|███████████████████████████████████████████████████████████████████████████████| 1405/1405 [02:03<00:00, 11.33it/s]\n"
     ]
    },
    {
     "name": "stdout",
     "output_type": "stream",
     "text": [
      "... 100: 0.002308175325090417 good.bad = -0.000384836079319939\n",
      "epoch 101\n"
     ]
    },
    {
     "name": "stderr",
     "output_type": "stream",
     "text": [
      " 97%|████████████████████████████████████████████████████████████████████████████▊  | 1366/1405 [01:59<00:03, 11.31it/s]IOPub message rate exceeded.\n",
      "The Jupyter server will temporarily stop sending output\n",
      "to the client in order to avoid crashing it.\n",
      "To change this limit, set the config variable\n",
      "`--ServerApp.iopub_msg_rate_limit`.\n",
      "\n",
      "Current values:\n",
      "ServerApp.iopub_msg_rate_limit=1000.0 (msgs/sec)\n",
      "ServerApp.rate_limit_window=3.0 (secs)\n",
      "\n",
      "100%|███████████████████████████████████████████████████████████████████████████████| 1405/1405 [02:02<00:00, 11.50it/s]\n"
     ]
    },
    {
     "name": "stdout",
     "output_type": "stream",
     "text": [
      "... 119: 0.0023059199682645684 good.bad = -0.00011641556193353608\n",
      "epoch 120\n"
     ]
    },
    {
     "name": "stderr",
     "output_type": "stream",
     "text": [
      "100%|███████████████████████████████████████████████████████████████████████████████| 1405/1405 [02:02<00:00, 11.49it/s]\n"
     ]
    },
    {
     "name": "stdout",
     "output_type": "stream",
     "text": [
      "... 120: 0.002302952727934286 good.bad = -0.00010934851161437109\n",
      "epoch 121\n"
     ]
    },
    {
     "name": "stderr",
     "output_type": "stream",
     "text": [
      "100%|███████████████████████████████████████████████████████████████████████████████| 1405/1405 [02:02<00:00, 11.44it/s]\n"
     ]
    },
    {
     "name": "stdout",
     "output_type": "stream",
     "text": [
      "... 121: 0.0023050016979604057 good.bad = -0.00010255706729367375\n",
      "epoch 122\n"
     ]
    },
    {
     "name": "stderr",
     "output_type": "stream",
     "text": [
      "100%|███████████████████████████████████████████████████████████████████████████████| 1405/1405 [02:02<00:00, 11.46it/s]\n"
     ]
    },
    {
     "name": "stdout",
     "output_type": "stream",
     "text": [
      "... 122: 0.0023033270836489614 good.bad = -9.628260158933699e-05\n",
      "epoch 123\n"
     ]
    },
    {
     "name": "stderr",
     "output_type": "stream",
     "text": [
      " 52%|█████████████████████████████████████████▌                                      | 730/1405 [01:03<00:48, 14.04it/s]IOPub message rate exceeded.\n",
      "The Jupyter server will temporarily stop sending output\n",
      "to the client in order to avoid crashing it.\n",
      "To change this limit, set the config variable\n",
      "`--ServerApp.iopub_msg_rate_limit`.\n",
      "\n",
      "Current values:\n",
      "ServerApp.iopub_msg_rate_limit=1000.0 (msgs/sec)\n",
      "ServerApp.rate_limit_window=3.0 (secs)\n",
      "\n",
      "100%|███████████████████████████████████████████████████████████████████████████████| 1405/1405 [02:06<00:00, 11.10it/s]\n"
     ]
    },
    {
     "name": "stdout",
     "output_type": "stream",
     "text": [
      "... 127: 0.0023025936845216064 good.bad = -6.989189569139853e-05\n",
      "epoch 128\n"
     ]
    },
    {
     "name": "stderr",
     "output_type": "stream",
     "text": [
      "100%|███████████████████████████████████████████████████████████████████████████████| 1405/1405 [02:13<00:00, 10.56it/s]\n"
     ]
    },
    {
     "name": "stdout",
     "output_type": "stream",
     "text": [
      "... 128: 0.0023028118078086486 good.bad = -6.556971493409947e-05\n",
      "epoch 129\n"
     ]
    },
    {
     "name": "stderr",
     "output_type": "stream",
     "text": [
      "100%|███████████████████████████████████████████████████████████████████████████████| 1405/1405 [02:04<00:00, 11.32it/s]\n"
     ]
    },
    {
     "name": "stdout",
     "output_type": "stream",
     "text": [
      "... 129: 0.0023016708184636836 good.bad = -6.151667184894904e-05\n",
      "epoch 130\n"
     ]
    },
    {
     "name": "stderr",
     "output_type": "stream",
     "text": [
      "100%|███████████████████████████████████████████████████████████████████████████████| 1405/1405 [02:03<00:00, 11.40it/s]\n"
     ]
    },
    {
     "name": "stdout",
     "output_type": "stream",
     "text": [
      "... 130: 0.0023035177714903956 good.bad = -5.766598405898549e-05\n",
      "epoch 131\n"
     ]
    },
    {
     "name": "stderr",
     "output_type": "stream",
     "text": [
      "100%|███████████████████████████████████████████████████████████████████████████████| 1405/1405 [02:02<00:00, 11.51it/s]\n"
     ]
    },
    {
     "name": "stdout",
     "output_type": "stream",
     "text": [
      "... 131: 0.0023033734443730068 good.bad = -5.404424882726744e-05\n",
      "epoch 132\n"
     ]
    },
    {
     "name": "stderr",
     "output_type": "stream",
     "text": [
      "100%|███████████████████████████████████████████████████████████████████████████████| 1405/1405 [02:03<00:00, 11.42it/s]\n"
     ]
    },
    {
     "name": "stdout",
     "output_type": "stream",
     "text": [
      "... 132: 0.0023016565010362568 good.bad = -5.063798380433582e-05\n",
      "epoch 133\n"
     ]
    },
    {
     "name": "stderr",
     "output_type": "stream",
     "text": [
      "100%|███████████████████████████████████████████████████████████████████████████████| 1405/1405 [02:02<00:00, 11.50it/s]\n"
     ]
    },
    {
     "name": "stdout",
     "output_type": "stream",
     "text": [
      "... 133: 0.0023022972453332563 good.bad = -4.744300895254128e-05\n",
      "epoch 134\n"
     ]
    },
    {
     "name": "stderr",
     "output_type": "stream",
     "text": [
      "100%|███████████████████████████████████████████████████████████████████████████████| 1405/1405 [02:04<00:00, 11.31it/s]\n"
     ]
    },
    {
     "name": "stdout",
     "output_type": "stream",
     "text": [
      "... 134: 0.002301950070317636 good.bad = -4.4433141738409176e-05\n",
      "epoch 135\n"
     ]
    },
    {
     "name": "stderr",
     "output_type": "stream",
     "text": [
      "100%|███████████████████████████████████████████████████████████████████████████████| 1405/1405 [02:03<00:00, 11.39it/s]\n"
     ]
    },
    {
     "name": "stdout",
     "output_type": "stream",
     "text": [
      "... 135: 0.002302914966242487 good.bad = -4.158383308094926e-05\n",
      "epoch 136\n"
     ]
    },
    {
     "name": "stderr",
     "output_type": "stream",
     "text": [
      "100%|███████████████████████████████████████████████████████████████████████████████| 1405/1405 [02:03<00:00, 11.42it/s]\n"
     ]
    },
    {
     "name": "stdout",
     "output_type": "stream",
     "text": [
      "... 136: 0.002300971473800847 good.bad = -3.898052455042489e-05\n",
      "epoch 137\n"
     ]
    },
    {
     "name": "stderr",
     "output_type": "stream",
     "text": [
      "100%|███████████████████████████████████████████████████████████████████████████████| 1405/1405 [02:02<00:00, 11.50it/s]\n"
     ]
    },
    {
     "name": "stdout",
     "output_type": "stream",
     "text": [
      "... 137: 0.0023009651915992203 good.bad = -3.663507231976837e-05\n",
      "epoch 138\n"
     ]
    },
    {
     "name": "stderr",
     "output_type": "stream",
     "text": [
      "100%|███████████████████████████████████████████████████████████████████████████████| 1405/1405 [02:02<00:00, 11.46it/s]\n"
     ]
    },
    {
     "name": "stdout",
     "output_type": "stream",
     "text": [
      "... 138: 0.002300841137692266 good.bad = -3.4242792025906965e-05\n",
      "epoch 139\n"
     ]
    },
    {
     "name": "stderr",
     "output_type": "stream",
     "text": [
      "100%|███████████████████████████████████████████████████████████████████████████████| 1405/1405 [02:02<00:00, 11.45it/s]\n"
     ]
    },
    {
     "name": "stdout",
     "output_type": "stream",
     "text": [
      "... 139: 0.0023060917304132756 good.bad = -3.2142954296432436e-05\n",
      "epoch 140\n"
     ]
    },
    {
     "name": "stderr",
     "output_type": "stream",
     "text": [
      "100%|███████████████████████████████████████████████████████████████████████████████| 1405/1405 [02:02<00:00, 11.50it/s]\n"
     ]
    },
    {
     "name": "stdout",
     "output_type": "stream",
     "text": [
      "... 140: 0.0023017969632892475 good.bad = -3.0088347557466477e-05\n",
      "epoch 141\n"
     ]
    },
    {
     "name": "stderr",
     "output_type": "stream",
     "text": [
      "100%|███████████████████████████████████████████████████████████████████████████████| 1405/1405 [02:04<00:00, 11.30it/s]\n"
     ]
    },
    {
     "name": "stdout",
     "output_type": "stream",
     "text": [
      "... 141: 0.002300801928887588 good.bad = -2.807796045090072e-05\n",
      "epoch 142\n"
     ]
    },
    {
     "name": "stderr",
     "output_type": "stream",
     "text": [
      "100%|███████████████████████████████████████████████████████████████████████████████| 1405/1405 [02:02<00:00, 11.49it/s]\n"
     ]
    },
    {
     "name": "stdout",
     "output_type": "stream",
     "text": [
      "... 142: 0.002300501585104486 good.bad = -2.6267125576850958e-05\n",
      "epoch 143\n"
     ]
    },
    {
     "name": "stderr",
     "output_type": "stream",
     "text": [
      "100%|███████████████████████████████████████████████████████████████████████████████| 1405/1405 [02:02<00:00, 11.46it/s]\n"
     ]
    },
    {
     "name": "stdout",
     "output_type": "stream",
     "text": [
      "... 143: 0.0023013750099480893 good.bad = -2.4622211640235037e-05\n",
      "epoch 144\n"
     ]
    },
    {
     "name": "stderr",
     "output_type": "stream",
     "text": [
      "100%|███████████████████████████████████████████████████████████████████████████████| 1405/1405 [02:02<00:00, 11.46it/s]\n"
     ]
    },
    {
     "name": "stdout",
     "output_type": "stream",
     "text": [
      "... 144: 0.0023007695131862264 good.bad = -2.299293191754259e-05\n",
      "epoch 145\n"
     ]
    },
    {
     "name": "stderr",
     "output_type": "stream",
     "text": [
      "100%|███████████████████████████████████████████████████████████████████████████████| 1405/1405 [02:03<00:00, 11.38it/s]\n"
     ]
    },
    {
     "name": "stdout",
     "output_type": "stream",
     "text": [
      "... 145: 0.0023008158636773236 good.bad = -2.1590465621557087e-05\n",
      "epoch 146\n"
     ]
    },
    {
     "name": "stderr",
     "output_type": "stream",
     "text": [
      "100%|███████████████████████████████████████████████████████████████████████████████| 1405/1405 [02:01<00:00, 11.52it/s]\n"
     ]
    },
    {
     "name": "stdout",
     "output_type": "stream",
     "text": [
      "... 146: 0.00230062863328809 good.bad = -2.0171866708551534e-05\n",
      "epoch 147\n"
     ]
    },
    {
     "name": "stderr",
     "output_type": "stream",
     "text": [
      "100%|███████████████████████████████████████████████████████████████████████████████| 1405/1405 [02:02<00:00, 11.44it/s]\n"
     ]
    },
    {
     "name": "stdout",
     "output_type": "stream",
     "text": [
      "... 147: 0.002299894809804101 good.bad = -1.8894610548159108e-05\n",
      "epoch 148\n"
     ]
    },
    {
     "name": "stderr",
     "output_type": "stream",
     "text": [
      "100%|███████████████████████████████████████████████████████████████████████████████| 1405/1405 [02:01<00:00, 11.53it/s]\n"
     ]
    },
    {
     "name": "stdout",
     "output_type": "stream",
     "text": [
      "... 148: 0.00230017354814634 good.bad = -1.7603510059416294e-05\n",
      "epoch 149\n"
     ]
    },
    {
     "name": "stderr",
     "output_type": "stream",
     "text": [
      "100%|███████████████████████████████████████████████████████████████████████████████| 1405/1405 [02:02<00:00, 11.49it/s]\n"
     ]
    },
    {
     "name": "stdout",
     "output_type": "stream",
     "text": [
      "... 149: 0.002300020314013963 good.bad = -1.642865208850708e-05\n",
      "epoch 150\n"
     ]
    },
    {
     "name": "stderr",
     "output_type": "stream",
     "text": [
      "100%|███████████████████████████████████████████████████████████████████████████████| 1405/1405 [02:02<00:00, 11.52it/s]\n"
     ]
    },
    {
     "name": "stdout",
     "output_type": "stream",
     "text": [
      "... 150: 0.0023000659841590056 good.bad = -1.545735176478047e-05\n",
      "epoch 151\n"
     ]
    },
    {
     "name": "stderr",
     "output_type": "stream",
     "text": [
      "100%|███████████████████████████████████████████████████████████████████████████████| 1405/1405 [02:01<00:00, 11.53it/s]\n"
     ]
    },
    {
     "name": "stdout",
     "output_type": "stream",
     "text": [
      "... 151: 0.00229996397169108 good.bad = -1.438150411559036e-05\n",
      "epoch 152\n"
     ]
    },
    {
     "name": "stderr",
     "output_type": "stream",
     "text": [
      "100%|███████████████████████████████████████████████████████████████████████████████| 1405/1405 [02:01<00:00, 11.55it/s]\n"
     ]
    },
    {
     "name": "stdout",
     "output_type": "stream",
     "text": [
      "... 152: 0.002300520705223229 good.bad = -1.3373020919971168e-05\n",
      "epoch 153\n"
     ]
    },
    {
     "name": "stderr",
     "output_type": "stream",
     "text": [
      "100%|███████████████████████████████████████████████████████████████████████████████| 1405/1405 [02:03<00:00, 11.38it/s]\n"
     ]
    },
    {
     "name": "stdout",
     "output_type": "stream",
     "text": [
      "... 153: 0.0022998948463858553 good.bad = -1.2557273294078186e-05\n",
      "epoch 154\n"
     ]
    },
    {
     "name": "stderr",
     "output_type": "stream",
     "text": [
      "100%|███████████████████████████████████████████████████████████████████████████████| 1405/1405 [02:03<00:00, 11.36it/s]\n"
     ]
    },
    {
     "name": "stdout",
     "output_type": "stream",
     "text": [
      "... 154: 0.0022996739768157996 good.bad = -1.171412441181019e-05\n",
      "epoch 155\n"
     ]
    },
    {
     "name": "stderr",
     "output_type": "stream",
     "text": [
      "100%|███████████████████████████████████████████████████████████████████████████████| 1405/1405 [02:03<00:00, 11.42it/s]\n"
     ]
    },
    {
     "name": "stdout",
     "output_type": "stream",
     "text": [
      "... 155: 0.002299553125241632 good.bad = -1.0927979019470513e-05\n",
      "epoch 156\n"
     ]
    },
    {
     "name": "stderr",
     "output_type": "stream",
     "text": [
      "100%|███████████████████████████████████████████████████████████████████████████████| 1405/1405 [02:02<00:00, 11.51it/s]\n"
     ]
    },
    {
     "name": "stdout",
     "output_type": "stream",
     "text": [
      "... 156: 0.002299521422283757 good.bad = -1.0223176104773302e-05\n",
      "epoch 157\n"
     ]
    },
    {
     "name": "stderr",
     "output_type": "stream",
     "text": [
      "100%|███████████████████████████████████████████████████████████████████████████████| 1405/1405 [02:02<00:00, 11.50it/s]\n"
     ]
    },
    {
     "name": "stdout",
     "output_type": "stream",
     "text": [
      "... 157: 0.002301259485928481 good.bad = -9.43692521104822e-06\n",
      "epoch 158\n"
     ]
    },
    {
     "name": "stderr",
     "output_type": "stream",
     "text": [
      "100%|███████████████████████████████████████████████████████████████████████████████| 1405/1405 [02:02<00:00, 11.52it/s]\n"
     ]
    },
    {
     "name": "stdout",
     "output_type": "stream",
     "text": [
      "... 158: 0.002300339062355154 good.bad = -8.812402484181803e-06\n",
      "epoch 159\n"
     ]
    },
    {
     "name": "stderr",
     "output_type": "stream",
     "text": [
      "100%|███████████████████████████████████████████████████████████████████████████████| 1405/1405 [02:02<00:00, 11.43it/s]\n"
     ]
    },
    {
     "name": "stdout",
     "output_type": "stream",
     "text": [
      "... 159: 0.0022996170447105242 good.bad = -8.102015272015706e-06\n",
      "epoch 160\n"
     ]
    },
    {
     "name": "stderr",
     "output_type": "stream",
     "text": [
      "100%|███████████████████████████████████████████████████████████████████████████████| 1405/1405 [02:02<00:00, 11.50it/s]\n"
     ]
    },
    {
     "name": "stdout",
     "output_type": "stream",
     "text": [
      "... 160: 0.0023006184943421375 good.bad = -7.632946108060423e-06\n",
      "epoch 161\n"
     ]
    },
    {
     "name": "stderr",
     "output_type": "stream",
     "text": [
      "100%|███████████████████████████████████████████████████████████████████████████████| 1405/1405 [02:03<00:00, 11.42it/s]\n"
     ]
    },
    {
     "name": "stdout",
     "output_type": "stream",
     "text": [
      "... 161: 0.002299982346461761 good.bad = -7.102598374331137e-06\n",
      "epoch 162\n"
     ]
    },
    {
     "name": "stderr",
     "output_type": "stream",
     "text": [
      "100%|███████████████████████████████████████████████████████████████████████████████| 1405/1405 [02:02<00:00, 11.49it/s]\n"
     ]
    },
    {
     "name": "stdout",
     "output_type": "stream",
     "text": [
      "... 162: 0.0022997085164132066 good.bad = -6.539940386574017e-06\n",
      "epoch 163\n"
     ]
    },
    {
     "name": "stderr",
     "output_type": "stream",
     "text": [
      "100%|███████████████████████████████████████████████████████████████████████████████| 1405/1405 [02:03<00:00, 11.33it/s]\n"
     ]
    },
    {
     "name": "stdout",
     "output_type": "stream",
     "text": [
      "... 163: 0.002299521016694433 good.bad = -6.0635616137005854e-06\n",
      "epoch 164\n"
     ]
    },
    {
     "name": "stderr",
     "output_type": "stream",
     "text": [
      "100%|███████████████████████████████████████████████████████████████████████████████| 1405/1405 [02:02<00:00, 11.47it/s]\n"
     ]
    },
    {
     "name": "stdout",
     "output_type": "stream",
     "text": [
      "... 164: 0.002299420779373735 good.bad = -5.530492671823595e-06\n",
      "epoch 165\n"
     ]
    },
    {
     "name": "stderr",
     "output_type": "stream",
     "text": [
      "100%|███████████████████████████████████████████████████████████████████████████████| 1405/1405 [02:02<00:00, 11.50it/s]\n"
     ]
    },
    {
     "name": "stdout",
     "output_type": "stream",
     "text": [
      "... 165: 0.0022997927007653166 good.bad = -5.108105597173562e-06\n",
      "epoch 166\n"
     ]
    },
    {
     "name": "stderr",
     "output_type": "stream",
     "text": [
      "100%|███████████████████████████████████████████████████████████████████████████████| 1405/1405 [02:01<00:00, 11.53it/s]\n"
     ]
    },
    {
     "name": "stdout",
     "output_type": "stream",
     "text": [
      "... 166: 0.0023023879527962797 good.bad = -4.834138053411152e-06\n",
      "epoch 167\n"
     ]
    },
    {
     "name": "stderr",
     "output_type": "stream",
     "text": [
      "100%|███████████████████████████████████████████████████████████████████████████████| 1405/1405 [02:01<00:00, 11.53it/s]\n"
     ]
    },
    {
     "name": "stdout",
     "output_type": "stream",
     "text": [
      "... 167: 0.0022993769843853823 good.bad = -4.515623913903255e-06\n",
      "epoch 168\n"
     ]
    },
    {
     "name": "stderr",
     "output_type": "stream",
     "text": [
      "100%|███████████████████████████████████████████████████████████████████████████████| 1405/1405 [02:02<00:00, 11.48it/s]\n"
     ]
    },
    {
     "name": "stdout",
     "output_type": "stream",
     "text": [
      "... 168: 0.00230163302491303 good.bad = -4.208957307128003e-06\n",
      "epoch 169\n"
     ]
    },
    {
     "name": "stderr",
     "output_type": "stream",
     "text": [
      "100%|███████████████████████████████████████████████████████████████████████████████| 1405/1405 [02:02<00:00, 11.48it/s]\n"
     ]
    },
    {
     "name": "stdout",
     "output_type": "stream",
     "text": [
      "... 169: 0.002298868199879986 good.bad = -3.88013449992286e-06\n",
      "epoch 170\n"
     ]
    },
    {
     "name": "stderr",
     "output_type": "stream",
     "text": [
      "100%|███████████████████████████████████████████████████████████████████████████████| 1405/1405 [02:01<00:00, 11.55it/s]\n"
     ]
    },
    {
     "name": "stdout",
     "output_type": "stream",
     "text": [
      "... 170: 0.002299336376235393 good.bad = -3.565148517736816e-06\n",
      "epoch 171\n"
     ]
    },
    {
     "name": "stderr",
     "output_type": "stream",
     "text": [
      "100%|███████████████████████████████████████████████████████████████████████████████| 1405/1405 [02:02<00:00, 11.47it/s]\n"
     ]
    },
    {
     "name": "stdout",
     "output_type": "stream",
     "text": [
      "... 171: 0.002299867890977377 good.bad = -3.249431301810546e-06\n",
      "epoch 172\n"
     ]
    },
    {
     "name": "stderr",
     "output_type": "stream",
     "text": [
      "100%|███████████████████████████████████████████████████████████████████████████████| 1405/1405 [02:02<00:00, 11.51it/s]\n"
     ]
    },
    {
     "name": "stdout",
     "output_type": "stream",
     "text": [
      "... 172: 0.002300071755666087 good.bad = -2.931324615929043e-06\n",
      "epoch 173\n"
     ]
    },
    {
     "name": "stderr",
     "output_type": "stream",
     "text": [
      "100%|███████████████████████████████████████████████████████████████████████████████| 1405/1405 [02:02<00:00, 11.46it/s]\n"
     ]
    },
    {
     "name": "stdout",
     "output_type": "stream",
     "text": [
      "... 173: 0.002299142224768846 good.bad = -2.6405755306768697e-06\n",
      "epoch 174\n"
     ]
    },
    {
     "name": "stderr",
     "output_type": "stream",
     "text": [
      "100%|███████████████████████████████████████████████████████████████████████████████| 1405/1405 [02:01<00:00, 11.53it/s]\n"
     ]
    },
    {
     "name": "stdout",
     "output_type": "stream",
     "text": [
      "... 174: 0.0022989226885063714 good.bad = -2.419164502498461e-06\n",
      "epoch 175\n"
     ]
    },
    {
     "name": "stderr",
     "output_type": "stream",
     "text": [
      "100%|███████████████████████████████████████████████████████████████████████████████| 1405/1405 [02:01<00:00, 11.54it/s]\n"
     ]
    },
    {
     "name": "stdout",
     "output_type": "stream",
     "text": [
      "... 175: 0.00229865120352226 good.bad = -2.1214636944932863e-06\n",
      "epoch 176\n"
     ]
    },
    {
     "name": "stderr",
     "output_type": "stream",
     "text": [
      "100%|███████████████████████████████████████████████████████████████████████████████| 1405/1405 [02:03<00:00, 11.42it/s]\n"
     ]
    },
    {
     "name": "stdout",
     "output_type": "stream",
     "text": [
      "... 176: 0.0022989145595683083 good.bad = -1.8918900650533033e-06\n",
      "epoch 177\n"
     ]
    },
    {
     "name": "stderr",
     "output_type": "stream",
     "text": [
      "100%|███████████████████████████████████████████████████████████████████████████████| 1405/1405 [02:02<00:00, 11.45it/s]\n"
     ]
    },
    {
     "name": "stdout",
     "output_type": "stream",
     "text": [
      "... 177: 0.002298954121181841 good.bad = -1.7257086710742442e-06\n",
      "epoch 178\n"
     ]
    },
    {
     "name": "stderr",
     "output_type": "stream",
     "text": [
      "100%|███████████████████████████████████████████████████████████████████████████████| 1405/1405 [02:02<00:00, 11.50it/s]\n"
     ]
    },
    {
     "name": "stdout",
     "output_type": "stream",
     "text": [
      "... 178: 0.002301026738391281 good.bad = -1.4455418977377121e-06\n",
      "epoch 179\n"
     ]
    },
    {
     "name": "stderr",
     "output_type": "stream",
     "text": [
      "100%|███████████████████████████████████████████████████████████████████████████████| 1405/1405 [02:02<00:00, 11.46it/s]\n"
     ]
    },
    {
     "name": "stdout",
     "output_type": "stream",
     "text": [
      "... 179: 0.002299195090996506 good.bad = -1.3544799912779126e-06\n",
      "epoch 180\n"
     ]
    },
    {
     "name": "stderr",
     "output_type": "stream",
     "text": [
      "100%|███████████████████████████████████████████████████████████████████████████████| 1405/1405 [02:02<00:00, 11.47it/s]\n"
     ]
    },
    {
     "name": "stdout",
     "output_type": "stream",
     "text": [
      "... 180: 0.0022987536603777114 good.bad = -1.0543221833358984e-06\n",
      "epoch 181\n"
     ]
    },
    {
     "name": "stderr",
     "output_type": "stream",
     "text": [
      "100%|███████████████████████████████████████████████████████████████████████████████| 1405/1405 [02:02<00:00, 11.45it/s]\n"
     ]
    },
    {
     "name": "stdout",
     "output_type": "stream",
     "text": [
      "... 181: 0.0022991388872948566 good.bad = -9.883931397780543e-07\n",
      "epoch 182\n"
     ]
    },
    {
     "name": "stderr",
     "output_type": "stream",
     "text": [
      "100%|███████████████████████████████████████████████████████████████████████████████| 1405/1405 [02:02<00:00, 11.46it/s]\n"
     ]
    },
    {
     "name": "stdout",
     "output_type": "stream",
     "text": [
      "... 182: 0.002298869516035986 good.bad = -8.582853752159281e-07\n",
      "epoch 183\n"
     ]
    },
    {
     "name": "stderr",
     "output_type": "stream",
     "text": [
      "100%|███████████████████████████████████████████████████████████████████████████████| 1405/1405 [02:02<00:00, 11.49it/s]\n"
     ]
    },
    {
     "name": "stdout",
     "output_type": "stream",
     "text": [
      "... 183: 0.0022990990117328154 good.bad = -7.100260290826554e-07\n",
      "epoch 184\n"
     ]
    },
    {
     "name": "stderr",
     "output_type": "stream",
     "text": [
      "100%|███████████████████████████████████████████████████████████████████████████████| 1405/1405 [02:02<00:00, 11.45it/s]\n"
     ]
    },
    {
     "name": "stdout",
     "output_type": "stream",
     "text": [
      "... 184: 0.0022984978407323093 good.bad = -5.91688717577199e-07\n",
      "epoch 185\n"
     ]
    },
    {
     "name": "stderr",
     "output_type": "stream",
     "text": [
      "100%|███████████████████████████████████████████████████████████████████████████████| 1405/1405 [02:02<00:00, 11.49it/s]\n"
     ]
    },
    {
     "name": "stdout",
     "output_type": "stream",
     "text": [
      "... 185: 0.0022987279217372056 good.bad = -3.8718729911124683e-07\n",
      "epoch 186\n"
     ]
    },
    {
     "name": "stderr",
     "output_type": "stream",
     "text": [
      "100%|███████████████████████████████████████████████████████████████████████████████| 1405/1405 [02:02<00:00, 11.49it/s]\n"
     ]
    },
    {
     "name": "stdout",
     "output_type": "stream",
     "text": [
      "... 186: 0.0022995671586736747 good.bad = -2.818236453094869e-07\n",
      "epoch 187\n"
     ]
    },
    {
     "name": "stderr",
     "output_type": "stream",
     "text": [
      "100%|███████████████████████████████████████████████████████████████████████████████| 1405/1405 [02:01<00:00, 11.53it/s]\n"
     ]
    },
    {
     "name": "stdout",
     "output_type": "stream",
     "text": [
      "... 187: 0.0022994350600951214 good.bad = -2.0340650053185527e-07\n",
      "epoch 188\n"
     ]
    },
    {
     "name": "stderr",
     "output_type": "stream",
     "text": [
      "100%|███████████████████████████████████████████████████████████████████████████████| 1405/1405 [02:02<00:00, 11.43it/s]\n"
     ]
    },
    {
     "name": "stdout",
     "output_type": "stream",
     "text": [
      "... 188: 0.0022985356684204097 good.bad = -1.1872771210619248e-08\n",
      "epoch 189\n"
     ]
    },
    {
     "name": "stderr",
     "output_type": "stream",
     "text": [
      "100%|███████████████████████████████████████████████████████████████████████████████| 1405/1405 [02:02<00:00, 11.45it/s]\n"
     ]
    },
    {
     "name": "stdout",
     "output_type": "stream",
     "text": [
      "... 189: 0.002303955914639931 good.bad = 1.436622483197425e-07\n",
      "epoch 190\n"
     ]
    },
    {
     "name": "stderr",
     "output_type": "stream",
     "text": [
      "100%|███████████████████████████████████████████████████████████████████████████████| 1405/1405 [02:02<00:00, 11.44it/s]\n"
     ]
    },
    {
     "name": "stdout",
     "output_type": "stream",
     "text": [
      "... 190: 0.0022991390714050667 good.bad = 1.5905447980912868e-07\n",
      "epoch 191\n"
     ]
    },
    {
     "name": "stderr",
     "output_type": "stream",
     "text": [
      "100%|███████████████████████████████████████████████████████████████████████████████| 1405/1405 [02:02<00:00, 11.47it/s]\n"
     ]
    },
    {
     "name": "stdout",
     "output_type": "stream",
     "text": [
      "... 191: 0.002299667791889324 good.bad = 1.8267900259161252e-07\n",
      "epoch 192\n"
     ]
    },
    {
     "name": "stderr",
     "output_type": "stream",
     "text": [
      "100%|███████████████████████████████████████████████████████████████████████████████| 1405/1405 [02:02<00:00, 11.47it/s]\n"
     ]
    },
    {
     "name": "stdout",
     "output_type": "stream",
     "text": [
      "... 192: 0.0023013157323847964 good.bad = 2.421153340037563e-07\n",
      "epoch 193\n"
     ]
    },
    {
     "name": "stderr",
     "output_type": "stream",
     "text": [
      "100%|███████████████████████████████████████████████████████████████████████████████| 1405/1405 [02:02<00:00, 11.51it/s]\n"
     ]
    },
    {
     "name": "stdout",
     "output_type": "stream",
     "text": [
      "... 193: 0.002300920289173868 good.bad = 2.9251822297737817e-07\n",
      "epoch 194\n"
     ]
    },
    {
     "name": "stderr",
     "output_type": "stream",
     "text": [
      "100%|███████████████████████████████████████████████████████████████████████████████| 1405/1405 [02:02<00:00, 11.46it/s]\n"
     ]
    },
    {
     "name": "stdout",
     "output_type": "stream",
     "text": [
      "... 194: 0.0022989154967737926 good.bad = 4.446232537702599e-07\n",
      "epoch 195\n"
     ]
    },
    {
     "name": "stderr",
     "output_type": "stream",
     "text": [
      "100%|███████████████████████████████████████████████████████████████████████████████| 1405/1405 [02:02<00:00, 11.51it/s]\n"
     ]
    },
    {
     "name": "stdout",
     "output_type": "stream",
     "text": [
      "... 195: 0.0022988516136795097 good.bad = 5.975403496449871e-07\n",
      "epoch 196\n"
     ]
    },
    {
     "name": "stderr",
     "output_type": "stream",
     "text": [
      "100%|███████████████████████████████████████████████████████████████████████████████| 1405/1405 [02:02<00:00, 11.45it/s]\n"
     ]
    },
    {
     "name": "stdout",
     "output_type": "stream",
     "text": [
      "... 196: 0.002298246377629967 good.bad = 7.501984669033845e-07\n",
      "epoch 197\n"
     ]
    },
    {
     "name": "stderr",
     "output_type": "stream",
     "text": [
      "100%|███████████████████████████████████████████████████████████████████████████████| 1405/1405 [02:02<00:00, 11.43it/s]\n"
     ]
    },
    {
     "name": "stdout",
     "output_type": "stream",
     "text": [
      "... 197: 0.0023010602476923755 good.bad = 7.419344001391437e-07\n",
      "epoch 198\n"
     ]
    },
    {
     "name": "stderr",
     "output_type": "stream",
     "text": [
      "100%|███████████████████████████████████████████████████████████████████████████████| 1405/1405 [02:02<00:00, 11.47it/s]\n"
     ]
    },
    {
     "name": "stdout",
     "output_type": "stream",
     "text": [
      "... 198: 0.002298666538879461 good.bad = 7.141638889152091e-07\n",
      "epoch 199\n"
     ]
    },
    {
     "name": "stderr",
     "output_type": "stream",
     "text": [
      "100%|███████████████████████████████████████████████████████████████████████████████| 1405/1405 [02:02<00:00, 11.48it/s]\n"
     ]
    },
    {
     "name": "stdout",
     "output_type": "stream",
     "text": [
      "... 199: 0.0022992746837791783 good.bad = 8.329081992997089e-07\n",
      "epoch 200\n"
     ]
    },
    {
     "name": "stderr",
     "output_type": "stream",
     "text": [
      "100%|███████████████████████████████████████████████████████████████████████████████| 1405/1405 [02:02<00:00, 11.47it/s]\n"
     ]
    },
    {
     "name": "stdout",
     "output_type": "stream",
     "text": [
      "... 200: 0.0022984349183751487 good.bad = 9.271614658246108e-07\n",
      "epoch 201\n"
     ]
    },
    {
     "name": "stderr",
     "output_type": "stream",
     "text": [
      "100%|███████████████████████████████████████████████████████████████████████████████| 1405/1405 [02:02<00:00, 11.47it/s]\n"
     ]
    },
    {
     "name": "stdout",
     "output_type": "stream",
     "text": [
      "... 201: 0.002299616269699341 good.bad = 9.594979246685398e-07\n",
      "epoch 202\n"
     ]
    },
    {
     "name": "stderr",
     "output_type": "stream",
     "text": [
      "100%|███████████████████████████████████████████████████████████████████████████████| 1405/1405 [02:02<00:00, 11.47it/s]\n"
     ]
    },
    {
     "name": "stdout",
     "output_type": "stream",
     "text": [
      "... 202: 0.002298222131218456 good.bad = 9.348420917376643e-07\n",
      "epoch 203\n"
     ]
    },
    {
     "name": "stderr",
     "output_type": "stream",
     "text": [
      "100%|███████████████████████████████████████████████████████████████████████████████| 1405/1405 [02:03<00:00, 11.42it/s]\n"
     ]
    },
    {
     "name": "stdout",
     "output_type": "stream",
     "text": [
      "... 203: 0.002299098137996468 good.bad = 1.0052392553916434e-06\n",
      "epoch 204\n"
     ]
    },
    {
     "name": "stderr",
     "output_type": "stream",
     "text": [
      "100%|███████████████████████████████████████████████████████████████████████████████| 1405/1405 [02:03<00:00, 11.42it/s]\n"
     ]
    },
    {
     "name": "stdout",
     "output_type": "stream",
     "text": [
      "... 204: 0.0022982181803061497 good.bad = 1.060965132637648e-06\n",
      "epoch 205\n"
     ]
    },
    {
     "name": "stderr",
     "output_type": "stream",
     "text": [
      "100%|███████████████████████████████████████████████████████████████████████████████| 1405/1405 [02:02<00:00, 11.51it/s]\n"
     ]
    },
    {
     "name": "stdout",
     "output_type": "stream",
     "text": [
      "... 205: 0.0022990650963038207 good.bad = 1.2530598496596212e-06\n",
      "epoch 206\n"
     ]
    },
    {
     "name": "stderr",
     "output_type": "stream",
     "text": [
      "100%|███████████████████████████████████████████████████████████████████████████████| 1405/1405 [02:02<00:00, 11.45it/s]\n"
     ]
    },
    {
     "name": "stdout",
     "output_type": "stream",
     "text": [
      "... 206: 0.0022985554795324457 good.bad = 1.3503881746146362e-06\n",
      "epoch 207\n"
     ]
    },
    {
     "name": "stderr",
     "output_type": "stream",
     "text": [
      "100%|███████████████████████████████████████████████████████████████████████████████| 1405/1405 [02:02<00:00, 11.46it/s]\n"
     ]
    },
    {
     "name": "stdout",
     "output_type": "stream",
     "text": [
      "... 207: 0.0022982535958770674 good.bad = 1.4709515880895196e-06\n",
      "epoch 208\n"
     ]
    },
    {
     "name": "stderr",
     "output_type": "stream",
     "text": [
      "100%|███████████████████████████████████████████████████████████████████████████████| 1405/1405 [02:02<00:00, 11.44it/s]\n"
     ]
    },
    {
     "name": "stdout",
     "output_type": "stream",
     "text": [
      "... 208: 0.002299354941206338 good.bad = 1.345128680441121e-06\n",
      "epoch 209\n"
     ]
    },
    {
     "name": "stderr",
     "output_type": "stream",
     "text": [
      "100%|███████████████████████████████████████████████████████████████████████████████| 1405/1405 [02:02<00:00, 11.51it/s]\n"
     ]
    },
    {
     "name": "stdout",
     "output_type": "stream",
     "text": [
      "... 209: 0.0022980260888729375 good.bad = 1.2852223107984173e-06\n",
      "epoch 210\n"
     ]
    },
    {
     "name": "stderr",
     "output_type": "stream",
     "text": [
      "100%|███████████████████████████████████████████████████████████████████████████████| 1405/1405 [02:02<00:00, 11.47it/s]\n"
     ]
    },
    {
     "name": "stdout",
     "output_type": "stream",
     "text": [
      "... 210: 0.0022984018123433578 good.bad = 1.446137389393698e-06\n",
      "epoch 211\n"
     ]
    },
    {
     "name": "stderr",
     "output_type": "stream",
     "text": [
      "100%|███████████████████████████████████████████████████████████████████████████████| 1405/1405 [02:02<00:00, 11.44it/s]\n"
     ]
    },
    {
     "name": "stdout",
     "output_type": "stream",
     "text": [
      "... 211: 0.0022982614500169705 good.bad = 1.3811572898703162e-06\n",
      "epoch 212\n"
     ]
    },
    {
     "name": "stderr",
     "output_type": "stream",
     "text": [
      "100%|███████████████████████████████████████████████████████████████████████████████| 1405/1405 [02:02<00:00, 11.47it/s]\n"
     ]
    },
    {
     "name": "stdout",
     "output_type": "stream",
     "text": [
      "... 212: 0.002299166169204812 good.bad = 1.4683780591440154e-06\n",
      "epoch 213\n"
     ]
    },
    {
     "name": "stderr",
     "output_type": "stream",
     "text": [
      "100%|███████████████████████████████████████████████████████████████████████████████| 1405/1405 [02:02<00:00, 11.50it/s]\n"
     ]
    },
    {
     "name": "stdout",
     "output_type": "stream",
     "text": [
      "... 213: 0.0022982689284378154 good.bad = 1.6085407423815923e-06\n",
      "epoch 214\n"
     ]
    },
    {
     "name": "stderr",
     "output_type": "stream",
     "text": [
      "100%|███████████████████████████████████████████████████████████████████████████████| 1405/1405 [02:02<00:00, 11.47it/s]\n"
     ]
    },
    {
     "name": "stdout",
     "output_type": "stream",
     "text": [
      "... 214: 0.0022982092893241617 good.bad = 1.5225584775180323e-06\n",
      "epoch 215\n"
     ]
    },
    {
     "name": "stderr",
     "output_type": "stream",
     "text": [
      "100%|███████████████████████████████████████████████████████████████████████████████| 1405/1405 [02:02<00:00, 11.45it/s]\n"
     ]
    },
    {
     "name": "stdout",
     "output_type": "stream",
     "text": [
      "... 215: 0.002298186620443834 good.bad = 1.6173355561477365e-06\n",
      "epoch 216\n"
     ]
    },
    {
     "name": "stderr",
     "output_type": "stream",
     "text": [
      "100%|███████████████████████████████████████████████████████████████████████████████| 1405/1405 [02:01<00:00, 11.53it/s]\n"
     ]
    },
    {
     "name": "stdout",
     "output_type": "stream",
     "text": [
      "... 216: 0.002300079499812154 good.bad = 1.5940775028866483e-06\n",
      "epoch 217\n"
     ]
    },
    {
     "name": "stderr",
     "output_type": "stream",
     "text": [
      "100%|███████████████████████████████████████████████████████████████████████████████| 1405/1405 [02:02<00:00, 11.43it/s]\n"
     ]
    },
    {
     "name": "stdout",
     "output_type": "stream",
     "text": [
      "... 217: 0.0022992455330097324 good.bad = 1.7251230701731401e-06\n",
      "epoch 218\n"
     ]
    },
    {
     "name": "stderr",
     "output_type": "stream",
     "text": [
      "100%|███████████████████████████████████████████████████████████████████████████████| 1405/1405 [02:02<00:00, 11.49it/s]\n"
     ]
    },
    {
     "name": "stdout",
     "output_type": "stream",
     "text": [
      "... 218: 0.0022985099025196612 good.bad = 1.817613792809425e-06\n",
      "epoch 219\n"
     ]
    },
    {
     "name": "stderr",
     "output_type": "stream",
     "text": [
      "100%|███████████████████████████████████████████████████████████████████████████████| 1405/1405 [02:03<00:00, 11.42it/s]\n"
     ]
    },
    {
     "name": "stdout",
     "output_type": "stream",
     "text": [
      "... 219: 0.0022980986318792947 good.bad = 1.7767016515790601e-06\n",
      "epoch 220\n"
     ]
    },
    {
     "name": "stderr",
     "output_type": "stream",
     "text": [
      "100%|███████████████████████████████████████████████████████████████████████████████| 1405/1405 [02:02<00:00, 11.47it/s]\n"
     ]
    },
    {
     "name": "stdout",
     "output_type": "stream",
     "text": [
      "... 220: 0.0022982955002143076 good.bad = 1.6916123968258034e-06\n",
      "epoch 221\n"
     ]
    },
    {
     "name": "stderr",
     "output_type": "stream",
     "text": [
      "100%|███████████████████████████████████████████████████████████████████████████████| 1405/1405 [02:02<00:00, 11.48it/s]\n"
     ]
    },
    {
     "name": "stdout",
     "output_type": "stream",
     "text": [
      "... 221: 0.0023003420142499974 good.bad = 1.822139893192798e-06\n",
      "epoch 222\n"
     ]
    },
    {
     "name": "stderr",
     "output_type": "stream",
     "text": [
      "100%|███████████████████████████████████████████████████████████████████████████████| 1405/1405 [02:02<00:00, 11.50it/s]\n"
     ]
    },
    {
     "name": "stdout",
     "output_type": "stream",
     "text": [
      "... 222: 0.0022982457233012865 good.bad = 1.7828360796556808e-06\n",
      "epoch 223\n"
     ]
    },
    {
     "name": "stderr",
     "output_type": "stream",
     "text": [
      "100%|███████████████████████████████████████████████████████████████████████████████| 1405/1405 [02:03<00:00, 11.39it/s]\n"
     ]
    },
    {
     "name": "stdout",
     "output_type": "stream",
     "text": [
      "... 223: 0.0022978328286671805 good.bad = 1.7896375084092142e-06\n",
      "epoch 224\n"
     ]
    },
    {
     "name": "stderr",
     "output_type": "stream",
     "text": [
      "100%|███████████████████████████████████████████████████████████████████████████████| 1405/1405 [02:02<00:00, 11.50it/s]\n"
     ]
    },
    {
     "name": "stdout",
     "output_type": "stream",
     "text": [
      "... 224: 0.0022982583382892756 good.bad = 1.8241514680994442e-06\n",
      "epoch 225\n"
     ]
    },
    {
     "name": "stderr",
     "output_type": "stream",
     "text": [
      "100%|███████████████████████████████████████████████████████████████████████████████| 1405/1405 [02:02<00:00, 11.48it/s]\n"
     ]
    },
    {
     "name": "stdout",
     "output_type": "stream",
     "text": [
      "... 225: 0.0022985600892477588 good.bad = 1.952331103893812e-06\n",
      "epoch 226\n"
     ]
    },
    {
     "name": "stderr",
     "output_type": "stream",
     "text": [
      "100%|███████████████████████████████████████████████████████████████████████████████| 1405/1405 [02:03<00:00, 11.41it/s]\n"
     ]
    },
    {
     "name": "stdout",
     "output_type": "stream",
     "text": [
      "... 226: 0.0022979268824078435 good.bad = 1.896848743854207e-06\n",
      "epoch 227\n"
     ]
    },
    {
     "name": "stderr",
     "output_type": "stream",
     "text": [
      "100%|███████████████████████████████████████████████████████████████████████████████| 1405/1405 [02:02<00:00, 11.46it/s]\n"
     ]
    },
    {
     "name": "stdout",
     "output_type": "stream",
     "text": [
      "... 227: 0.002297863341972325 good.bad = 1.917077497637365e-06\n",
      "epoch 228\n"
     ]
    },
    {
     "name": "stderr",
     "output_type": "stream",
     "text": [
      "100%|███████████████████████████████████████████████████████████████████████████████| 1405/1405 [02:02<00:00, 11.45it/s]\n"
     ]
    },
    {
     "name": "stdout",
     "output_type": "stream",
     "text": [
      "... 228: 0.002304514441713757 good.bad = 1.9930905637011165e-06\n",
      "epoch 229\n"
     ]
    },
    {
     "name": "stderr",
     "output_type": "stream",
     "text": [
      "100%|███████████████████████████████████████████████████████████████████████████████| 1405/1405 [02:03<00:00, 11.37it/s]\n"
     ]
    },
    {
     "name": "stdout",
     "output_type": "stream",
     "text": [
      "... 229: 0.002300039600552759 good.bad = 2.1856906187167624e-06\n",
      "epoch 230\n"
     ]
    },
    {
     "name": "stderr",
     "output_type": "stream",
     "text": [
      "100%|███████████████████████████████████████████████████████████████████████████████| 1405/1405 [02:03<00:00, 11.41it/s]\n"
     ]
    },
    {
     "name": "stdout",
     "output_type": "stream",
     "text": [
      "... 230: 0.002298807117092055 good.bad = 2.183081278417376e-06\n",
      "epoch 231\n"
     ]
    },
    {
     "name": "stderr",
     "output_type": "stream",
     "text": [
      "100%|███████████████████████████████████████████████████████████████████████████████| 1405/1405 [02:02<00:00, 11.44it/s]\n"
     ]
    },
    {
     "name": "stdout",
     "output_type": "stream",
     "text": [
      "... 231: 0.0022982924454099767 good.bad = 2.1990658751747105e-06\n",
      "epoch 232\n"
     ]
    },
    {
     "name": "stderr",
     "output_type": "stream",
     "text": [
      "100%|███████████████████████████████████████████████████████████████████████████████| 1405/1405 [02:02<00:00, 11.45it/s]\n"
     ]
    },
    {
     "name": "stdout",
     "output_type": "stream",
     "text": [
      "... 232: 0.002300415114040596 good.bad = 2.399132881691912e-06\n",
      "epoch 233\n"
     ]
    },
    {
     "name": "stderr",
     "output_type": "stream",
     "text": [
      "100%|███████████████████████████████████████████████████████████████████████████████| 1405/1405 [02:03<00:00, 11.41it/s]\n"
     ]
    },
    {
     "name": "stdout",
     "output_type": "stream",
     "text": [
      "... 233: 0.0022991310689495577 good.bad = 2.521550641176873e-06\n",
      "epoch 234\n"
     ]
    },
    {
     "name": "stderr",
     "output_type": "stream",
     "text": [
      "100%|███████████████████████████████████████████████████████████████████████████████| 1405/1405 [02:02<00:00, 11.46it/s]\n"
     ]
    },
    {
     "name": "stdout",
     "output_type": "stream",
     "text": [
      "... 234: 0.0022981650779749603 good.bad = 2.463755663484335e-06\n",
      "epoch 235\n"
     ]
    },
    {
     "name": "stderr",
     "output_type": "stream",
     "text": [
      "100%|███████████████████████████████████████████████████████████████████████████████| 1405/1405 [02:02<00:00, 11.47it/s]\n"
     ]
    },
    {
     "name": "stdout",
     "output_type": "stream",
     "text": [
      "... 235: 0.002298582635001276 good.bad = 2.4285350264108274e-06\n",
      "epoch 236\n"
     ]
    },
    {
     "name": "stderr",
     "output_type": "stream",
     "text": [
      "100%|███████████████████████████████████████████████████████████████████████████████| 1405/1405 [02:02<00:00, 11.47it/s]\n"
     ]
    },
    {
     "name": "stdout",
     "output_type": "stream",
     "text": [
      "... 236: 0.0022986899250190293 good.bad = 2.457737764416379e-06\n",
      "epoch 237\n"
     ]
    },
    {
     "name": "stderr",
     "output_type": "stream",
     "text": [
      "100%|███████████████████████████████████████████████████████████████████████████████| 1405/1405 [02:03<00:00, 11.41it/s]\n"
     ]
    },
    {
     "name": "stdout",
     "output_type": "stream",
     "text": [
      "... 237: 0.0022979321117758142 good.bad = 2.4302121346408967e-06\n",
      "epoch 238\n"
     ]
    },
    {
     "name": "stderr",
     "output_type": "stream",
     "text": [
      "100%|███████████████████████████████████████████████████████████████████████████████| 1405/1405 [02:03<00:00, 11.42it/s]\n"
     ]
    },
    {
     "name": "stdout",
     "output_type": "stream",
     "text": [
      "... 238: 0.0022980273956452824 good.bad = 2.4970981939986814e-06\n",
      "epoch 239\n"
     ]
    },
    {
     "name": "stderr",
     "output_type": "stream",
     "text": [
      "100%|███████████████████████████████████████████████████████████████████████████████| 1405/1405 [02:02<00:00, 11.46it/s]\n"
     ]
    },
    {
     "name": "stdout",
     "output_type": "stream",
     "text": [
      "... 239: 0.0022984139932803412 good.bad = 2.558761480031535e-06\n",
      "epoch 240\n"
     ]
    },
    {
     "name": "stderr",
     "output_type": "stream",
     "text": [
      "100%|███████████████████████████████████████████████████████████████████████████████| 1405/1405 [02:02<00:00, 11.51it/s]\n"
     ]
    },
    {
     "name": "stdout",
     "output_type": "stream",
     "text": [
      "... 240: 0.0023027614989894643 good.bad = 2.6605675884638913e-06\n",
      "epoch 241\n"
     ]
    },
    {
     "name": "stderr",
     "output_type": "stream",
     "text": [
      "100%|███████████████████████████████████████████████████████████████████████████████| 1405/1405 [02:02<00:00, 11.45it/s]\n"
     ]
    },
    {
     "name": "stdout",
     "output_type": "stream",
     "text": [
      "... 241: 0.0023023701035931334 good.bad = 2.7253126972937025e-06\n",
      "epoch 242\n"
     ]
    },
    {
     "name": "stderr",
     "output_type": "stream",
     "text": [
      "100%|███████████████████████████████████████████████████████████████████████████████| 1405/1405 [02:01<00:00, 11.52it/s]\n"
     ]
    },
    {
     "name": "stdout",
     "output_type": "stream",
     "text": [
      "... 242: 0.0022980343187111846 good.bad = 2.7515168312675087e-06\n",
      "epoch 243\n"
     ]
    },
    {
     "name": "stderr",
     "output_type": "stream",
     "text": [
      "100%|███████████████████████████████████████████████████████████████████████████████| 1405/1405 [02:01<00:00, 11.55it/s]\n"
     ]
    },
    {
     "name": "stdout",
     "output_type": "stream",
     "text": [
      "... 243: 0.002298271327339166 good.bad = 2.9196964987932006e-06\n",
      "epoch 244\n"
     ]
    },
    {
     "name": "stderr",
     "output_type": "stream",
     "text": [
      "100%|███████████████████████████████████████████████████████████████████████████████| 1405/1405 [02:01<00:00, 11.53it/s]\n"
     ]
    },
    {
     "name": "stdout",
     "output_type": "stream",
     "text": [
      "... 244: 0.0022983003688604965 good.bad = 2.8652636956394417e-06\n",
      "epoch 245\n"
     ]
    },
    {
     "name": "stderr",
     "output_type": "stream",
     "text": [
      "100%|███████████████████████████████████████████████████████████████████████████████| 1405/1405 [02:02<00:00, 11.49it/s]\n"
     ]
    },
    {
     "name": "stdout",
     "output_type": "stream",
     "text": [
      "... 245: 0.002297931204813456 good.bad = 2.753378112174687e-06\n",
      "epoch 246\n"
     ]
    },
    {
     "name": "stderr",
     "output_type": "stream",
     "text": [
      "100%|███████████████████████████████████████████████████████████████████████████████| 1405/1405 [02:01<00:00, 11.53it/s]\n"
     ]
    },
    {
     "name": "stdout",
     "output_type": "stream",
     "text": [
      "... 246: 0.002298290313683861 good.bad = 2.8090928481105948e-06\n",
      "epoch 247\n"
     ]
    },
    {
     "name": "stderr",
     "output_type": "stream",
     "text": [
      "100%|███████████████████████████████████████████████████████████████████████████████| 1405/1405 [02:01<00:00, 11.52it/s]\n"
     ]
    },
    {
     "name": "stdout",
     "output_type": "stream",
     "text": [
      "... 247: 0.002297811901894501 good.bad = 3.0129704100545496e-06\n",
      "epoch 248\n"
     ]
    },
    {
     "name": "stderr",
     "output_type": "stream",
     "text": [
      "100%|███████████████████████████████████████████████████████████████████████████████| 1405/1405 [02:01<00:00, 11.57it/s]\n"
     ]
    },
    {
     "name": "stdout",
     "output_type": "stream",
     "text": [
      "... 248: 0.002297797331501965 good.bad = 2.946097765743616e-06\n",
      "epoch 249\n"
     ]
    },
    {
     "name": "stderr",
     "output_type": "stream",
     "text": [
      "100%|███████████████████████████████████████████████████████████████████████████████| 1405/1405 [02:01<00:00, 11.55it/s]\n"
     ]
    },
    {
     "name": "stdout",
     "output_type": "stream",
     "text": [
      "... 249: 0.0022983212923395756 good.bad = 3.0510768738167826e-06\n",
      "epoch 250\n"
     ]
    },
    {
     "name": "stderr",
     "output_type": "stream",
     "text": [
      "100%|███████████████████████████████████████████████████████████████████████████████| 1405/1405 [02:01<00:00, 11.53it/s]\n"
     ]
    },
    {
     "name": "stdout",
     "output_type": "stream",
     "text": [
      "... 250: 0.0022979114568391253 good.bad = 3.1107458653423237e-06\n",
      "epoch 251\n"
     ]
    },
    {
     "name": "stderr",
     "output_type": "stream",
     "text": [
      "100%|███████████████████████████████████████████████████████████████████████████████| 1405/1405 [02:02<00:00, 11.51it/s]\n"
     ]
    },
    {
     "name": "stdout",
     "output_type": "stream",
     "text": [
      "... 251: 0.002297778991448736 good.bad = 3.2327229746442754e-06\n",
      "epoch 252\n"
     ]
    },
    {
     "name": "stderr",
     "output_type": "stream",
     "text": [
      "100%|███████████████████████████████████████████████████████████████████████████████| 1405/1405 [02:02<00:00, 11.51it/s]\n"
     ]
    },
    {
     "name": "stdout",
     "output_type": "stream",
     "text": [
      "... 252: 0.002299699112830942 good.bad = 3.3102901397796813e-06\n",
      "epoch 253\n"
     ]
    },
    {
     "name": "stderr",
     "output_type": "stream",
     "text": [
      "100%|███████████████████████████████████████████████████████████████████████████████| 1405/1405 [02:02<00:00, 11.51it/s]\n"
     ]
    },
    {
     "name": "stdout",
     "output_type": "stream",
     "text": [
      "... 253: 0.002298120917044779 good.bad = 3.4268821309524355e-06\n",
      "epoch 254\n"
     ]
    },
    {
     "name": "stderr",
     "output_type": "stream",
     "text": [
      "100%|███████████████████████████████████████████████████████████████████████████████| 1405/1405 [02:02<00:00, 11.47it/s]\n"
     ]
    },
    {
     "name": "stdout",
     "output_type": "stream",
     "text": [
      "... 254: 0.0022979251123563756 good.bad = 3.319839379400946e-06\n",
      "epoch 255\n"
     ]
    },
    {
     "name": "stderr",
     "output_type": "stream",
     "text": [
      "100%|███████████████████████████████████████████████████████████████████████████████| 1405/1405 [02:02<00:00, 11.46it/s]\n"
     ]
    },
    {
     "name": "stdout",
     "output_type": "stream",
     "text": [
      "... 255: 0.0022994145684298857 good.bad = 3.525334932419355e-06\n",
      "epoch 256\n"
     ]
    },
    {
     "name": "stderr",
     "output_type": "stream",
     "text": [
      "100%|███████████████████████████████████████████████████████████████████████████████| 1405/1405 [02:01<00:00, 11.53it/s]\n"
     ]
    },
    {
     "name": "stdout",
     "output_type": "stream",
     "text": [
      "... 256: 0.0022984697137962617 good.bad = 3.4665106340980856e-06\n",
      "epoch 257\n"
     ]
    },
    {
     "name": "stderr",
     "output_type": "stream",
     "text": [
      "100%|███████████████████████████████████████████████████████████████████████████████| 1405/1405 [02:02<00:00, 11.50it/s]\n"
     ]
    },
    {
     "name": "stdout",
     "output_type": "stream",
     "text": [
      "... 257: 0.002301927654816706 good.bad = 3.4631818834895967e-06\n",
      "epoch 258\n"
     ]
    },
    {
     "name": "stderr",
     "output_type": "stream",
     "text": [
      "100%|███████████████████████████████████████████████████████████████████████████████| 1405/1405 [02:02<00:00, 11.49it/s]\n"
     ]
    },
    {
     "name": "stdout",
     "output_type": "stream",
     "text": [
      "... 258: 0.002297737092662974 good.bad = 3.5174598451703787e-06\n",
      "epoch 259\n"
     ]
    },
    {
     "name": "stderr",
     "output_type": "stream",
     "text": [
      "100%|███████████████████████████████████████████████████████████████████████████████| 1405/1405 [02:03<00:00, 11.41it/s]\n"
     ]
    },
    {
     "name": "stdout",
     "output_type": "stream",
     "text": [
      "... 259: 0.0023017948477618475 good.bad = 3.6525132145470707e-06\n",
      "epoch 260\n"
     ]
    },
    {
     "name": "stderr",
     "output_type": "stream",
     "text": [
      "100%|███████████████████████████████████████████████████████████████████████████████| 1405/1405 [02:02<00:00, 11.49it/s]\n"
     ]
    },
    {
     "name": "stdout",
     "output_type": "stream",
     "text": [
      "... 260: 0.0022984651491556357 good.bad = 3.602588094508974e-06\n",
      "epoch 261\n"
     ]
    },
    {
     "name": "stderr",
     "output_type": "stream",
     "text": [
      "100%|███████████████████████████████████████████████████████████████████████████████| 1405/1405 [02:02<00:00, 11.45it/s]\n"
     ]
    },
    {
     "name": "stdout",
     "output_type": "stream",
     "text": [
      "... 261: 0.0022979816493124195 good.bad = 3.604467792683863e-06\n",
      "epoch 262\n"
     ]
    },
    {
     "name": "stderr",
     "output_type": "stream",
     "text": [
      "100%|███████████████████████████████████████████████████████████████████████████████| 1405/1405 [02:03<00:00, 11.41it/s]\n"
     ]
    },
    {
     "name": "stdout",
     "output_type": "stream",
     "text": [
      "... 262: 0.002303319806158476 good.bad = 3.544190349202836e-06\n",
      "epoch 263\n"
     ]
    },
    {
     "name": "stderr",
     "output_type": "stream",
     "text": [
      "100%|███████████████████████████████████████████████████████████████████████████████| 1405/1405 [02:03<00:00, 11.42it/s]\n"
     ]
    },
    {
     "name": "stdout",
     "output_type": "stream",
     "text": [
      "... 263: 0.0022979529457683823 good.bad = 3.6765170534636127e-06\n",
      "epoch 264\n"
     ]
    },
    {
     "name": "stderr",
     "output_type": "stream",
     "text": [
      "100%|███████████████████████████████████████████████████████████████████████████████| 1405/1405 [02:03<00:00, 11.38it/s]\n"
     ]
    },
    {
     "name": "stdout",
     "output_type": "stream",
     "text": [
      "... 264: 0.0022981971179572634 good.bad = 3.6204462503519608e-06\n",
      "epoch 265\n"
     ]
    },
    {
     "name": "stderr",
     "output_type": "stream",
     "text": [
      "100%|███████████████████████████████████████████████████████████████████████████████| 1405/1405 [02:02<00:00, 11.45it/s]\n"
     ]
    },
    {
     "name": "stdout",
     "output_type": "stream",
     "text": [
      "... 265: 0.002298546606199186 good.bad = 3.6362764603836695e-06\n",
      "epoch 266\n"
     ]
    },
    {
     "name": "stderr",
     "output_type": "stream",
     "text": [
      "100%|███████████████████████████████████████████████████████████████████████████████| 1405/1405 [02:03<00:00, 11.36it/s]\n"
     ]
    },
    {
     "name": "stdout",
     "output_type": "stream",
     "text": [
      "... 266: 0.002297917054427516 good.bad = 3.9201431718538515e-06\n",
      "epoch 267\n"
     ]
    },
    {
     "name": "stderr",
     "output_type": "stream",
     "text": [
      "100%|███████████████████████████████████████████████████████████████████████████████| 1405/1405 [02:04<00:00, 11.29it/s]\n"
     ]
    },
    {
     "name": "stdout",
     "output_type": "stream",
     "text": [
      "... 267: 0.0022996876560718326 good.bad = 3.8306161513901316e-06\n",
      "epoch 268\n"
     ]
    },
    {
     "name": "stderr",
     "output_type": "stream",
     "text": [
      "100%|███████████████████████████████████████████████████████████████████████████████| 1405/1405 [02:02<00:00, 11.44it/s]\n"
     ]
    },
    {
     "name": "stdout",
     "output_type": "stream",
     "text": [
      "... 268: 0.0022985260631206354 good.bad = 3.996593932242831e-06\n",
      "epoch 269\n"
     ]
    },
    {
     "name": "stderr",
     "output_type": "stream",
     "text": [
      "100%|███████████████████████████████████████████████████████████████████████████████| 1405/1405 [02:02<00:00, 11.47it/s]\n"
     ]
    },
    {
     "name": "stdout",
     "output_type": "stream",
     "text": [
      "... 269: 0.002297699984802709 good.bad = 4.253151018929202e-06\n",
      "epoch 270\n"
     ]
    },
    {
     "name": "stderr",
     "output_type": "stream",
     "text": [
      "100%|███████████████████████████████████████████████████████████████████████████████| 1405/1405 [02:03<00:00, 11.37it/s]\n"
     ]
    },
    {
     "name": "stdout",
     "output_type": "stream",
     "text": [
      "... 270: 0.0023047830746674852 good.bad = 4.394413736008573e-06\n",
      "epoch 271\n"
     ]
    },
    {
     "name": "stderr",
     "output_type": "stream",
     "text": [
      "100%|███████████████████████████████████████████████████████████████████████████████| 1405/1405 [02:02<00:00, 11.46it/s]\n"
     ]
    },
    {
     "name": "stdout",
     "output_type": "stream",
     "text": [
      "... 271: 0.0022985341829443316 good.bad = 4.375204298412427e-06\n",
      "epoch 272\n"
     ]
    },
    {
     "name": "stderr",
     "output_type": "stream",
     "text": [
      "100%|███████████████████████████████████████████████████████████████████████████████| 1405/1405 [02:02<00:00, 11.47it/s]\n"
     ]
    },
    {
     "name": "stdout",
     "output_type": "stream",
     "text": [
      "... 272: 0.0022978717847346093 good.bad = 4.541679572866997e-06\n",
      "epoch 273\n"
     ]
    },
    {
     "name": "stderr",
     "output_type": "stream",
     "text": [
      "100%|███████████████████████████████████████████████████████████████████████████████| 1405/1405 [02:02<00:00, 11.43it/s]\n"
     ]
    },
    {
     "name": "stdout",
     "output_type": "stream",
     "text": [
      "... 273: 0.002298750364995525 good.bad = 4.6187751649995334e-06\n",
      "epoch 274\n"
     ]
    },
    {
     "name": "stderr",
     "output_type": "stream",
     "text": [
      "100%|███████████████████████████████████████████████████████████████████████████████| 1405/1405 [02:02<00:00, 11.48it/s]\n"
     ]
    },
    {
     "name": "stdout",
     "output_type": "stream",
     "text": [
      "... 274: 0.0022976582479419592 good.bad = 4.526021712081274e-06\n",
      "epoch 275\n"
     ]
    },
    {
     "name": "stderr",
     "output_type": "stream",
     "text": [
      "100%|███████████████████████████████████████████████████████████████████████████████| 1405/1405 [02:03<00:00, 11.38it/s]\n"
     ]
    },
    {
     "name": "stdout",
     "output_type": "stream",
     "text": [
      "... 275: 0.0022976188115473983 good.bad = 4.6101313273538835e-06\n",
      "epoch 276\n"
     ]
    },
    {
     "name": "stderr",
     "output_type": "stream",
     "text": [
      "100%|███████████████████████████████████████████████████████████████████████████████| 1405/1405 [02:03<00:00, 11.40it/s]\n"
     ]
    },
    {
     "name": "stdout",
     "output_type": "stream",
     "text": [
      "... 276: 0.0022976371341590436 good.bad = 4.67706968265702e-06\n",
      "epoch 277\n"
     ]
    },
    {
     "name": "stderr",
     "output_type": "stream",
     "text": [
      "100%|███████████████████████████████████████████████████████████████████████████████| 1405/1405 [02:02<00:00, 11.46it/s]\n"
     ]
    },
    {
     "name": "stdout",
     "output_type": "stream",
     "text": [
      "... 277: 0.0022976319330248957 good.bad = 4.633996468328405e-06\n",
      "epoch 278\n"
     ]
    },
    {
     "name": "stderr",
     "output_type": "stream",
     "text": [
      "100%|███████████████████████████████████████████████████████████████████████████████| 1405/1405 [02:03<00:00, 11.42it/s]\n"
     ]
    },
    {
     "name": "stdout",
     "output_type": "stream",
     "text": [
      "... 278: 0.002302339477911989 good.bad = 4.709467702923575e-06\n",
      "epoch 279\n"
     ]
    },
    {
     "name": "stderr",
     "output_type": "stream",
     "text": [
      "100%|███████████████████████████████████████████████████████████████████████████████| 1405/1405 [02:03<00:00, 11.39it/s]\n"
     ]
    },
    {
     "name": "stdout",
     "output_type": "stream",
     "text": [
      "... 279: 0.0022978343906832257 good.bad = 4.718973741546506e-06\n",
      "epoch 280\n"
     ]
    },
    {
     "name": "stderr",
     "output_type": "stream",
     "text": [
      "100%|███████████████████████████████████████████████████████████████████████████████| 1405/1405 [02:03<00:00, 11.38it/s]\n"
     ]
    },
    {
     "name": "stdout",
     "output_type": "stream",
     "text": [
      "... 280: 0.0022977858589584292 good.bad = 4.68135840492323e-06\n",
      "epoch 281\n"
     ]
    },
    {
     "name": "stderr",
     "output_type": "stream",
     "text": [
      "100%|███████████████████████████████████████████████████████████████████████████████| 1405/1405 [02:03<00:00, 11.41it/s]\n"
     ]
    },
    {
     "name": "stdout",
     "output_type": "stream",
     "text": [
      "... 281: 0.002297735387489226 good.bad = 4.8388151299150195e-06\n",
      "epoch 282\n"
     ]
    },
    {
     "name": "stderr",
     "output_type": "stream",
     "text": [
      "100%|███████████████████████████████████████████████████████████████████████████████| 1405/1405 [02:03<00:00, 11.41it/s]\n"
     ]
    },
    {
     "name": "stdout",
     "output_type": "stream",
     "text": [
      "... 282: 0.0022981606632656686 good.bad = 5.2283080549386796e-06\n",
      "epoch 283\n"
     ]
    },
    {
     "name": "stderr",
     "output_type": "stream",
     "text": [
      "100%|███████████████████████████████████████████████████████████████████████████████| 1405/1405 [02:04<00:00, 11.32it/s]\n"
     ]
    },
    {
     "name": "stdout",
     "output_type": "stream",
     "text": [
      "... 283: 0.0023001753377108387 good.bad = 5.235527623881353e-06\n",
      "epoch 284\n"
     ]
    },
    {
     "name": "stderr",
     "output_type": "stream",
     "text": [
      "100%|███████████████████████████████████████████████████████████████████████████████| 1405/1405 [02:03<00:00, 11.35it/s]\n"
     ]
    },
    {
     "name": "stdout",
     "output_type": "stream",
     "text": [
      "... 284: 0.002297839892860767 good.bad = 5.30113220520434e-06\n",
      "epoch 285\n"
     ]
    },
    {
     "name": "stderr",
     "output_type": "stream",
     "text": [
      "100%|███████████████████████████████████████████████████████████████████████████████| 1405/1405 [02:03<00:00, 11.39it/s]\n"
     ]
    },
    {
     "name": "stdout",
     "output_type": "stream",
     "text": [
      "... 285: 0.002298164371860104 good.bad = 5.322086508385837e-06\n",
      "epoch 286\n"
     ]
    },
    {
     "name": "stderr",
     "output_type": "stream",
     "text": [
      "100%|███████████████████████████████████████████████████████████████████████████████| 1405/1405 [02:03<00:00, 11.37it/s]\n"
     ]
    },
    {
     "name": "stdout",
     "output_type": "stream",
     "text": [
      "... 286: 0.0022987272858444032 good.bad = 5.444593625725247e-06\n",
      "epoch 287\n"
     ]
    },
    {
     "name": "stderr",
     "output_type": "stream",
     "text": [
      "100%|███████████████████████████████████████████████████████████████████████████████| 1405/1405 [02:03<00:00, 11.40it/s]\n"
     ]
    },
    {
     "name": "stdout",
     "output_type": "stream",
     "text": [
      "... 287: 0.002298974502811812 good.bad = 5.548113676923094e-06\n",
      "epoch 288\n"
     ]
    },
    {
     "name": "stderr",
     "output_type": "stream",
     "text": [
      "100%|███████████████████████████████████████████████████████████████████████████████| 1405/1405 [02:04<00:00, 11.32it/s]\n"
     ]
    },
    {
     "name": "stdout",
     "output_type": "stream",
     "text": [
      "... 288: 0.002298559329730999 good.bad = 5.699156645277981e-06\n",
      "epoch 289\n"
     ]
    },
    {
     "name": "stderr",
     "output_type": "stream",
     "text": [
      "100%|███████████████████████████████████████████████████████████████████████████████| 1405/1405 [02:02<00:00, 11.47it/s]\n"
     ]
    },
    {
     "name": "stdout",
     "output_type": "stream",
     "text": [
      "... 289: 0.002297935865817797 good.bad = 5.85207862968673e-06\n",
      "epoch 290\n"
     ]
    },
    {
     "name": "stderr",
     "output_type": "stream",
     "text": [
      "100%|███████████████████████████████████████████████████████████████████████████████| 1405/1405 [02:02<00:00, 11.49it/s]\n"
     ]
    },
    {
     "name": "stdout",
     "output_type": "stream",
     "text": [
      "... 290: 0.0022979958915048913 good.bad = 6.098925496189622e-06\n",
      "epoch 291\n"
     ]
    },
    {
     "name": "stderr",
     "output_type": "stream",
     "text": [
      "100%|███████████████████████████████████████████████████████████████████████████████| 1405/1405 [02:03<00:00, 11.41it/s]\n"
     ]
    },
    {
     "name": "stdout",
     "output_type": "stream",
     "text": [
      "... 291: 0.002297977620637992 good.bad = 6.025172751833452e-06\n",
      "epoch 292\n"
     ]
    },
    {
     "name": "stderr",
     "output_type": "stream",
     "text": [
      "100%|███████████████████████████████████████████████████████████████████████████████| 1405/1405 [02:03<00:00, 11.40it/s]\n"
     ]
    },
    {
     "name": "stdout",
     "output_type": "stream",
     "text": [
      "... 292: 0.0022976545908644105 good.bad = 6.258094344957499e-06\n",
      "epoch 293\n"
     ]
    },
    {
     "name": "stderr",
     "output_type": "stream",
     "text": [
      "100%|███████████████████████████████████████████████████████████████████████████████| 1405/1405 [02:03<00:00, 11.40it/s]\n"
     ]
    },
    {
     "name": "stdout",
     "output_type": "stream",
     "text": [
      "... 293: 0.0022986126431840674 good.bad = 6.326717084448319e-06\n",
      "epoch 294\n"
     ]
    },
    {
     "name": "stderr",
     "output_type": "stream",
     "text": [
      "100%|███████████████████████████████████████████████████████████████████████████████| 1405/1405 [02:03<00:00, 11.42it/s]\n"
     ]
    },
    {
     "name": "stdout",
     "output_type": "stream",
     "text": [
      "... 294: 0.002298296361936263 good.bad = 6.4223495428450406e-06\n",
      "epoch 295\n"
     ]
    },
    {
     "name": "stderr",
     "output_type": "stream",
     "text": [
      "100%|███████████████████████████████████████████████████████████████████████████████| 1405/1405 [02:03<00:00, 11.39it/s]\n"
     ]
    },
    {
     "name": "stdout",
     "output_type": "stream",
     "text": [
      "... 295: 0.002297585478837161 good.bad = 6.497616595879663e-06\n",
      "epoch 296\n"
     ]
    },
    {
     "name": "stderr",
     "output_type": "stream",
     "text": [
      "100%|███████████████████████████████████████████████████████████████████████████████| 1405/1405 [02:02<00:00, 11.42it/s]\n"
     ]
    },
    {
     "name": "stdout",
     "output_type": "stream",
     "text": [
      "... 296: 0.0022977061963265636 good.bad = 6.749693056917749e-06\n",
      "epoch 297\n"
     ]
    },
    {
     "name": "stderr",
     "output_type": "stream",
     "text": [
      "100%|███████████████████████████████████████████████████████████████████████████████| 1405/1405 [02:03<00:00, 11.40it/s]\n"
     ]
    },
    {
     "name": "stdout",
     "output_type": "stream",
     "text": [
      "... 297: 0.0022988719612548917 good.bad = 6.614265203097602e-06\n",
      "epoch 298\n"
     ]
    },
    {
     "name": "stderr",
     "output_type": "stream",
     "text": [
      "100%|███████████████████████████████████████████████████████████████████████████████| 1405/1405 [02:04<00:00, 11.30it/s]\n"
     ]
    },
    {
     "name": "stdout",
     "output_type": "stream",
     "text": [
      "... 298: 0.0022978466720853887 good.bad = 6.669971298833843e-06\n",
      "epoch 299\n"
     ]
    },
    {
     "name": "stderr",
     "output_type": "stream",
     "text": [
      "100%|███████████████████████████████████████████████████████████████████████████████| 1405/1405 [02:03<00:00, 11.34it/s]\n"
     ]
    },
    {
     "name": "stdout",
     "output_type": "stream",
     "text": [
      "... 299: 0.002298086944153844 good.bad = 6.650233899563318e-06\n",
      "epoch 300\n"
     ]
    },
    {
     "name": "stderr",
     "output_type": "stream",
     "text": [
      "100%|███████████████████████████████████████████████████████████████████████████████| 1405/1405 [02:03<00:00, 11.42it/s]\n"
     ]
    },
    {
     "name": "stdout",
     "output_type": "stream",
     "text": [
      "... 300: 0.0022993162851880082 good.bad = 6.962164206925081e-06\n",
      "epoch 301\n"
     ]
    },
    {
     "name": "stderr",
     "output_type": "stream",
     "text": [
      "100%|███████████████████████████████████████████████████████████████████████████████| 1405/1405 [02:03<00:00, 11.36it/s]\n"
     ]
    },
    {
     "name": "stdout",
     "output_type": "stream",
     "text": [
      "... 301: 0.0022981586405390947 good.bad = 6.907157967361854e-06\n",
      "epoch 302\n"
     ]
    },
    {
     "name": "stderr",
     "output_type": "stream",
     "text": [
      "100%|███████████████████████████████████████████████████████████████████████████████| 1405/1405 [02:03<00:00, 11.38it/s]\n"
     ]
    },
    {
     "name": "stdout",
     "output_type": "stream",
     "text": [
      "... 302: 0.0023030458691403986 good.bad = 7.056029062368907e-06\n",
      "epoch 303\n"
     ]
    },
    {
     "name": "stderr",
     "output_type": "stream",
     "text": [
      "100%|███████████████████████████████████████████████████████████████████████████████| 1405/1405 [02:03<00:00, 11.39it/s]\n"
     ]
    },
    {
     "name": "stdout",
     "output_type": "stream",
     "text": [
      "... 303: 0.002297938658418366 good.bad = 7.072763764881529e-06\n",
      "epoch 304\n"
     ]
    },
    {
     "name": "stderr",
     "output_type": "stream",
     "text": [
      "100%|███████████████████████████████████████████████████████████████████████████████| 1405/1405 [02:02<00:00, 11.44it/s]\n"
     ]
    },
    {
     "name": "stdout",
     "output_type": "stream",
     "text": [
      "... 304: 0.002297811166447955 good.bad = 7.297068805200979e-06\n",
      "epoch 305\n"
     ]
    },
    {
     "name": "stderr",
     "output_type": "stream",
     "text": [
      "100%|███████████████████████████████████████████████████████████████████████████████| 1405/1405 [02:03<00:00, 11.38it/s]\n"
     ]
    },
    {
     "name": "stdout",
     "output_type": "stream",
     "text": [
      "... 305: 0.0023044245212763097 good.bad = 7.349378392973449e-06\n",
      "epoch 306\n"
     ]
    },
    {
     "name": "stderr",
     "output_type": "stream",
     "text": [
      "100%|███████████████████████████████████████████████████████████████████████████████| 1405/1405 [02:03<00:00, 11.38it/s]\n"
     ]
    },
    {
     "name": "stdout",
     "output_type": "stream",
     "text": [
      "... 306: 0.002299107602603561 good.bad = 7.242987976496806e-06\n",
      "epoch 307\n"
     ]
    },
    {
     "name": "stderr",
     "output_type": "stream",
     "text": [
      "100%|███████████████████████████████████████████████████████████████████████████████| 1405/1405 [02:03<00:00, 11.41it/s]\n"
     ]
    },
    {
     "name": "stdout",
     "output_type": "stream",
     "text": [
      "... 307: 0.002298625230497525 good.bad = 7.555956017313292e-06\n",
      "epoch 308\n"
     ]
    },
    {
     "name": "stderr",
     "output_type": "stream",
     "text": [
      "100%|███████████████████████████████████████████████████████████████████████████████| 1405/1405 [02:03<00:00, 11.41it/s]\n"
     ]
    },
    {
     "name": "stdout",
     "output_type": "stream",
     "text": [
      "... 308: 0.0022979282517171734 good.bad = 7.858728167775553e-06\n",
      "epoch 309\n"
     ]
    },
    {
     "name": "stderr",
     "output_type": "stream",
     "text": [
      "100%|███████████████████████████████████████████████████████████████████████████████| 1405/1405 [02:02<00:00, 11.43it/s]\n"
     ]
    },
    {
     "name": "stdout",
     "output_type": "stream",
     "text": [
      "... 309: 0.0022978399935330916 good.bad = 8.181324119505007e-06\n",
      "epoch 310\n"
     ]
    },
    {
     "name": "stderr",
     "output_type": "stream",
     "text": [
      "100%|███████████████████████████████████████████████████████████████████████████████| 1405/1405 [02:02<00:00, 11.45it/s]\n"
     ]
    },
    {
     "name": "stdout",
     "output_type": "stream",
     "text": [
      "... 310: 0.0022976381893334346 good.bad = 8.472065019304864e-06\n",
      "epoch 311\n"
     ]
    },
    {
     "name": "stderr",
     "output_type": "stream",
     "text": [
      "100%|███████████████████████████████████████████████████████████████████████████████| 1405/1405 [02:02<00:00, 11.49it/s]\n"
     ]
    },
    {
     "name": "stdout",
     "output_type": "stream",
     "text": [
      "... 311: 0.0022982749318641036 good.bad = 8.823371899779886e-06\n",
      "epoch 312\n"
     ]
    },
    {
     "name": "stderr",
     "output_type": "stream",
     "text": [
      "100%|███████████████████████████████████████████████████████████████████████████████| 1405/1405 [02:02<00:00, 11.48it/s]\n"
     ]
    },
    {
     "name": "stdout",
     "output_type": "stream",
     "text": [
      "... 312: 0.00229821342505097 good.bad = 8.83820939634461e-06\n",
      "epoch 313\n"
     ]
    },
    {
     "name": "stderr",
     "output_type": "stream",
     "text": [
      "100%|███████████████████████████████████████████████████████████████████████████████| 1405/1405 [02:02<00:00, 11.44it/s]\n"
     ]
    },
    {
     "name": "stdout",
     "output_type": "stream",
     "text": [
      "... 313: 0.0022983557229374414 good.bad = 8.987157343653962e-06\n",
      "epoch 314\n"
     ]
    },
    {
     "name": "stderr",
     "output_type": "stream",
     "text": [
      "100%|███████████████████████████████████████████████████████████████████████████████| 1405/1405 [02:02<00:00, 11.42it/s]\n"
     ]
    },
    {
     "name": "stdout",
     "output_type": "stream",
     "text": [
      "... 314: 0.0022989810881075645 good.bad = 8.894508027879056e-06\n",
      "epoch 315\n"
     ]
    },
    {
     "name": "stderr",
     "output_type": "stream",
     "text": [
      "100%|███████████████████████████████████████████████████████████████████████████████| 1405/1405 [02:04<00:00, 11.31it/s]\n"
     ]
    },
    {
     "name": "stdout",
     "output_type": "stream",
     "text": [
      "... 315: 0.0022979363258033196 good.bad = 8.944002729549538e-06\n",
      "epoch 316\n"
     ]
    },
    {
     "name": "stderr",
     "output_type": "stream",
     "text": [
      "100%|███████████████████████████████████████████████████████████████████████████████| 1405/1405 [02:02<00:00, 11.45it/s]\n"
     ]
    },
    {
     "name": "stdout",
     "output_type": "stream",
     "text": [
      "... 316: 0.0022979252034586147 good.bad = 9.15299096959643e-06\n",
      "epoch 317\n"
     ]
    },
    {
     "name": "stderr",
     "output_type": "stream",
     "text": [
      "100%|███████████████████████████████████████████████████████████████████████████████| 1405/1405 [02:04<00:00, 11.27it/s]\n"
     ]
    },
    {
     "name": "stdout",
     "output_type": "stream",
     "text": [
      "... 317: 0.0022977235369480405 good.bad = 9.083992154046427e-06\n",
      "epoch 318\n"
     ]
    },
    {
     "name": "stderr",
     "output_type": "stream",
     "text": [
      "100%|███████████████████████████████████████████████████████████████████████████████| 1405/1405 [02:03<00:00, 11.39it/s]\n"
     ]
    },
    {
     "name": "stdout",
     "output_type": "stream",
     "text": [
      "... 318: 0.0022982771436309314 good.bad = 9.23948573472444e-06\n",
      "epoch 319\n"
     ]
    },
    {
     "name": "stderr",
     "output_type": "stream",
     "text": [
      "100%|███████████████████████████████████████████████████████████████████████████████| 1405/1405 [02:04<00:00, 11.32it/s]\n"
     ]
    },
    {
     "name": "stdout",
     "output_type": "stream",
     "text": [
      "... 319: 0.002299885518577122 good.bad = 9.477396815782413e-06\n",
      "epoch 320\n"
     ]
    },
    {
     "name": "stderr",
     "output_type": "stream",
     "text": [
      "100%|███████████████████████████████████████████████████████████████████████████████| 1405/1405 [02:03<00:00, 11.35it/s]\n"
     ]
    },
    {
     "name": "stdout",
     "output_type": "stream",
     "text": [
      "... 320: 0.002298115836903851 good.bad = 9.504180525254924e-06\n",
      "epoch 321\n"
     ]
    },
    {
     "name": "stderr",
     "output_type": "stream",
     "text": [
      "100%|███████████████████████████████████████████████████████████████████████████████| 1405/1405 [02:02<00:00, 11.44it/s]\n"
     ]
    },
    {
     "name": "stdout",
     "output_type": "stream",
     "text": [
      "... 321: 0.0023042955462326993 good.bad = 9.676260560809169e-06\n",
      "epoch 322\n"
     ]
    },
    {
     "name": "stderr",
     "output_type": "stream",
     "text": [
      "100%|███████████████████████████████████████████████████████████████████████████████| 1405/1405 [02:03<00:00, 11.35it/s]\n"
     ]
    },
    {
     "name": "stdout",
     "output_type": "stream",
     "text": [
      "... 322: 0.0022982463234823424 good.bad = 1.005171361612156e-05\n",
      "epoch 323\n"
     ]
    },
    {
     "name": "stderr",
     "output_type": "stream",
     "text": [
      "100%|███████████████████████████████████████████████████████████████████████████████| 1405/1405 [02:03<00:00, 11.41it/s]\n"
     ]
    },
    {
     "name": "stdout",
     "output_type": "stream",
     "text": [
      "... 323: 0.0022987946952043557 good.bad = 9.996341759688221e-06\n",
      "epoch 324\n"
     ]
    },
    {
     "name": "stderr",
     "output_type": "stream",
     "text": [
      "100%|███████████████████████████████████████████████████████████████████████████████| 1405/1405 [02:02<00:00, 11.43it/s]\n"
     ]
    },
    {
     "name": "stdout",
     "output_type": "stream",
     "text": [
      "... 324: 0.0022977798355633917 good.bad = 1.0147558896278497e-05\n",
      "epoch 325\n"
     ]
    },
    {
     "name": "stderr",
     "output_type": "stream",
     "text": [
      "100%|███████████████████████████████████████████████████████████████████████████████| 1405/1405 [02:02<00:00, 11.45it/s]\n"
     ]
    },
    {
     "name": "stdout",
     "output_type": "stream",
     "text": [
      "... 325: 0.0022976938786740775 good.bad = 1.0759630640677642e-05\n",
      "epoch 326\n"
     ]
    },
    {
     "name": "stderr",
     "output_type": "stream",
     "text": [
      "100%|███████████████████████████████████████████████████████████████████████████████| 1405/1405 [02:01<00:00, 11.53it/s]\n"
     ]
    },
    {
     "name": "stdout",
     "output_type": "stream",
     "text": [
      "... 326: 0.0022978060927285127 good.bad = 1.084826362784952e-05\n",
      "epoch 327\n"
     ]
    },
    {
     "name": "stderr",
     "output_type": "stream",
     "text": [
      "100%|███████████████████████████████████████████████████████████████████████████████| 1405/1405 [02:02<00:00, 11.48it/s]\n"
     ]
    },
    {
     "name": "stdout",
     "output_type": "stream",
     "text": [
      "... 327: 0.0022978088418701232 good.bad = 1.075744421541458e-05\n",
      "epoch 328\n"
     ]
    },
    {
     "name": "stderr",
     "output_type": "stream",
     "text": [
      "100%|███████████████████████████████████████████████████████████████████████████████| 1405/1405 [02:02<00:00, 11.44it/s]\n"
     ]
    },
    {
     "name": "stdout",
     "output_type": "stream",
     "text": [
      "... 328: 0.0022984523444645293 good.bad = 1.084074847312877e-05\n",
      "epoch 329\n"
     ]
    },
    {
     "name": "stderr",
     "output_type": "stream",
     "text": [
      "100%|███████████████████████████████████████████████████████████████████████████████| 1405/1405 [02:03<00:00, 11.38it/s]\n"
     ]
    },
    {
     "name": "stdout",
     "output_type": "stream",
     "text": [
      "... 329: 0.0022979543469779963 good.bad = 1.102285023080185e-05\n",
      "epoch 330\n"
     ]
    },
    {
     "name": "stderr",
     "output_type": "stream",
     "text": [
      "100%|███████████████████████████████████████████████████████████████████████████████| 1405/1405 [02:03<00:00, 11.37it/s]\n"
     ]
    },
    {
     "name": "stdout",
     "output_type": "stream",
     "text": [
      "... 330: 0.002298133826343959 good.bad = 1.1508592251630034e-05\n",
      "epoch 331\n"
     ]
    },
    {
     "name": "stderr",
     "output_type": "stream",
     "text": [
      "100%|███████████████████████████████████████████████████████████████████████████████| 1405/1405 [02:03<00:00, 11.33it/s]\n"
     ]
    },
    {
     "name": "stdout",
     "output_type": "stream",
     "text": [
      "... 331: 0.002297638562794616 good.bad = 1.1450831152615137e-05\n",
      "epoch 332\n"
     ]
    },
    {
     "name": "stderr",
     "output_type": "stream",
     "text": [
      "100%|███████████████████████████████████████████████████████████████████████████████| 1405/1405 [02:03<00:00, 11.40it/s]\n"
     ]
    },
    {
     "name": "stdout",
     "output_type": "stream",
     "text": [
      "... 332: 0.002298058370116674 good.bad = 1.1370642823749222e-05\n",
      "epoch 333\n"
     ]
    },
    {
     "name": "stderr",
     "output_type": "stream",
     "text": [
      "100%|███████████████████████████████████████████████████████████████████████████████| 1405/1405 [02:02<00:00, 11.44it/s]\n"
     ]
    },
    {
     "name": "stdout",
     "output_type": "stream",
     "text": [
      "... 333: 0.002299547692623281 good.bad = 1.1675228961394168e-05\n",
      "epoch 334\n"
     ]
    },
    {
     "name": "stderr",
     "output_type": "stream",
     "text": [
      "100%|███████████████████████████████████████████████████████████████████████████████| 1405/1405 [02:03<00:00, 11.42it/s]\n"
     ]
    },
    {
     "name": "stdout",
     "output_type": "stream",
     "text": [
      "... 334: 0.002298437901880274 good.bad = 1.2139413229306228e-05\n",
      "epoch 335\n"
     ]
    },
    {
     "name": "stderr",
     "output_type": "stream",
     "text": [
      "100%|███████████████████████████████████████████████████████████████████████████████| 1405/1405 [02:03<00:00, 11.41it/s]\n"
     ]
    },
    {
     "name": "stdout",
     "output_type": "stream",
     "text": [
      "... 335: 0.002298581375354351 good.bad = 1.2394091754686087e-05\n",
      "epoch 336\n"
     ]
    },
    {
     "name": "stderr",
     "output_type": "stream",
     "text": [
      "100%|███████████████████████████████████████████████████████████████████████████████| 1405/1405 [02:02<00:00, 11.43it/s]\n"
     ]
    },
    {
     "name": "stdout",
     "output_type": "stream",
     "text": [
      "... 336: 0.002297963389589905 good.bad = 1.2619472727237735e-05\n",
      "epoch 337\n"
     ]
    },
    {
     "name": "stderr",
     "output_type": "stream",
     "text": [
      "100%|███████████████████████████████████████████████████████████████████████████████| 1405/1405 [02:02<00:00, 11.47it/s]\n"
     ]
    },
    {
     "name": "stdout",
     "output_type": "stream",
     "text": [
      "... 337: 0.0022978195346381475 good.bad = 1.3043336366536096e-05\n",
      "epoch 338\n"
     ]
    },
    {
     "name": "stderr",
     "output_type": "stream",
     "text": [
      "100%|███████████████████████████████████████████████████████████████████████████████| 1405/1405 [02:03<00:00, 11.38it/s]\n"
     ]
    },
    {
     "name": "stdout",
     "output_type": "stream",
     "text": [
      "... 338: 0.0022988228750865894 good.bad = 1.3341206795303151e-05\n",
      "epoch 339\n"
     ]
    },
    {
     "name": "stderr",
     "output_type": "stream",
     "text": [
      "100%|███████████████████████████████████████████████████████████████████████████████| 1405/1405 [02:02<00:00, 11.48it/s]\n"
     ]
    },
    {
     "name": "stdout",
     "output_type": "stream",
     "text": [
      "... 339: 0.0022984999478910637 good.bad = 1.3606371794594452e-05\n",
      "epoch 340\n"
     ]
    },
    {
     "name": "stderr",
     "output_type": "stream",
     "text": [
      "100%|███████████████████████████████████████████████████████████████████████████████| 1405/1405 [02:02<00:00, 11.49it/s]\n"
     ]
    },
    {
     "name": "stdout",
     "output_type": "stream",
     "text": [
      "... 340: 0.0022982603528543485 good.bad = 1.3922584003012162e-05\n",
      "epoch 341\n"
     ]
    },
    {
     "name": "stderr",
     "output_type": "stream",
     "text": [
      "100%|███████████████████████████████████████████████████████████████████████████████| 1405/1405 [02:01<00:00, 11.52it/s]\n"
     ]
    },
    {
     "name": "stdout",
     "output_type": "stream",
     "text": [
      "... 341: 0.002298038921010717 good.bad = 1.4220499906514306e-05\n",
      "epoch 342\n"
     ]
    },
    {
     "name": "stderr",
     "output_type": "stream",
     "text": [
      "100%|███████████████████████████████████████████████████████████████████████████████| 1405/1405 [02:03<00:00, 11.40it/s]\n"
     ]
    },
    {
     "name": "stdout",
     "output_type": "stream",
     "text": [
      "... 342: 0.0022982853819413967 good.bad = 1.4430869669013191e-05\n",
      "epoch 343\n"
     ]
    },
    {
     "name": "stderr",
     "output_type": "stream",
     "text": [
      "100%|███████████████████████████████████████████████████████████████████████████████| 1405/1405 [02:02<00:00, 11.48it/s]\n"
     ]
    },
    {
     "name": "stdout",
     "output_type": "stream",
     "text": [
      "... 343: 0.0022981639860323844 good.bad = 1.4671377357444726e-05\n",
      "epoch 344\n"
     ]
    },
    {
     "name": "stderr",
     "output_type": "stream",
     "text": [
      "100%|███████████████████████████████████████████████████████████████████████████████| 1405/1405 [02:02<00:00, 11.46it/s]\n"
     ]
    },
    {
     "name": "stdout",
     "output_type": "stream",
     "text": [
      "... 344: 0.0022981113750484253 good.bad = 1.5105201782716904e-05\n",
      "epoch 345\n"
     ]
    },
    {
     "name": "stderr",
     "output_type": "stream",
     "text": [
      "100%|███████████████████████████████████████████████████████████████████████████████| 1405/1405 [02:02<00:00, 11.47it/s]\n"
     ]
    },
    {
     "name": "stdout",
     "output_type": "stream",
     "text": [
      "... 345: 0.0022992561608586076 good.bad = 1.4964277397666592e-05\n",
      "epoch 346\n"
     ]
    },
    {
     "name": "stderr",
     "output_type": "stream",
     "text": [
      "100%|███████████████████████████████████████████████████████████████████████████████| 1405/1405 [02:03<00:00, 11.40it/s]\n"
     ]
    },
    {
     "name": "stdout",
     "output_type": "stream",
     "text": [
      "... 346: 0.0022982995259472803 good.bad = 1.505343425378669e-05\n",
      "epoch 347\n"
     ]
    },
    {
     "name": "stderr",
     "output_type": "stream",
     "text": [
      "100%|███████████████████████████████████████████████████████████████████████████████| 1405/1405 [02:02<00:00, 11.45it/s]\n"
     ]
    },
    {
     "name": "stdout",
     "output_type": "stream",
     "text": [
      "... 347: 0.0022976249059309247 good.bad = 1.573364352225326e-05\n",
      "epoch 348\n"
     ]
    },
    {
     "name": "stderr",
     "output_type": "stream",
     "text": [
      "100%|███████████████████████████████████████████████████████████████████████████████| 1405/1405 [02:03<00:00, 11.40it/s]\n"
     ]
    },
    {
     "name": "stdout",
     "output_type": "stream",
     "text": [
      "... 348: 0.0022982332280429337 good.bad = 1.5793768397998065e-05\n",
      "epoch 349\n"
     ]
    },
    {
     "name": "stderr",
     "output_type": "stream",
     "text": [
      "100%|███████████████████████████████████████████████████████████████████████████████| 1405/1405 [02:03<00:00, 11.39it/s]\n"
     ]
    },
    {
     "name": "stdout",
     "output_type": "stream",
     "text": [
      "... 349: 0.0022977476243967077 good.bad = 1.6413579942309298e-05\n",
      "epoch 350\n"
     ]
    },
    {
     "name": "stderr",
     "output_type": "stream",
     "text": [
      "100%|███████████████████████████████████████████████████████████████████████████████| 1405/1405 [02:01<00:00, 11.53it/s]\n"
     ]
    },
    {
     "name": "stdout",
     "output_type": "stream",
     "text": [
      "... 350: 0.0022996279913550938 good.bad = 1.7137090253527276e-05\n",
      "epoch 351\n"
     ]
    },
    {
     "name": "stderr",
     "output_type": "stream",
     "text": [
      "100%|███████████████████████████████████████████████████████████████████████████████| 1405/1405 [02:03<00:00, 11.39it/s]\n"
     ]
    },
    {
     "name": "stdout",
     "output_type": "stream",
     "text": [
      "... 351: 0.0022987135798667037 good.bad = 1.7845359252532944e-05\n",
      "epoch 352\n"
     ]
    },
    {
     "name": "stderr",
     "output_type": "stream",
     "text": [
      "100%|███████████████████████████████████████████████████████████████████████████████| 1405/1405 [02:02<00:00, 11.48it/s]\n"
     ]
    },
    {
     "name": "stdout",
     "output_type": "stream",
     "text": [
      "... 352: 0.0022983110665585646 good.bad = 1.814090137486346e-05\n",
      "epoch 353\n"
     ]
    },
    {
     "name": "stderr",
     "output_type": "stream",
     "text": [
      "100%|███████████████████████████████████████████████████████████████████████████████| 1405/1405 [02:03<00:00, 11.41it/s]\n"
     ]
    },
    {
     "name": "stdout",
     "output_type": "stream",
     "text": [
      "... 353: 0.0022977530138875322 good.bad = 1.835220245993696e-05\n",
      "epoch 354\n"
     ]
    },
    {
     "name": "stderr",
     "output_type": "stream",
     "text": [
      "100%|███████████████████████████████████████████████████████████████████████████████| 1405/1405 [02:02<00:00, 11.46it/s]\n"
     ]
    },
    {
     "name": "stdout",
     "output_type": "stream",
     "text": [
      "... 354: 0.0022984677848233792 good.bad = 1.8000555428443477e-05\n",
      "epoch 355\n"
     ]
    },
    {
     "name": "stderr",
     "output_type": "stream",
     "text": [
      "100%|███████████████████████████████████████████████████████████████████████████████| 1405/1405 [02:02<00:00, 11.43it/s]\n"
     ]
    },
    {
     "name": "stdout",
     "output_type": "stream",
     "text": [
      "... 355: 0.002298662606195888 good.bad = 1.826838888518978e-05\n",
      "epoch 356\n"
     ]
    },
    {
     "name": "stderr",
     "output_type": "stream",
     "text": [
      "100%|███████████████████████████████████████████████████████████████████████████████| 1405/1405 [02:02<00:00, 11.47it/s]\n"
     ]
    },
    {
     "name": "stdout",
     "output_type": "stream",
     "text": [
      "... 356: 0.002301001031526772 good.bad = 1.8852630091714673e-05\n",
      "epoch 357\n"
     ]
    },
    {
     "name": "stderr",
     "output_type": "stream",
     "text": [
      "100%|███████████████████████████████████████████████████████████████████████████████| 1405/1405 [02:02<00:00, 11.44it/s]\n"
     ]
    },
    {
     "name": "stdout",
     "output_type": "stream",
     "text": [
      "... 357: 0.002299170063318042 good.bad = 1.9472621715976857e-05\n",
      "epoch 358\n"
     ]
    },
    {
     "name": "stderr",
     "output_type": "stream",
     "text": [
      "100%|███████████████████████████████████████████████████████████████████████████████| 1405/1405 [02:02<00:00, 11.46it/s]\n"
     ]
    },
    {
     "name": "stdout",
     "output_type": "stream",
     "text": [
      "... 358: 0.00229777654975129 good.bad = 1.908067861222662e-05\n",
      "epoch 359\n"
     ]
    },
    {
     "name": "stderr",
     "output_type": "stream",
     "text": [
      "100%|███████████████████████████████████████████████████████████████████████████████| 1405/1405 [02:02<00:00, 11.49it/s]\n"
     ]
    },
    {
     "name": "stdout",
     "output_type": "stream",
     "text": [
      "... 359: 0.002299092361103624 good.bad = 1.9420058379182592e-05\n",
      "epoch 360\n"
     ]
    },
    {
     "name": "stderr",
     "output_type": "stream",
     "text": [
      "100%|███████████████████████████████████████████████████████████████████████████████| 1405/1405 [02:02<00:00, 11.45it/s]\n"
     ]
    },
    {
     "name": "stdout",
     "output_type": "stream",
     "text": [
      "... 360: 0.0023045683269690576 good.bad = 1.9605151464929804e-05\n",
      "epoch 361\n"
     ]
    },
    {
     "name": "stderr",
     "output_type": "stream",
     "text": [
      "100%|███████████████████████████████████████████████████████████████████████████████| 1405/1405 [02:02<00:00, 11.50it/s]\n"
     ]
    },
    {
     "name": "stdout",
     "output_type": "stream",
     "text": [
      "... 361: 0.0022995203020037863 good.bad = 1.99939440790331e-05\n",
      "epoch 362\n"
     ]
    },
    {
     "name": "stderr",
     "output_type": "stream",
     "text": [
      "100%|███████████████████████████████████████████████████████████████████████████████| 1405/1405 [02:02<00:00, 11.48it/s]\n"
     ]
    },
    {
     "name": "stdout",
     "output_type": "stream",
     "text": [
      "... 362: 0.002298714715019664 good.bad = 2.0451678210520186e-05\n",
      "epoch 363\n"
     ]
    },
    {
     "name": "stderr",
     "output_type": "stream",
     "text": [
      "100%|███████████████████████████████████████████████████████████████████████████████| 1405/1405 [02:02<00:00, 11.48it/s]\n"
     ]
    },
    {
     "name": "stdout",
     "output_type": "stream",
     "text": [
      "... 363: 0.0022980841452146473 good.bad = 2.047522684733849e-05\n",
      "epoch 364\n"
     ]
    },
    {
     "name": "stderr",
     "output_type": "stream",
     "text": [
      "100%|███████████████████████████████████████████████████████████████████████████████| 1405/1405 [02:03<00:00, 11.38it/s]\n"
     ]
    },
    {
     "name": "stdout",
     "output_type": "stream",
     "text": [
      "... 364: 0.002297644971975944 good.bad = 2.0660712834796868e-05\n",
      "epoch 365\n"
     ]
    },
    {
     "name": "stderr",
     "output_type": "stream",
     "text": [
      "100%|███████████████████████████████████████████████████████████████████████████████| 1405/1405 [02:02<00:00, 11.45it/s]\n"
     ]
    },
    {
     "name": "stdout",
     "output_type": "stream",
     "text": [
      "... 365: 0.0022976316324786494 good.bad = 2.1500431103049777e-05\n",
      "epoch 366\n"
     ]
    },
    {
     "name": "stderr",
     "output_type": "stream",
     "text": [
      "100%|███████████████████████████████████████████████████████████████████████████████| 1405/1405 [02:03<00:00, 11.41it/s]\n"
     ]
    },
    {
     "name": "stdout",
     "output_type": "stream",
     "text": [
      "... 366: 0.0022978939895693783 good.bad = 2.1888081391807646e-05\n",
      "epoch 367\n"
     ]
    },
    {
     "name": "stderr",
     "output_type": "stream",
     "text": [
      "100%|███████████████████████████████████████████████████████████████████████████████| 1405/1405 [02:02<00:00, 11.44it/s]\n"
     ]
    },
    {
     "name": "stdout",
     "output_type": "stream",
     "text": [
      "... 367: 0.002297991161438507 good.bad = 2.216536995547358e-05\n",
      "epoch 368\n"
     ]
    },
    {
     "name": "stderr",
     "output_type": "stream",
     "text": [
      "100%|███████████████████████████████████████████████████████████████████████████████| 1405/1405 [02:03<00:00, 11.42it/s]\n"
     ]
    },
    {
     "name": "stdout",
     "output_type": "stream",
     "text": [
      "... 368: 0.0023011505643147777 good.bad = 2.1929003196419217e-05\n",
      "epoch 369\n"
     ]
    },
    {
     "name": "stderr",
     "output_type": "stream",
     "text": [
      "100%|███████████████████████████████████████████████████████████████████████████████| 1405/1405 [02:02<00:00, 11.43it/s]\n"
     ]
    },
    {
     "name": "stdout",
     "output_type": "stream",
     "text": [
      "... 369: 0.0023045331138613705 good.bad = 2.2161710148793645e-05\n",
      "epoch 370\n"
     ]
    },
    {
     "name": "stderr",
     "output_type": "stream",
     "text": [
      "100%|███████████████████████████████████████████████████████████████████████████████| 1405/1405 [02:03<00:00, 11.38it/s]\n"
     ]
    },
    {
     "name": "stdout",
     "output_type": "stream",
     "text": [
      "... 370: 0.0022991654185952745 good.bad = 2.262585076096002e-05\n",
      "epoch 371\n"
     ]
    },
    {
     "name": "stderr",
     "output_type": "stream",
     "text": [
      "100%|███████████████████████████████████████████████████████████████████████████████| 1405/1405 [02:03<00:00, 11.42it/s]\n"
     ]
    },
    {
     "name": "stdout",
     "output_type": "stream",
     "text": [
      "... 371: 0.0022979716756265094 good.bad = 2.3544796931673773e-05\n",
      "epoch 372\n"
     ]
    },
    {
     "name": "stderr",
     "output_type": "stream",
     "text": [
      "100%|███████████████████████████████████████████████████████████████████████████████| 1405/1405 [02:03<00:00, 11.36it/s]\n"
     ]
    },
    {
     "name": "stdout",
     "output_type": "stream",
     "text": [
      "... 372: 0.0023047776227846767 good.bad = 2.3757616872899234e-05\n",
      "epoch 373\n"
     ]
    },
    {
     "name": "stderr",
     "output_type": "stream",
     "text": [
      "100%|███████████████████████████████████████████████████████████████████████████████| 1405/1405 [02:04<00:00, 11.33it/s]\n"
     ]
    },
    {
     "name": "stdout",
     "output_type": "stream",
     "text": [
      "... 373: 0.002297562801028897 good.bad = 2.4057337213889696e-05\n",
      "epoch 374\n"
     ]
    },
    {
     "name": "stderr",
     "output_type": "stream",
     "text": [
      "100%|███████████████████████████████████████████████████████████████████████████████| 1405/1405 [02:07<00:00, 10.99it/s]\n"
     ]
    },
    {
     "name": "stdout",
     "output_type": "stream",
     "text": [
      "... 374: 0.0022976744815614404 good.bad = 2.4692946681170724e-05\n",
      "epoch 375\n"
     ]
    },
    {
     "name": "stderr",
     "output_type": "stream",
     "text": [
      "100%|███████████████████████████████████████████████████████████████████████████████| 1405/1405 [02:04<00:00, 11.24it/s]\n"
     ]
    },
    {
     "name": "stdout",
     "output_type": "stream",
     "text": [
      "... 375: 0.0023004448721168757 good.bad = 2.467199374223128e-05\n",
      "epoch 376\n"
     ]
    },
    {
     "name": "stderr",
     "output_type": "stream",
     "text": [
      "100%|███████████████████████████████████████████████████████████████████████████████| 1405/1405 [02:02<00:00, 11.51it/s]\n"
     ]
    },
    {
     "name": "stdout",
     "output_type": "stream",
     "text": [
      "... 376: 0.002297876789682011 good.bad = 2.48714550252771e-05\n",
      "epoch 377\n"
     ]
    },
    {
     "name": "stderr",
     "output_type": "stream",
     "text": [
      "100%|███████████████████████████████████████████████████████████████████████████████| 1405/1405 [02:02<00:00, 11.45it/s]\n"
     ]
    },
    {
     "name": "stdout",
     "output_type": "stream",
     "text": [
      "... 377: 0.0023047389792778873 good.bad = 2.5219665985787287e-05\n",
      "epoch 378\n"
     ]
    },
    {
     "name": "stderr",
     "output_type": "stream",
     "text": [
      " 29%|███████████████████████▌                                                        | 414/1405 [00:37<01:28, 11.16it/s]\n"
     ]
    },
    {
     "ename": "KeyboardInterrupt",
     "evalue": "",
     "output_type": "error",
     "traceback": [
      "\u001b[0;31m---------------------------------------------------------------------------\u001b[0m",
      "\u001b[0;31mKeyboardInterrupt\u001b[0m                         Traceback (most recent call last)",
      "Cell \u001b[0;32mIn[339], line 15\u001b[0m\n\u001b[1;32m     13\u001b[0m \u001b[38;5;28;01mfor\u001b[39;00m i \u001b[38;5;129;01min\u001b[39;00m tqdm(\u001b[38;5;28mrange\u001b[39m(\u001b[38;5;241m0\u001b[39m, \u001b[38;5;28mlen\u001b[39m(shuffle_idx), batch_size)):\n\u001b[1;32m     14\u001b[0m     index_batch \u001b[38;5;241m=\u001b[39m shuffle_idx[i:i\u001b[38;5;241m+\u001b[39mbatch_size]\n\u001b[0;32m---> 15\u001b[0m     index_batch \u001b[38;5;241m=\u001b[39m np\u001b[38;5;241m.\u001b[39marray([indexes[ii] \u001b[38;5;28;01mfor\u001b[39;00m ii \u001b[38;5;129;01min\u001b[39;00m index_batch])\n\u001b[1;32m     16\u001b[0m     X_batch \u001b[38;5;241m=\u001b[39m np\u001b[38;5;241m.\u001b[39mconcatenate(\n\u001b[1;32m     17\u001b[0m         [[X[ii,jj]] \u001b[38;5;28;01mfor\u001b[39;00m ii, jj \u001b[38;5;129;01min\u001b[39;00m index_batch ])\u001b[38;5;241m.\u001b[39mastype(np\u001b[38;5;241m.\u001b[39mfloat32)\n\u001b[1;32m     18\u001b[0m     X_batch \u001b[38;5;241m=\u001b[39m np\u001b[38;5;241m.\u001b[39mclip(X_batch, \u001b[38;5;241m0.0\u001b[39m, Xmax)\n",
      "Cell \u001b[0;32mIn[339], line 15\u001b[0m, in \u001b[0;36m<listcomp>\u001b[0;34m(.0)\u001b[0m\n\u001b[1;32m     13\u001b[0m \u001b[38;5;28;01mfor\u001b[39;00m i \u001b[38;5;129;01min\u001b[39;00m tqdm(\u001b[38;5;28mrange\u001b[39m(\u001b[38;5;241m0\u001b[39m, \u001b[38;5;28mlen\u001b[39m(shuffle_idx), batch_size)):\n\u001b[1;32m     14\u001b[0m     index_batch \u001b[38;5;241m=\u001b[39m shuffle_idx[i:i\u001b[38;5;241m+\u001b[39mbatch_size]\n\u001b[0;32m---> 15\u001b[0m     index_batch \u001b[38;5;241m=\u001b[39m np\u001b[38;5;241m.\u001b[39marray([\u001b[43mindexes\u001b[49m\u001b[43m[\u001b[49m\u001b[43mii\u001b[49m\u001b[43m]\u001b[49m \u001b[38;5;28;01mfor\u001b[39;00m ii \u001b[38;5;129;01min\u001b[39;00m index_batch])\n\u001b[1;32m     16\u001b[0m     X_batch \u001b[38;5;241m=\u001b[39m np\u001b[38;5;241m.\u001b[39mconcatenate(\n\u001b[1;32m     17\u001b[0m         [[X[ii,jj]] \u001b[38;5;28;01mfor\u001b[39;00m ii, jj \u001b[38;5;129;01min\u001b[39;00m index_batch ])\u001b[38;5;241m.\u001b[39mastype(np\u001b[38;5;241m.\u001b[39mfloat32)\n\u001b[1;32m     18\u001b[0m     X_batch \u001b[38;5;241m=\u001b[39m np\u001b[38;5;241m.\u001b[39mclip(X_batch, \u001b[38;5;241m0.0\u001b[39m, Xmax)\n",
      "File \u001b[0;32m/opt/conda/lib/python3.10/site-packages/numpy/core/memmap.py:334\u001b[0m, in \u001b[0;36mmemmap.__getitem__\u001b[0;34m(self, index)\u001b[0m\n\u001b[1;32m    333\u001b[0m \u001b[38;5;28;01mdef\u001b[39;00m \u001b[38;5;21m__getitem__\u001b[39m(\u001b[38;5;28mself\u001b[39m, index):\n\u001b[0;32m--> 334\u001b[0m     res \u001b[38;5;241m=\u001b[39m \u001b[38;5;28;43msuper\u001b[39;49m\u001b[43m(\u001b[49m\u001b[43m)\u001b[49m\u001b[38;5;241;43m.\u001b[39;49m\u001b[38;5;21;43m__getitem__\u001b[39;49m\u001b[43m(\u001b[49m\u001b[43mindex\u001b[49m\u001b[43m)\u001b[49m\n\u001b[1;32m    335\u001b[0m     \u001b[38;5;28;01mif\u001b[39;00m \u001b[38;5;28mtype\u001b[39m(res) \u001b[38;5;129;01mis\u001b[39;00m memmap \u001b[38;5;129;01mand\u001b[39;00m res\u001b[38;5;241m.\u001b[39m_mmap \u001b[38;5;129;01mis\u001b[39;00m \u001b[38;5;28;01mNone\u001b[39;00m:\n\u001b[1;32m    336\u001b[0m         \u001b[38;5;28;01mreturn\u001b[39;00m res\u001b[38;5;241m.\u001b[39mview(\u001b[38;5;28mtype\u001b[39m\u001b[38;5;241m=\u001b[39mndarray)\n",
      "\u001b[0;31mKeyboardInterrupt\u001b[0m: "
     ]
    }
   ],
   "source": [
    "optimizer = torch.optim.Adagrad(glove.parameters(), lr=0.005, weight_decay=0.95)\n",
    "\n",
    "good = torch.tensor(word_index['good'] + index_from, dtype=torch.int64).to('cuda')\n",
    "bad = torch.tensor(word_index['bad'] + index_from, dtype=torch.int64).to('cuda')\n",
    "\n",
    "epochs = 1000\n",
    "batch_size = 8192\n",
    "Xmax = 1000.0\n",
    "for epoch in range(epochs):\n",
    "    print('epoch', epoch)\n",
    "    np.random.shuffle(shuffle_idx)\n",
    "    loss_v = []\n",
    "    for i in tqdm(range(0, len(shuffle_idx), batch_size)):\n",
    "        index_batch = shuffle_idx[i:i+batch_size]\n",
    "        index_batch = np.array([indexes[ii] for ii in index_batch])\n",
    "        X_batch = np.concatenate(\n",
    "            [[X[ii,jj]] for ii, jj in index_batch ]).astype(np.float32)\n",
    "        X_batch = np.clip(X_batch, 0.0, Xmax)\n",
    "        index_batch = torch.from_numpy(np.array(index_batch).astype(np.int64)).to('cuda')\n",
    "        X_batch = torch.from_numpy(X_batch.astype(np.float32)).to('cuda')\n",
    "        loss = glove.loss(index_batch, X_batch, Xmax)\n",
    "        loss_v.append(loss.item())\n",
    "        loss.backward()\n",
    "        optimizer.step()\n",
    "        optimizer.zero_grad() \n",
    "\n",
    "    good_v = glove.W(good).detach().cpu().numpy()\n",
    "    bad_v = glove.W(bad).detach().cpu().numpy()\n",
    "    good_v = good_v / np.linalg.norm(good_v)\n",
    "    bad_v = bad_v / np.linalg.norm(bad_v)\n",
    "    \n",
    "    print(f'... {epoch}: {np.mean(loss_v)} good.bad = {np.dot(good_v, bad_v)}')\n"
   ]
  },
  {
   "cell_type": "code",
   "execution_count": 347,
   "metadata": {},
   "outputs": [
    {
     "data": {
      "text/plain": [
       "-0.0013332069"
      ]
     },
     "execution_count": 347,
     "metadata": {},
     "output_type": "execute_result"
    }
   ],
   "source": [
    "good = torch.tensor(word_index['good'] + index_from, dtype=torch.int64).to('cuda')\n",
    "bad = torch.tensor(word_index['bad'] + index_from, dtype=torch.int64).to('cuda')\n",
    "\n",
    "good_v = glove.W(good).detach().cpu().numpy()\n",
    "bad_v = glove.W(bad).detach().cpu().numpy()\n",
    "good_v = good_v / np.linalg.norm(good_v)\n",
    "bad_v = bad_v / np.linalg.norm(bad_v)\n",
    "\n",
    "np.dot(good_v, bad_v)"
   ]
  },
  {
   "cell_type": "markdown",
   "metadata": {},
   "source": [
    "GloVe (Global Vectors for Word Representation) is an algorithm used for generating word embeddings, which are dense vector representations of words in a high-dimensional space. These word embeddings capture semantic and syntactic relationships between words based on their co-occurrence statistics in a given corpus.\n",
    "\n",
    "The GloVe algorithm operates on a co-occurrence matrix, which captures the number of times words appear together in the same context window. The co-occurrence matrix is transformed into a weighted matrix, where the weights represent the significance of the co-occurrence. The transformation is done using a weighting function that assigns higher weights to co-occurrences that are more informative.\n",
    "\n",
    "The objective of GloVe is to learn word embeddings that encode the information in the co-occurrence matrix. It does so by optimizing a loss function that aims to minimize the difference between the dot product of word vectors and the logarithm of their co-occurrence weights.\n",
    "\n",
    "During the training process, GloVe adjusts the word embeddings and bias terms to find a balance between the observed co-occurrence counts and the dot products of the word vectors. By doing this, it captures both global and local information about word relationships.\n",
    "\n",
    "Regarding your question, to find a synonym for \"positive,\" we can look for a word whose word vector has a high cosine similarity with the word vector for \"positive.\" Similarly, to find an antonym for \"positive,\" we can look for a word whose word vector has a low cosine similarity with the word vector for \"positive.\" By comparing the cosine similarities of different word vectors with the word vector for \"positive,\" we can determine words that are similar or dissimilar in meaning."
   ]
  },
  {
   "cell_type": "markdown",
   "metadata": {},
   "source": [
    "Now explain with your own words how Glove works.  Find which word is a synonym for `positive` and an antonym for `positive`."
   ]
  },
  {
   "cell_type": "code",
   "execution_count": 3,
   "metadata": {},
   "outputs": [],
   "source": [
    "# your code goes here\n",
    "# I have written the code but do not have the gpu to compute it \n",
    "positive_word = 'positive'\n",
    "positive_index = word_index[positive_word] + index_from\n",
    "positive_tensor = torch.tensor(positive_index, dtype=torch.int64).to(device)\n",
    "positive_vector = glove.W(positive_tensor).detach().cpu().numpy()\n",
    "\n",
    "most_similar_word = None\n",
    "most_similar_cosine_similarity = -1.0\n",
    "most_dissimilar_word = None\n",
    "most_dissimilar_cosine_similarity = 1.0\n",
    "\n",
    "for word, index in word_index.items():\n",
    "    word_index = index + index_from\n",
    "    word_tensor = torch.tensor(word_index, dtype=torch.int64).to(device)\n",
    "    word_vector = glove.W(word_tensor).detach().cpu().numpy()\n",
    "\n",
    "    # Calculate cosine similarity\n",
    "    cosine_similarity = np.dot(positive_vector, word_vector) / (np.linalg.norm(positive_vector) * np.linalg.norm(word_vector))\n",
    "\n",
    "    if cosine_similarity > most_similar_cosine_similarity:\n",
    "        most_similar_word = word\n",
    "        most_similar_cosine_similarity = cosine_similarity\n",
    "    \n",
    "    if cosine_similarity < most_dissimilar_cosine_similarity:\n",
    "        most_dissimilar_word = word\n",
    "        most_dissimilar_cosine_similarity = cosine_similarity\n",
    "print(\"Synonym for 'positive':\", most_similar_word)\n",
    "print(\"Antonym for 'positive':\", most_dissimilar_word)\n"
   ]
  },
  {
   "cell_type": "markdown",
   "metadata": {},
   "source": [
    "# 3. Second Attempt to Build a Large Language Model\n",
    "\n",
    "In an attempt to create our first generator network before we start using transformers, you will build a large language model using a Convolutional (causal) and Embeddings.\n",
    "\n",
    "We will split this task into two task.\n",
    "\n",
    "- First task is to try to predict the next word.\n",
    "- Second task is to implement and train a network that will use the head to predict the sentiment of the sentence."
   ]
  },
  {
   "cell_type": "code",
   "execution_count": 2,
   "metadata": {},
   "outputs": [],
   "source": [
    "import torch\n",
    "from torch import nn\n",
    "from torch.nn import functional as F\n",
    "import string\n",
    "import os\n",
    "import pandas as pd\n",
    "import numpy as np"
   ]
  },
  {
   "cell_type": "code",
   "execution_count": 3,
   "metadata": {},
   "outputs": [
    {
     "name": "stdout",
     "output_type": "stream",
     "text": [
      "[79, 76, 83, 83, 86, 7, 94, 86, 89, 83, 75]\n",
      "['[START]', '[OOV]', '[OOV]', 'h', 'e', 'l', 'l', 'o', ' ', 'w', 'o', 'r', 'l', 'd']\n"
     ]
    }
   ],
   "source": [
    "class Tokenizer:\n",
    "    def __init__(self):\n",
    "        self.chars = ['\\00', '\\01'] + sorted(list(set(string.printable)))\n",
    "        self.vocab_size = len(self.chars)\n",
    "        self.stoi = { ch:i for i,ch in enumerate(self.chars) }\n",
    "        self.itos = { i:ch for i,ch in enumerate(self.chars) }\n",
    "        \n",
    "        self.itos[0] = '[START]'\n",
    "        self.itos[1] = '[OOV]'\n",
    "                            \n",
    "    def encode(self, sentence):\n",
    "        return [self.stoi[c] if c in self.stoi else 1 for c in sentence]\n",
    "    \n",
    "    def decode(self, indexes):\n",
    "        return [self.itos[i] for i in indexes]\n",
    "    \n",
    "    def start(self): return '\\00'\n",
    "\n",
    "    def oov(self): return '\\01'\n",
    "    \n",
    "tokenizer = Tokenizer()\n",
    "print(tokenizer.encode('hello world'))\n",
    "print(tokenizer.decode([0] + [1] + tokenizer.encode('\\x96hello world')))"
   ]
  },
  {
   "cell_type": "code",
   "execution_count": 4,
   "metadata": {},
   "outputs": [],
   "source": [
    "def process_songs(df):\n",
    "    songs = tokenizer.start().join(df.text.to_numpy())\n",
    "    songs = tokenizer.start() + songs.replace('\\r', '', -1)\n",
    "    return tokenizer.encode(songs)"
   ]
  },
  {
   "cell_type": "code",
   "execution_count": 5,
   "metadata": {},
   "outputs": [],
   "source": [
    "# Download the song dataset from\n",
    "# https://www.kaggle.com/datasets/notshrirang/spotify-million-song-dataset"
   ]
  },
  {
   "cell_type": "code",
   "execution_count": 6,
   "metadata": {},
   "outputs": [
    {
     "name": "stdout",
     "output_type": "stream",
     "text": [
      "57650 songs\n"
     ]
    }
   ],
   "source": [
    "df = pd.read_csv('spotify_millsongdata.csv')\n",
    "print(len(df), 'songs')"
   ]
  },
  {
   "cell_type": "code",
   "execution_count": 7,
   "metadata": {},
   "outputs": [],
   "source": [
    "if not os.path.exists('spotify_x_train.bin') or not os.path.exists('spotify_x_test.bin'):\n",
    "    train_size = int(len(df) * 0.9)\n",
    "    x_train = process_songs(df.iloc[:train_size])\n",
    "    x_test = process_songs(df.iloc[train_size:])\n",
    "    assert np.max(x_train) < 256\n",
    "    print(len(x_train), len(x_test))\n",
    "    \n",
    "    x_train = np.array(x_train, dtype=np.uint8)\n",
    "    x_test = np.array(x_test, dtype=np.uint8)\n",
    "    \n",
    "    x_train.tofile('spotify_x_train.bin')\n",
    "    x_test.tofile('spotify_x_test.bin')"
   ]
  },
  {
   "cell_type": "code",
   "execution_count": 8,
   "metadata": {},
   "outputs": [],
   "source": [
    "# we will use mmap to reduce memory in this jupyter notebook\n",
    "x_train = np.memmap('spotify_x_train.bin', dtype=np.uint8, mode='r')\n",
    "x_test = np.memmap('spotify_x_test.bin', dtype=np.uint8, mode='r')"
   ]
  },
  {
   "cell_type": "code",
   "execution_count": 9,
   "metadata": {},
   "outputs": [
    {
     "data": {
      "text/plain": [
       "(410, 4186)"
      ]
     },
     "execution_count": 9,
     "metadata": {},
     "output_type": "execute_result"
    }
   ],
   "source": [
    "df.text.apply(len).min(), df.text.apply(len).max()"
   ]
  },
  {
   "cell_type": "code",
   "execution_count": 10,
   "metadata": {},
   "outputs": [
    {
     "data": {
      "text/plain": [
       "643"
      ]
     },
     "execution_count": 10,
     "metadata": {},
     "output_type": "execute_result"
    }
   ],
   "source": [
    "len(df.artist.unique())"
   ]
  },
  {
   "cell_type": "code",
   "execution_count": 11,
   "metadata": {},
   "outputs": [],
   "source": [
    "# this code is derived from nanogpt (https://github.com/karpathy/nanoGPT)\n",
    "\n",
    "class CausalSelfAttention(nn.Module):\n",
    "    def __init__(self, transformers_size, n_heads, dropout,\n",
    "                 max_seqlen, bias):\n",
    "        super().__init__()\n",
    "        assert transformers_size % n_heads == 0\n",
    "        self.c_attn = nn.Linear(\n",
    "                transformers_size, 3 * transformers_size, bias=bias)\n",
    "        # output projection\n",
    "        self.c_proj = nn.Linear(transformers_size,\n",
    "                                transformers_size, bias=bias)\n",
    "        # regularization\n",
    "        self.attn_dropout = nn.Dropout(dropout)\n",
    "        self.resid_dropout = nn.Dropout(dropout)\n",
    "        self.n_heads = n_heads\n",
    "        self.transformers_size = transformers_size\n",
    "        self.dropout = dropout\n",
    "\n",
    "        self.register_buffer(\n",
    "            \"bias\", torch.tril(torch.ones(max_seqlen, max_seqlen))\n",
    "            .view(1, 1, max_seqlen, max_seqlen))\n",
    "            \n",
    "    def forward(self, x):\n",
    "        B, T, C = x.size()\n",
    "\n",
    "        # calculate query, key, values for all heads in batch \n",
    "        # and move head forward to be the batch dim\n",
    "        q, k, v  = self.c_attn(x).split(self.transformers_size, dim=2)\n",
    "        # (B, nh, T, hs)\n",
    "        k = k.view(B, T, self.n_heads, C // self.n_heads).transpose(1, 2)\n",
    "        q = q.view(B, T, self.n_heads, C // self.n_heads).transpose(1, 2)\n",
    "        v = v.view(B, T, self.n_heads, C // self.n_heads).transpose(1, 2)\n",
    "\n",
    "        # causal self-attention; Self-attend: \n",
    "        #     (B, nh, T, hs) x (B, nh, hs, T) -> (B, nh, T, T)\n",
    "        # manual implementation of attention\n",
    "        att = (q @ k.transpose(-2, -1)) * (1.0 / math.sqrt(k.size(-1)))\n",
    "        att = att.masked_fill(self.bias[:,:,:T,:T] == 0, float('-inf'))\n",
    "        att = F.softmax(att, dim=-1)\n",
    "        att = self.attn_dropout(att)\n",
    "        y = att @ v # (B, nh, T, T) x (B, nh, T, hs) -> (B, nh, T, hs)\n",
    "        # re-assemble all head outputs side by side\n",
    "        y = y.transpose(1, 2).contiguous().view(B, T, C)\n",
    "\n",
    "        # output projection\n",
    "        y = self.resid_dropout(self.c_proj(y))\n",
    "        return y\n",
    "\n",
    "class FeedForward(nn.Module):\n",
    "    def __init__(self, transformers_size, dropout, bias=False):\n",
    "        super().__init__()\n",
    "        n = 4\n",
    "        self.c_fc    = nn.Linear(\n",
    "            transformers_size, n * transformers_size, bias=bias)\n",
    "        self.c_proj  = nn.Linear(\n",
    "            n * transformers_size, transformers_size, bias=bias)\n",
    "        self.dropout = nn.Dropout(dropout)\n",
    "\n",
    "    def forward(self, x):\n",
    "        x = self.c_fc(x)\n",
    "        x = nn.GELU(approximate='tanh')(x)\n",
    "        x = self.c_proj(x)\n",
    "        x = self.dropout(x)\n",
    "        return x\n",
    "    \n",
    "class Block(nn.Module):\n",
    "    def __init__(\n",
    "            self, transformers_size, num_heads, dropout,\n",
    "            max_seqlen, bias=False):\n",
    "        super().__init__()\n",
    "        self.ln_1 = nn.LayerNorm(transformers_size)\n",
    "        self.attn = CausalSelfAttention(\n",
    "            transformers_size, num_heads, dropout, max_seqlen, bias=bias)\n",
    "        self.ln_2 = nn.LayerNorm(transformers_size)\n",
    "        self.mlp = FeedForward(transformers_size, dropout, bias)\n",
    "\n",
    "    def forward(self, x):\n",
    "        x = x + self.attn(self.ln_1(x))\n",
    "        x = x + self.mlp(self.ln_2(x))\n",
    "        return x\n",
    " \n",
    "class LLM(nn.Module):\n",
    "    def __init__(self, n_layers, num_heads, embedding_size, vocab_size, max_seqlen, dropout):\n",
    "        super().__init__()\n",
    "        self.max_seqlen = max_seqlen\n",
    "        self.wte = nn.Embedding(vocab_size, embedding_size)\n",
    "        self.wpe = nn.Embedding(max_seqlen, embedding_size)\n",
    "        self.dropout = nn.Dropout(dropout)\n",
    "        self.blocks = nn.ModuleList([\n",
    "            Block(embedding_size, num_heads, dropout, max_seqlen, bias=True)\n",
    "            for _ in range(n_layers)\n",
    "        ])\n",
    "        self.ln_f = nn.LayerNorm(embedding_size)\n",
    "        self.lm_head = nn.Linear(\n",
    "            embedding_size, vocab_size, bias=False)\n",
    "        \n",
    "        # from GPT2 / nanoGPT\n",
    "        \n",
    "        self.wte.weight = self.lm_head.weight\n",
    "        self.apply(self._init_weights)\n",
    "        for pn, p in self.named_parameters():\n",
    "            if pn.endswith('c_proj.weight'):\n",
    "                torch.nn.init.normal_(\n",
    "                    p, mean=0.0, std=0.02/math.sqrt(2 * n_layers))\n",
    "\n",
    "    def _init_weights(self, module):\n",
    "        if isinstance(module, nn.Linear):\n",
    "            torch.nn.init.normal_(module.weight, mean=0.0, std=0.02)\n",
    "            if module.bias is not None:\n",
    "                torch.nn.init.zeros_(module.bias)\n",
    "        elif isinstance(module, nn.Embedding):\n",
    "            torch.nn.init.normal_(module.weight, mean=0.0, std=0.02)\n",
    "\n",
    "    def configure_optimizers(self, weight_decay, learning_rate, betas, device_type):\n",
    "        \"\"\"\n",
    "        This long function is unfortunately doing something very simple \n",
    "        and is being very defensive: \n",
    "        We are separating out all parameters of the model into two buckets: \n",
    "        those that will experience weight decay for regularization and those \n",
    "        that won't (biases, and layernorm/embedding weights).\n",
    "        We are then returning the PyTorch optimizer object.\n",
    "        \"\"\"\n",
    "\n",
    "        # separate out all parameters to those that will and won't \n",
    "        # experience regularizing weight decay\n",
    "        decay = set()\n",
    "        no_decay = set()\n",
    "        whitelist_weight_modules = (torch.nn.Linear, torch.nn.Conv1d)\n",
    "        blacklist_weight_modules = (torch.nn.LayerNorm, torch.nn.Embedding)\n",
    "        for mn, m in self.named_modules():\n",
    "            for pn, p in m.named_parameters():\n",
    "                fpn = '%s.%s' % (mn, pn) if mn else pn # full param name\n",
    "                # random note: because named_modules and named_parameters \n",
    "                # are recursive we will see the same tensors p many many \n",
    "                # times. but doing it this way allows us to know which \n",
    "                # parent module any tensor p belongs to...\n",
    "                if pn.endswith('bias'):\n",
    "                    # all biases will not be decayed\n",
    "                    no_decay.add(fpn)\n",
    "                elif (\n",
    "                    pn.endswith('weight') and\n",
    "                    isinstance(m, whitelist_weight_modules)):\n",
    "                    # weights of whitelist modules will be weight decayed\n",
    "                    decay.add(fpn)\n",
    "                elif (\n",
    "                    pn.endswith('weight') and\n",
    "                    isinstance(m, blacklist_weight_modules)):\n",
    "\n",
    "                    # weights of blacklist modules will NOT be weight decayed\n",
    "                    no_decay.add(fpn)\n",
    "\n",
    "        # subtle: 'transformer.wte.weight' and 'lm_head.weight' are tied, \n",
    "        # so they will appear in the no_decay and decay sets respectively \n",
    "        # after the above.\n",
    "        # In addition, because named_parameters() doesn't return duplicates, \n",
    "        # it will only return the first occurence, key'd by \n",
    "        # 'transformer.wte.weight', below. so let's manually remove \n",
    "        # 'lm_head.weight' from decay set. This will include\n",
    "        # this tensor into optimization via transformer.wte.weight only, \n",
    "        # and not decayed.\n",
    "        decay.remove('lm_head.weight')\n",
    "\n",
    "        # validate that we considered every parameter\n",
    "        param_dict = {pn: p for pn, p in self.named_parameters()}\n",
    "        inter_params = decay & no_decay\n",
    "        union_params = decay | no_decay\n",
    "        assert len(inter_params) == 0, (\n",
    "            f\"parameters {str(inter_params)} made into \" +\n",
    "            \"both decay/no_decay sets!\")\n",
    "        assert len(param_dict.keys() - union_params) == 0, (\n",
    "            f\"parameters {str(param_dict.keys() - union_params)} were not \" +\n",
    "            \"separated into either decay/no_decay set!\")\n",
    "\n",
    "        # create the pytorch optimizer object\n",
    "        optim_groups = [\n",
    "            {\"params\": [param_dict[pn] for pn in sorted(list(decay))],\n",
    "             \"weight_decay\": weight_decay},\n",
    "            {\"params\": [param_dict[pn] for pn in sorted(list(no_decay))],\n",
    "             \"weight_decay\": 0.0},\n",
    "        ]\n",
    "        optimizer = torch.optim.AdamW(\n",
    "            optim_groups, lr=learning_rate, betas=betas)\n",
    "\n",
    "        return optimizer\n",
    "        \n",
    "    def forward(self, idx, targets=None, only_head=False):\n",
    "        device = idx.device\n",
    "        B, T = idx.shape\n",
    "        \n",
    "        assert T <= self.max_seqlen\n",
    "\n",
    "        tok_emb = self.wte(idx) # (B, T, C)\n",
    "        \n",
    "        B, T, C = tok_emb.shape\n",
    "        \n",
    "        pos = torch.arange(\n",
    "            0, T, dtype=torch.long, device=device).unsqueeze(0)\n",
    "        pos_emb = self.wpe(pos)\n",
    "        x = self.dropout(tok_emb + pos_emb)\n",
    "        for block in self.blocks:\n",
    "            x = block(x)\n",
    "        \n",
    "        if only_head:\n",
    "            return x\n",
    "        \n",
    "        if targets is not None:\n",
    "            logits = self.lm_head(x)\n",
    "            B, T, C = logits.shape\n",
    "            logits = logits.view(B*T, C)\n",
    "            targets = targets.view(B*T)\n",
    "            loss = F.cross_entropy(logits, targets)\n",
    "        else:\n",
    "            logits = self.lm_head(x[:, [-1], :])\n",
    "            loss = None\n",
    "\n",
    "        return logits, loss"
   ]
  },
  {
   "cell_type": "code",
   "execution_count": 48,
   "metadata": {},
   "outputs": [
    {
     "data": {
      "text/plain": [
       "102"
      ]
     },
     "execution_count": 48,
     "metadata": {},
     "output_type": "execute_result"
    }
   ],
   "source": [
    "max_seqlen = 1024\n",
    "emb_size = 240\n",
    "n_layers = 6\n",
    "num_heads = 6\n",
    "vocab_size = tokenizer.vocab_size\n",
    "vocab_size"
   ]
  },
  {
   "cell_type": "code",
   "execution_count": 49,
   "metadata": {},
   "outputs": [
    {
     "data": {
      "text/plain": [
       "'4436K parameters (including embeddings)'"
      ]
     },
     "execution_count": 49,
     "metadata": {},
     "output_type": "execute_result"
    }
   ],
   "source": [
    "device = 'cuda'\n",
    "\n",
    "model = LLM(n_layers=n_layers, num_heads=num_heads, embedding_size=emb_size, \n",
    "            vocab_size=vocab_size, max_seqlen=max_seqlen, \n",
    "            dropout=0.2)\n",
    "\n",
    "model = model.to(device)\n",
    "\n",
    "n_params = sum(p.numel() for n, p in model.named_parameters() if p.requires_grad)\n",
    "f'{n_params // 1000}K parameters (including embeddings)'"
   ]
  },
  {
   "cell_type": "code",
   "execution_count": 50,
   "metadata": {},
   "outputs": [],
   "source": [
    "batch_size = 32\n",
    "\n",
    "loss_f = F.cross_entropy\n",
    "\n",
    "def get_batch(data):\n",
    "    ix = torch.randint(len(data) - max_seqlen, (batch_size,))\n",
    "    x = torch.stack([\n",
    "        torch.from_numpy(data[i:i+max_seqlen].astype(np.int64)) for i in ix])\n",
    "    y = torch.stack([\n",
    "        torch.from_numpy(data[i+1:i+max_seqlen+1].astype(np.int64)) for i in ix])\n",
    "    x, y = x.to(device), y.to(device)\n",
    "    return x, y\n",
    "\n",
    "@torch.no_grad()\n",
    "def estimate_loss(x_train, x_test, eval_iters=100):\n",
    "    def _internal(model):\n",
    "        dataset = {'train': x_train, 'val': x_test}\n",
    "        out = {}\n",
    "        model.eval()\n",
    "        for split in ['train', 'val']:\n",
    "            losses = torch.zeros(eval_iters)\n",
    "            for k in range(eval_iters):\n",
    "                X, Y = get_batch(dataset[split])\n",
    "                p, loss = model(X, Y)\n",
    "                losses[k] = loss.item()\n",
    "            out[split] = losses.mean()\n",
    "        model.train()\n",
    "        return out\n",
    "    return _internal\n"
   ]
  },
  {
   "cell_type": "code",
   "execution_count": 51,
   "metadata": {},
   "outputs": [
    {
     "data": {
      "text/plain": [
       "(tensor([42, 79, 86, 89, 92, 90, 33,  7, 95, 25], device='cuda:0'),\n",
       " tensor([79, 86, 89, 92, 90, 33,  7, 95, 25, 68], device='cuda:0'))"
      ]
     },
     "execution_count": 51,
     "metadata": {},
     "output_type": "execute_result"
    }
   ],
   "source": [
    "x1, y1 = get_batch(x_train)\n",
    "x1[0][:10], y1[0][:10]"
   ]
  },
  {
   "cell_type": "code",
   "execution_count": 52,
   "metadata": {},
   "outputs": [],
   "source": [
    "import math\n",
    "\n",
    "def get_lr_func(warmup_iters, learning_rate, lr_decay_iters,  min_lr):\n",
    "    def __get_lr__(it):\n",
    "        nonlocal decay_ratio\n",
    "        # 1) linear warmup for warmup_iters steps\n",
    "        if it < warmup_iters:\n",
    "            return learning_rate * it / warmup_iters\n",
    "        # 2) if it > lr_decay_iters, return min learning rate\n",
    "        if it > lr_decay_iters:\n",
    "            return min_lr\n",
    "        # 3) in between, use cosine decay down to min learning rate\n",
    "        decay_ratio = (it - warmup_iters) / (lr_decay_iters - warmup_iters)\n",
    "        assert 0 <= decay_ratio <= 1\n",
    "        coeff = 0.5 * (1.0 + math.cos(math.pi * decay_ratio)) # coeff ranges 0..1\n",
    "        return min_lr + coeff * (learning_rate - min_lr)\n",
    "\n",
    "    decay_ratio = 0\n",
    "    return __get_lr__\n",
    "\n",
    "learning_rate = 0.002\n",
    "get_lr = get_lr_func(1000, learning_rate, 100000, learning_rate/10)"
   ]
  },
  {
   "cell_type": "code",
   "execution_count": 53,
   "metadata": {},
   "outputs": [],
   "source": [
    "iter_num = 0\n",
    "logs = []"
   ]
  },
  {
   "cell_type": "code",
   "execution_count": null,
   "metadata": {},
   "outputs": [
    {
     "name": "stdout",
     "output_type": "stream",
     "text": [
      "step 0: train loss 4.6233, val loss 4.6234\n",
      "step 100: train loss 2.6140, val loss 2.6156\n",
      "step 200: train loss 2.4045, val loss 2.4138\n",
      "step 300: train loss 2.3871, val loss 2.3909\n",
      "step 400: train loss 2.3686, val loss 2.3774\n",
      "step 500: train loss 2.3604, val loss 2.3687\n",
      "step 600: train loss 2.3389, val loss 2.3466\n",
      "step 700: train loss 2.2592, val loss 2.2676\n",
      "step 800: train loss 1.8327, val loss 1.8488\n",
      "step 900: train loss 1.6412, val loss 1.6550\n"
     ]
    }
   ],
   "source": [
    "epochs = 50000\n",
    "\n",
    "estimate_loss_f = estimate_loss(x_train, x_test, eval_iters=100)\n",
    "\n",
    "optimizer = model.configure_optimizers(\n",
    "    weight_decay=1e-1, learning_rate=learning_rate, betas=(0.9, 0.95), device_type=device)\n",
    "\n",
    "for iter_num in range(iter_num, iter_num + epochs):\n",
    "    learning_rate = get_lr(iter_num)\n",
    "    for param_group in optimizer.param_groups:\n",
    "        param_group['lr'] = learning_rate\n",
    "         \n",
    "    if iter_num % 100 == 0:\n",
    "        losses = estimate_loss_f(model)\n",
    "        print(\n",
    "            f'step {iter_num}: train loss {losses[\"train\"]:.4f}, '\n",
    "            f'val loss {losses[\"val\"]:.4f}')\n",
    "        logs.append((iter_num, losses['train'], losses['val']))\n",
    "\n",
    "    xb, yb = get_batch(x_train)\n",
    "    pb, loss = model(xb, yb)\n",
    "\n",
    "    loss.backward()\n",
    "    optimizer.step()\n",
    "    optimizer.zero_grad()\n"
   ]
  },
  {
   "cell_type": "code",
   "execution_count": 37,
   "metadata": {},
   "outputs": [
    {
     "data": {
      "image/png": "[encoded data removed]",
      "text/plain": [
       "<Figure size 640x480 with 1 Axes>"
      ]
     },
     "metadata": {},
     "output_type": "display_data"
    }
   ],
   "source": [
    "plt.plot([v[1] for v in logs][1:], label='train')\n",
    "plt.plot([v[2] for v in logs][1:], label='val')\n",
    "plt.legend()\n",
    "plt.show()"
   ]
  },
  {
   "cell_type": "code",
   "execution_count": 38,
   "metadata": {},
   "outputs": [
    {
     "data": {
      "text/plain": [
       "memmap([ 0, 48, 14, 84,  7, 85, 86, 91,  7, 90, 91, 86, 85, 76, 75,  7,\n",
       "        73, 92, 91,  7], dtype=uint8)"
      ]
     },
     "execution_count": 38,
     "metadata": {},
     "output_type": "execute_result"
    }
   ],
   "source": [
    "x_test[0:20]"
   ]
  },
  {
   "cell_type": "code",
   "execution_count": 39,
   "metadata": {},
   "outputs": [
    {
     "name": "stdout",
     "output_type": "stream",
     "text": [
      "[START]I'm not stoned but \n"
     ]
    }
   ],
   "source": [
    "print(''.join(tokenizer.decode(x_test[0:20])))"
   ]
  },
  {
   "cell_type": "code",
   "execution_count": 40,
   "metadata": {},
   "outputs": [],
   "source": [
    "@torch.no_grad()\n",
    "def generate(idx, max_new_tokens, top_k=None):\n",
    "    for _ in range(max_new_tokens):\n",
    "        idx_cond = idx if idx.size(1) <= max_seqlen else idx[:, -max_seqlen:]\n",
    "        logits, _ = model(idx_cond)\n",
    "        logits = logits[:, -1, :]\n",
    "        if top_k is not None:\n",
    "            v, _ = torch.topk(logits, min(top_k, logits.size(-1)))\n",
    "            logits[logits < v[:, [-1]]] = -float('Inf')\n",
    "        probs = F.softmax(logits, dim=-1)\n",
    "        idx_next = torch.multinomial(probs, num_samples=1)\n",
    "        if idx_next == 0: break\n",
    "        idx = torch.cat((idx, idx_next), dim=1)\n",
    "    return idx"
   ]
  },
  {
   "cell_type": "code",
   "execution_count": 41,
   "metadata": {},
   "outputs": [
    {
     "data": {
      "text/plain": [
       "array([[ 0, 48, 14, 84,  7, 85, 86, 91,  7, 90, 91, 86, 85, 76, 75,  7,\n",
       "        73, 92, 91,  7, 48, 14, 84,  7, 85, 86, 91,  7, 91, 86,  7, 83,\n",
       "        72, 91, 76,  7,  7,  3, 48,  7, 83, 86, 93, 76,  7, 80, 91,  7,\n",
       "         7,  3, 41, 92, 91,  7, 48, 14, 83, 83,  7, 85, 76, 93, 76, 89,\n",
       "         7, 96, 76, 84, 19,  7, 73, 72, 73, 96,  7,  7,  3,  7,  7,  3,\n",
       "        48,  7, 94, 72, 85, 85, 72,  7, 90, 94, 86, 89, 83, 75,  7, 94,\n",
       "        72, 85, 91,  7, 91, 86,  7, 91, 79, 76,  7, 91, 86,  7, 75, 72,\n",
       "        85, 74, 76,  7,  7,  3, 53, 86, 91, 79, 80, 85, 14,  7, 91, 89,\n",
       "        92, 76,  7, 96, 86, 92,  7, 82, 85, 76, 94,  7,  7,  3,  7,  7,\n",
       "         3, 64, 86, 92, 19,  7, 48, 14, 84,  7, 85, 86, 91,  7, 74, 89,\n",
       "        92, 87, 91, 80, 85, 14,  7, 84, 96,  7, 83, 80, 77, 76,  7,  7,\n",
       "         3, 41, 92, 91,  7, 48, 14, 84,  7, 85, 86, 91,  7, 90, 91, 72,\n",
       "        91, 91, 76, 89,  7,  7,  3, 59, 79, 72, 91,  7, 48,  7, 83, 86,\n",
       "        93, 76,  7, 80, 91, 14, 90,  7, 78, 86, 80, 85, 14,  7, 72, 90,\n",
       "         7, 91, 72, 82, 76, 89,  7,  7,  3,  7,  7,  3, 53, 86, 91,  7,\n",
       "        90, 91, 72, 85, 75, 76, 75,  7, 73, 92, 91,  7, 48,  7, 94, 72,\n",
       "        85, 91,  7, 91, 86,  7, 90, 91, 72, 96,  7,  7,  3, 41, 92, 91,\n",
       "         7, 96, 86, 92,  7, 85, 76, 76, 75,  7, 72, 90,  7, 48,  7, 83,\n",
       "        80, 93, 76,  7,  7,  3, 64, 86, 92, 89,  7, 90, 79, 86, 94,  7,\n",
       "        84, 76,  7, 91, 86,  7, 82, 85, 86, 94,  7,  7,  3,  7,  7,  3,\n",
       "        48,  7, 82, 85, 86, 94,  7, 73, 72, 73, 96,  7, 91, 86,  7, 78,\n",
       "        86, 91, 91, 72,  7, 90, 91, 72, 82, 76,  7,  7,  3,  7,  7,  3,\n",
       "        48, 85, 90, 72, 85, 91, 72, 85, 76,  7,  7,  3, 14, 74, 79, 92,\n",
       "        84, 87, 76, 89,  7, 94, 76, 76, 82,  7, 86, 85,  7, 91, 79, 76,\n",
       "         7, 83, 80, 85, 76,  7,  7,  3, 54, 85, 76,  7, 91, 86,  7, 78,\n",
       "        86, 19,  7,  7,  3, 59, 79, 76,  7, 83, 86, 93, 76,  7, 80, 91,\n",
       "        14, 90,  7, 94, 72, 85, 91, 80, 85, 14,  7,  7,  3, 48,  7, 83,\n",
       "        86, 93, 76,  7, 80, 91,  7, 80, 91,  7, 80, 90,  7, 91, 76, 76,\n",
       "        75,  7, 96, 86, 92, 89,  7, 90, 79, 86, 94, 75,  7, 86, 85,  7,\n",
       "         7,  3, 14, 74, 72, 92, 87, 80, 77, 72, 83, 83, 90,  7,  7,  3,\n",
       "        59, 86,  7, 91, 79, 80, 85, 78,  7, 48, 14, 93, 76,  7, 73, 76,\n",
       "        76, 85,  7, 73, 92, 91,  7, 91, 86,  7, 78, 86, 91,  7, 91, 86,\n",
       "         7, 73, 76, 38,  7,  7,  3, 48, 91, 14, 90,  7, 78, 86, 85, 14,\n",
       "         7, 91, 86,  7, 75, 72, 85, 82,  7, 86, 85,  7, 91, 79, 89, 80,\n",
       "        85, 78,  7,  7,  3, 59, 86,  7, 91, 76, 76, 91,  7, 96, 86, 92,\n",
       "        89,  7, 90, 79, 86, 94, 83, 76, 91,  7, 96, 86, 92,  7, 94, 86,\n",
       "        85, 75, 76, 89, 77, 92, 74, 82, 80, 85, 78, 38,  7,  7,  3, 48,\n",
       "         7, 82, 85, 86, 91,  7, 91, 86,  7, 73, 76,  7, 80, 91, 14, 90,\n",
       "         7, 89, 80, 78, 79, 91,  7,  7,  3,  7,  7,  3, 48,  7, 94, 80,\n",
       "        83, 83,  7, 79, 72, 93, 76,  7, 72,  7, 77, 92, 78, 76, 90,  7,\n",
       "        77, 86, 89,  7, 91, 79, 76,  7, 91, 76, 89, 89, 86, 89,  7, 94,\n",
       "        72, 80, 85, 90,  7,  7,  3, 48, 91, 14, 90,  7, 78, 86, 91, 91,\n",
       "        72,  7, 90, 91, 72, 85, 75, 76, 89,  7, 94, 72, 80, 91, 80, 85,\n",
       "        78, 38,  7,  7,  3, 48,  7, 94, 72, 85, 91, 76, 75,  7, 96, 86,\n",
       "        92,  7, 72, 83, 83,  7, 75, 86, 92, 73, 86, 92, 91,  7,  7,  3,\n",
       "         7,  7,  3, 58, 86, 84, 76, 91, 79, 80, 85, 78, 14, 90,  7, 90,\n",
       "        79, 86,  7, 94, 76, 85, 91,  7, 72, 85, 75,  7, 91, 86, 85,  7,\n",
       "         7,  3, 47, 76,  7, 91, 72, 83, 82,  7, 72, 85, 75,  7, 91, 79,\n",
       "        76,  7, 85, 80, 78, 79, 91,  7,  7,  3, 40, 79, 76, 86, 94,  7,\n",
       "         7,  3, 58, 79, 76,  7, 94, 86, 85, 14, 91,  7, 94, 72, 80, 91,\n",
       "         7, 72,  7, 90, 91, 72, 89, 90,  7,  7,  3, 48,  7, 94, 72, 85,\n",
       "        91,  7, 72, 85, 75,  7, 91, 79, 80, 85, 78,  7,  7,  3, 54, 79,\n",
       "        19,  7, 72, 79, 79, 79, 85, 85, 80, 78, 79, 91, 14, 90,  7, 91,\n",
       "        79, 80, 85, 78,  7,  7,  3,  7,  7,  3, 48, 77,  7, 48,  7, 90,\n",
       "        79, 76, 72, 89,  7, 96, 86, 92,  7, 72, 83, 83,  7, 84, 76, 83,\n",
       "        86, 75, 96,  7,  7,  3, 59, 79, 72, 91,  7, 48,  7, 90, 79, 86,\n",
       "        92, 83, 75,  7, 90, 72, 96,  7, 91, 79, 76,  7, 90, 91, 86, 87,\n",
       "         7, 86, 89,  7, 72, 83, 83,  7, 73, 76,  7, 72, 85, 75,  7, 91,\n",
       "        79, 80, 85, 78, 90,  7,  7,  3, 40, 85, 75,  7, 91, 79, 76,  7,\n",
       "        85, 80, 78, 79, 91,  7,  7,  3, 48,  7, 94, 72, 85, 91, 76, 75,\n",
       "         3,  3]])"
      ]
     },
     "execution_count": 41,
     "metadata": {},
     "output_type": "execute_result"
    }
   ],
   "source": [
    "idx = torch.from_numpy(np.array([x_test[0:20]]).astype(np.int64))\n",
    "result = generate(idx.to(device), max_new_tokens=1024, top_k=10).detach().cpu().numpy()\n",
    "result"
   ]
  },
  {
   "cell_type": "code",
   "execution_count": 42,
   "metadata": {},
   "outputs": [
    {
     "name": "stdout",
     "output_type": "stream",
     "text": [
      "[START]I'm not stoned but I'm not to late  \n",
      "I love it  \n",
      "But I'll never yem, baby  \n",
      "  \n",
      "I wanna sworld want to the to dance  \n",
      "Nothin' true you knew  \n",
      "  \n",
      "You, I'm not cruptin' my life  \n",
      "But I'm not statter  \n",
      "That I love it's goin' as taker  \n",
      "  \n",
      "Not standed but I want to stay  \n",
      "But you need as I live  \n",
      "Your show me to know  \n",
      "  \n",
      "I know baby to gotta stake  \n",
      "  \n",
      "Insantane  \n",
      "'chumper week on the line  \n",
      "One to go,  \n",
      "The love it's wantin'  \n",
      "I love it it is teed your showd on  \n",
      "'caupifalls  \n",
      "To thing I've been but to got to be?  \n",
      "It's gon' to dank on thring  \n",
      "To teet your showlet you wonderfucking?  \n",
      "I knot to be it's right  \n",
      "  \n",
      "I will have a fuges for the terror wains  \n",
      "It's gotta stander waiting?  \n",
      "I wanted you all doubout  \n",
      "  \n",
      "Something's sho went and ton  \n",
      "He talk and the night  \n",
      "Aheow  \n",
      "She won't wait a stars  \n",
      "I want and thing  \n",
      "Oh, ahhhnnight's thing  \n",
      "  \n",
      "If I shear you all melody  \n",
      "That I should say the stop or all be and things  \n",
      "And the night  \n",
      "I wanted\n",
      "\n",
      "\n"
     ]
    }
   ],
   "source": [
    "decoded_sequence = ''.join(tokenizer.decode(result[0]))\n",
    "print(decoded_sequence)"
   ]
  },
  {
   "cell_type": "code",
   "execution_count": null,
   "metadata": {},
   "outputs": [],
   "source": []
  }
 ],
 "metadata": {
  "kernelspec": {
   "display_name": "Python 3 (ipykernel)",
   "language": "python",
   "name": "python3"
  },
  "language_info": {
   "codemirror_mode": {
    "name": "ipython",
    "version": 3
   },
   "file_extension": ".py",
   "mimetype": "text/x-python",
   "name": "python",
   "nbconvert_exporter": "python",
   "pygments_lexer": "ipython3",
   "version": "3.9.12"
  }
 },
 "nbformat": 4,
 "nbformat_minor": 4
}
